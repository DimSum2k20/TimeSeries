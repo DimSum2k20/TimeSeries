{
 "cells": [
  {
   "cell_type": "markdown",
   "metadata": {},
   "source": [
    "# Modèles SARIMA sur l'indice de production industrielle du log du tréfilage à froid"
   ]
  },
  {
   "cell_type": "code",
   "execution_count": 4,
   "metadata": {
    "collapsed": true
   },
   "outputs": [],
   "source": [
    "import pandas as pd\n",
    "import matplotlib.pyplot as plt\n",
    "import matplotlib as mpl\n",
    "import seaborn as sns\n",
    "import numpy as np\n",
    "sns.set()\n",
    "%matplotlib inline\n",
    "import scipy.stats as stats"
   ]
  },
  {
   "cell_type": "markdown",
   "metadata": {},
   "source": [
    "#### Chargement des données brutes"
   ]
  },
  {
   "cell_type": "code",
   "execution_count": 5,
   "metadata": {},
   "outputs": [
    {
     "data": {
      "text/plain": [
       "'/Users/admin/Desktop/ENSAE/2A/S2/Séries temporelles/Projet/TimeSeries'"
      ]
     },
     "execution_count": 5,
     "metadata": {},
     "output_type": "execute_result"
    }
   ],
   "source": [
    "import os\n",
    "os.getcwd()"
   ]
  },
  {
   "cell_type": "code",
   "execution_count": 7,
   "metadata": {},
   "outputs": [
    {
     "data": {
      "text/html": [
       "<div>\n",
       "<style scoped>\n",
       "    .dataframe tbody tr th:only-of-type {\n",
       "        vertical-align: middle;\n",
       "    }\n",
       "\n",
       "    .dataframe tbody tr th {\n",
       "        vertical-align: top;\n",
       "    }\n",
       "\n",
       "    .dataframe thead th {\n",
       "        text-align: right;\n",
       "    }\n",
       "</style>\n",
       "<table border=\"1\" class=\"dataframe\">\n",
       "  <thead>\n",
       "    <tr style=\"text-align: right;\">\n",
       "      <th></th>\n",
       "      <th>Trefilage</th>\n",
       "    </tr>\n",
       "    <tr>\n",
       "      <th>Libellé</th>\n",
       "      <th></th>\n",
       "    </tr>\n",
       "  </thead>\n",
       "  <tbody>\n",
       "    <tr>\n",
       "      <th>1990-01-01</th>\n",
       "      <td>4.717784</td>\n",
       "    </tr>\n",
       "    <tr>\n",
       "      <th>1990-02-01</th>\n",
       "      <td>4.682316</td>\n",
       "    </tr>\n",
       "    <tr>\n",
       "      <th>1990-03-01</th>\n",
       "      <td>4.767374</td>\n",
       "    </tr>\n",
       "    <tr>\n",
       "      <th>1990-04-01</th>\n",
       "      <td>4.669834</td>\n",
       "    </tr>\n",
       "    <tr>\n",
       "      <th>1990-05-01</th>\n",
       "      <td>4.687763</td>\n",
       "    </tr>\n",
       "  </tbody>\n",
       "</table>\n",
       "</div>"
      ],
      "text/plain": [
       "            Trefilage\n",
       "Libellé              \n",
       "1990-01-01   4.717784\n",
       "1990-02-01   4.682316\n",
       "1990-03-01   4.767374\n",
       "1990-04-01   4.669834\n",
       "1990-05-01   4.687763"
      ]
     },
     "execution_count": 7,
     "metadata": {},
     "output_type": "execute_result"
    }
   ],
   "source": [
    "dfT = pd.read_csv(\n",
    "   \"Trefilage/valeurs_mensuelles.csv\",\n",
    "    sep=\";\",\n",
    "    skiprows=[1, 2],\n",
    "    index_col=\"Libellé\",\n",
    "    parse_dates=[\"Libellé\"])\n",
    "dfT.columns = [\"Trefilage\",\"ToDelete\"]\n",
    "del(dfT[\"ToDelete\"])\n",
    "\n",
    "log_dfT = np.log(dfT)\n",
    "log_dfT.head()"
   ]
  },
  {
   "cell_type": "markdown",
   "metadata": {},
   "source": [
    "#### Chargement des données stationnarisées"
   ]
  },
  {
   "cell_type": "code",
   "execution_count": 10,
   "metadata": {},
   "outputs": [
    {
     "data": {
      "text/html": [
       "<div>\n",
       "<style scoped>\n",
       "    .dataframe tbody tr th:only-of-type {\n",
       "        vertical-align: middle;\n",
       "    }\n",
       "\n",
       "    .dataframe tbody tr th {\n",
       "        vertical-align: top;\n",
       "    }\n",
       "\n",
       "    .dataframe thead th {\n",
       "        text-align: right;\n",
       "    }\n",
       "</style>\n",
       "<table border=\"1\" class=\"dataframe\">\n",
       "  <thead>\n",
       "    <tr style=\"text-align: right;\">\n",
       "      <th></th>\n",
       "      <th>Trefilage</th>\n",
       "    </tr>\n",
       "    <tr>\n",
       "      <th>Libellé</th>\n",
       "      <th></th>\n",
       "    </tr>\n",
       "  </thead>\n",
       "  <tbody>\n",
       "    <tr>\n",
       "      <th>1991-02-01</th>\n",
       "      <td>-0.074525</td>\n",
       "    </tr>\n",
       "    <tr>\n",
       "      <th>1991-03-01</th>\n",
       "      <td>-0.075659</td>\n",
       "    </tr>\n",
       "    <tr>\n",
       "      <th>1991-04-01</th>\n",
       "      <td>0.136529</td>\n",
       "    </tr>\n",
       "    <tr>\n",
       "      <th>1991-05-01</th>\n",
       "      <td>-0.130816</td>\n",
       "    </tr>\n",
       "    <tr>\n",
       "      <th>1991-06-01</th>\n",
       "      <td>0.086792</td>\n",
       "    </tr>\n",
       "  </tbody>\n",
       "</table>\n",
       "</div>"
      ],
      "text/plain": [
       "            Trefilage\n",
       "Libellé              \n",
       "1991-02-01  -0.074525\n",
       "1991-03-01  -0.075659\n",
       "1991-04-01   0.136529\n",
       "1991-05-01  -0.130816\n",
       "1991-06-01   0.086792"
      ]
     },
     "execution_count": 10,
     "metadata": {},
     "output_type": "execute_result"
    }
   ],
   "source": [
    "s = pd.read_csv(\"Trefilage/stationnaire.csv\", index_col=\"Libellé\")\n",
    "s.head()"
   ]
  },
  {
   "cell_type": "markdown",
   "metadata": {},
   "source": [
    "## Etude et comparaison de différents modèles SARIMA"
   ]
  },
  {
   "cell_type": "markdown",
   "metadata": {},
   "source": [
    "### Sélection des ordres $p^*, q^*, P^*, Q^*$"
   ]
  },
  {
   "cell_type": "code",
   "execution_count": 12,
   "metadata": {},
   "outputs": [
    {
     "name": "stderr",
     "output_type": "stream",
     "text": [
      "/anaconda/lib/python3.6/site-packages/statsmodels/compat/pandas.py:56: FutureWarning: The pandas.core.datetools module is deprecated and will be removed in a future version. Please use the pandas.tseries module instead.\n",
      "  from pandas.core import datetools\n"
     ]
    }
   ],
   "source": [
    "from statsmodels.graphics.tsaplots import plot_acf, plot_pacf"
   ]
  },
  {
   "cell_type": "markdown",
   "metadata": {},
   "source": [
    "#### Etude des autocorrélogrammes partiels et totaux de la série : $(I-L)^{1}(I-L^{12})^{1}log(X_t)$"
   ]
  },
  {
   "cell_type": "code",
   "execution_count": 13,
   "metadata": {},
   "outputs": [
    {
     "data": {
      "image/png": "[encoded data removed]",
      "text/plain": [
       "<matplotlib.figure.Figure at 0x1c1cd76b00>"
      ]
     },
     "metadata": {},
     "output_type": "display_data"
    },
    {
     "data": {
      "image/png": "[encoded data removed]",
      "text/plain": [
       "<matplotlib.figure.Figure at 0x1c1eeb1da0>"
      ]
     },
     "metadata": {},
     "output_type": "display_data"
    }
   ],
   "source": [
    "with mpl.rc_context():\n",
    "    mpl.rc(\"figure\", figsize=(14,7))\n",
    "\n",
    "    plot_acf(s, lags=50,\n",
    "             title=\"acf logarithme indice brut de la production trefilage a froid\")\n",
    "    plt.savefig(\"Images/acf.png\")\n",
    "\n",
    "    plot_pacf(s, lags=50,\n",
    "             title=\"pacf logarithme indice brut de la production trefilage a froid\")\n",
    "    plt.savefig(\"Images/pacf.png\")"
   ]
  },
  {
   "cell_type": "markdown",
   "metadata": {},
   "source": [
    "**Commentaires:** L'ordre $q$ vraisemblable $\\in \\{0,1\\}$\n",
    "\n",
    "L'ordre $Q$ vraisemblable $\\in \\{0,1\\}$\n",
    "\n",
    "L'ordre $p$ vraisemblable $\\in \\{0, 1, 2, 3, 4, 5, 6\\}$\n",
    "\n",
    "L'ordre $P$ vraisemblable $\\in \\{0, 1, 2\\}$"
   ]
  },
  {
   "cell_type": "markdown",
   "metadata": {},
   "source": [
    "### Sélection de modèles SARIMA - Critères de l'AIC et du BIC"
   ]
  },
  {
   "cell_type": "code",
   "execution_count": 14,
   "metadata": {
    "collapsed": true
   },
   "outputs": [],
   "source": [
    "import warnings\n",
    "warnings.filterwarnings(\"ignore\")"
   ]
  },
  {
   "cell_type": "code",
   "execution_count": 49,
   "metadata": {
    "collapsed": true
   },
   "outputs": [],
   "source": [
    "from statsmodels.tsa.statespace.sarimax import SARIMAX"
   ]
  },
  {
   "cell_type": "markdown",
   "metadata": {},
   "source": [
    "On cherche à sélectionner parmi les modèles valides (dont les résidus sont des bruits blancs) celui qui minimise les deux critères d'information AIC et BIC:"
   ]
  },
  {
   "cell_type": "code",
   "execution_count": 196,
   "metadata": {
    "collapsed": true
   },
   "outputs": [],
   "source": [
    "def evaluate_sarima_ic(dataset, p_values, d_values, q_values, P_values, D_values, Q_values):\n",
    "    \"\"\"\"\"\"\n",
    "\n",
    "    #best_aic, best_bic, best_cfg_1, best_cfg_2, ljung_box = float(\"inf\"), float(\"inf\"), None, None, None\n",
    "    best_aic, best_bic, ljung_box, pvalues_coef = [], [], None, []\n",
    "    \n",
    "    for p in p_values:\n",
    "        for d in d_values:\n",
    "            for q in q_values:\n",
    "                for P in P_values:\n",
    "                    for D in D_values:\n",
    "                        for Q in Q_values:\n",
    "                            \n",
    "                            my_order = (p, d, q)\n",
    "                            my_seasonal_order = (P, D, Q, 12)\n",
    "                            \n",
    "                            try:\n",
    "                                \n",
    "                                model = SARIMAX(dataset, order=my_order, seasonal_order= my_seasonal_order)\n",
    "                                model_fit = model.fit()\n",
    "                                \n",
    "                                # On prend la dernière p-value du test Ljung-box et on compare à 0.05\n",
    "                                ljung_box = min(model_fit.test_serial_correlation('ljungbox')[0,1])\n",
    "                                \n",
    "                                if ljung_box > 0.01:\n",
    "                                \n",
    "                                    # On regarde l'ajustement des modèles valides\n",
    "                                    \n",
    "                                    if p>0:\n",
    "                                        pvalues_coef.append(model_fit.pvalues[\"ar.L\" + str(p)])\n",
    "                                    if q>0:\n",
    "                                        pvalues_coef.append(model_fit.pvalues[\"ma.L\" + str(q)])\n",
    "                                    if P==1:\n",
    "                                        pvalues_coef.append(model_fit.pvalues[\"ar.S.L12\"])\n",
    "                                    if P==2:\n",
    "                                        pvalues_coef.append(model_fit.pvalues[\"ar.S.L24\"])\n",
    "                                    if Q>0:\n",
    "                                        pvalues_coef.append(model_fit.pvalues[\"ma.S.L12\"])\n",
    "                                    \n",
    "                                    if max(pvalues_coef) < 0.05 :\n",
    "                                    \n",
    "                                        best_aic.append([model_fit.aic, my_order, my_seasonal_order])\n",
    "                                        best_bic.append([model_fit.bic, my_order, my_seasonal_order])\n",
    "                                    \n",
    "                            except:\n",
    "                                \n",
    "                                print(\"je n'ai pas convergé : {}\".format([my_order, my_seasonal_order]))\n",
    "                                continue\n",
    "                                \n",
    "    return best_aic, best_bic"
   ]
  },
  {
   "cell_type": "code",
   "execution_count": 203,
   "metadata": {
    "collapsed": true
   },
   "outputs": [],
   "source": [
    "p_values = [0, 1, 2, 3, 4, 5, 6]\n",
    "d_values = [1]\n",
    "q_values = [0, 1]\n",
    "P_values = [0, 1, 2]\n",
    "D_values = [1]\n",
    "Q_values = [0, 1]"
   ]
  },
  {
   "cell_type": "code",
   "execution_count": 197,
   "metadata": {},
   "outputs": [
    {
     "name": "stdout",
     "output_type": "stream",
     "text": [
      "je n'ai pas convergé : [(0, 1, 0), (0, 1, 0, 12)]\n"
     ]
    }
   ],
   "source": [
    "best_aic, best_bic = evaluate_sarima_ic(log_dfT, p_values, d_values, q_values, P_values, D_values, Q_values)"
   ]
  },
  {
   "cell_type": "code",
   "execution_count": 198,
   "metadata": {},
   "outputs": [
    {
     "data": {
      "text/plain": [
       "[[-535.3607695811236, (2, 1, 0), (1, 1, 1, 12)]]"
      ]
     },
     "execution_count": 198,
     "metadata": {},
     "output_type": "execute_result"
    }
   ],
   "source": [
    "sorted(best_aic, key=lambda x:x[0])"
   ]
  },
  {
   "cell_type": "code",
   "execution_count": 199,
   "metadata": {},
   "outputs": [
    {
     "data": {
      "text/plain": [
       "[[-516.0711038087063, (2, 1, 0), (1, 1, 1, 12)]]"
      ]
     },
     "execution_count": 199,
     "metadata": {},
     "output_type": "execute_result"
    }
   ],
   "source": [
    "sorted(best_bic, key=lambda x:x[0])"
   ]
  },
  {
   "cell_type": "markdown",
   "metadata": {},
   "source": [
    "* $SARIMA_{12}(2,1,0)(1,1,1)$"
   ]
  },
  {
   "cell_type": "code",
   "execution_count": 234,
   "metadata": {},
   "outputs": [
    {
     "data": {
      "text/html": [
       "<table class=\"simpletable\">\n",
       "<caption>Statespace Model Results</caption>\n",
       "<tr>\n",
       "  <th>Dep. Variable:</th>              <td>Trefilage</td>           <th>  No. Observations:  </th>    <td>350</td>  \n",
       "</tr>\n",
       "<tr>\n",
       "  <th>Model:</th>           <td>SARIMAX(2, 1, 0)x(1, 1, 1, 12)</td> <th>  Log Likelihood     </th>  <td>272.680</td>\n",
       "</tr>\n",
       "<tr>\n",
       "  <th>Date:</th>                   <td>Tue, 23 Apr 2019</td>        <th>  AIC                </th> <td>-535.361</td>\n",
       "</tr>\n",
       "<tr>\n",
       "  <th>Time:</th>                       <td>09:59:58</td>            <th>  BIC                </th> <td>-516.071</td>\n",
       "</tr>\n",
       "<tr>\n",
       "  <th>Sample:</th>                    <td>01-01-1990</td>           <th>  HQIC               </th> <td>-527.683</td>\n",
       "</tr>\n",
       "<tr>\n",
       "  <th></th>                          <td>- 02-01-2019</td>          <th>                     </th>     <td> </td>   \n",
       "</tr>\n",
       "<tr>\n",
       "  <th>Covariance Type:</th>               <td>opg</td>              <th>                     </th>     <td> </td>   \n",
       "</tr>\n",
       "</table>\n",
       "<table class=\"simpletable\">\n",
       "<tr>\n",
       "      <td></td>        <th>coef</th>     <th>std err</th>      <th>z</th>      <th>P>|z|</th>  <th>[0.025</th>    <th>0.975]</th>  \n",
       "</tr>\n",
       "<tr>\n",
       "  <th>ar.L1</th>    <td>   -0.5654</td> <td>    0.042</td> <td>  -13.609</td> <td> 0.000</td> <td>   -0.647</td> <td>   -0.484</td>\n",
       "</tr>\n",
       "<tr>\n",
       "  <th>ar.L2</th>    <td>   -0.2705</td> <td>    0.049</td> <td>   -5.477</td> <td> 0.000</td> <td>   -0.367</td> <td>   -0.174</td>\n",
       "</tr>\n",
       "<tr>\n",
       "  <th>ar.S.L12</th> <td>    0.5237</td> <td>    0.060</td> <td>    8.710</td> <td> 0.000</td> <td>    0.406</td> <td>    0.642</td>\n",
       "</tr>\n",
       "<tr>\n",
       "  <th>ma.S.L12</th> <td>   -0.8709</td> <td>    0.043</td> <td>  -20.448</td> <td> 0.000</td> <td>   -0.954</td> <td>   -0.787</td>\n",
       "</tr>\n",
       "<tr>\n",
       "  <th>sigma2</th>   <td>    0.0114</td> <td>    0.001</td> <td>   19.274</td> <td> 0.000</td> <td>    0.010</td> <td>    0.013</td>\n",
       "</tr>\n",
       "</table>\n",
       "<table class=\"simpletable\">\n",
       "<tr>\n",
       "  <th>Ljung-Box (Q):</th>          <td>46.76</td> <th>  Jarque-Bera (JB):  </th> <td>162.08</td>\n",
       "</tr>\n",
       "<tr>\n",
       "  <th>Prob(Q):</th>                <td>0.21</td>  <th>  Prob(JB):          </th>  <td>0.00</td> \n",
       "</tr>\n",
       "<tr>\n",
       "  <th>Heteroskedasticity (H):</th> <td>0.90</td>  <th>  Skew:              </th>  <td>-0.48</td>\n",
       "</tr>\n",
       "<tr>\n",
       "  <th>Prob(H) (two-sided):</th>    <td>0.58</td>  <th>  Kurtosis:          </th>  <td>6.26</td> \n",
       "</tr>\n",
       "</table>"
      ],
      "text/plain": [
       "<class 'statsmodels.iolib.summary.Summary'>\n",
       "\"\"\"\n",
       "                                 Statespace Model Results                                 \n",
       "==========================================================================================\n",
       "Dep. Variable:                          Trefilage   No. Observations:                  350\n",
       "Model:             SARIMAX(2, 1, 0)x(1, 1, 1, 12)   Log Likelihood                 272.680\n",
       "Date:                            Tue, 23 Apr 2019   AIC                           -535.361\n",
       "Time:                                    09:59:58   BIC                           -516.071\n",
       "Sample:                                01-01-1990   HQIC                          -527.683\n",
       "                                     - 02-01-2019                                         \n",
       "Covariance Type:                              opg                                         \n",
       "==============================================================================\n",
       "                 coef    std err          z      P>|z|      [0.025      0.975]\n",
       "------------------------------------------------------------------------------\n",
       "ar.L1         -0.5654      0.042    -13.609      0.000      -0.647      -0.484\n",
       "ar.L2         -0.2705      0.049     -5.477      0.000      -0.367      -0.174\n",
       "ar.S.L12       0.5237      0.060      8.710      0.000       0.406       0.642\n",
       "ma.S.L12      -0.8709      0.043    -20.448      0.000      -0.954      -0.787\n",
       "sigma2         0.0114      0.001     19.274      0.000       0.010       0.013\n",
       "===================================================================================\n",
       "Ljung-Box (Q):                       46.76   Jarque-Bera (JB):               162.08\n",
       "Prob(Q):                              0.21   Prob(JB):                         0.00\n",
       "Heteroskedasticity (H):               0.90   Skew:                            -0.48\n",
       "Prob(H) (two-sided):                  0.58   Kurtosis:                         6.26\n",
       "===================================================================================\n",
       "\n",
       "Warnings:\n",
       "[1] Covariance matrix calculated using the outer product of gradients (complex-step).\n",
       "\"\"\""
      ]
     },
     "execution_count": 234,
     "metadata": {},
     "output_type": "execute_result"
    }
   ],
   "source": [
    "sarima_model = SARIMAX(log_dfT, order=(2,1,0), seasonal_order=(1,1,1,12)).fit()\n",
    "sarima_model.summary()"
   ]
  },
  {
   "cell_type": "code",
   "execution_count": 236,
   "metadata": {},
   "outputs": [
    {
     "data": {
      "text/plain": [
       "2019-03-01    4.342718\n",
       "2019-04-01    4.244445\n",
       "2019-05-01    4.176797\n",
       "2019-06-01    4.291688\n",
       "Freq: MS, dtype: float64"
      ]
     },
     "execution_count": 236,
     "metadata": {},
     "output_type": "execute_result"
    }
   ],
   "source": [
    "sarima_model.forecast(4) - "
   ]
  },
  {
   "cell_type": "markdown",
   "metadata": {},
   "source": [
    "### Sélection de modèles SARIMA - Critères de la MSE"
   ]
  },
  {
   "cell_type": "markdown",
   "metadata": {},
   "source": [
    "On cherche, parmi les modèles valides, celui qui minimise le critère de la MSE:"
   ]
  },
  {
   "cell_type": "code",
   "execution_count": 250,
   "metadata": {
    "collapsed": true
   },
   "outputs": [],
   "source": [
    "from sklearn.metrics import mean_squared_error"
   ]
  },
  {
   "cell_type": "code",
   "execution_count": 260,
   "metadata": {
    "collapsed": true
   },
   "outputs": [],
   "source": [
    "def evaluate_sarima_mse(dataset, p_values, d_values, q_values, P_values, D_values, Q_values):\n",
    "    \"\"\"\"\"\"\n",
    "\n",
    "    N = dataset.shape[0]\n",
    "    train = dataset.iloc[1:(N-4)]\n",
    "    test = dataset.iloc[(N-4):N]\n",
    "    \n",
    "    #best_aic, best_bic, best_cfg_1, best_cfg_2, ljung_box = float(\"inf\"), float(\"inf\"), None, None, None\n",
    "    best_mse, ljung_box = [], None\n",
    "    \n",
    "    for p in p_values:\n",
    "        for d in d_values:\n",
    "            for q in q_values:\n",
    "                for P in P_values:\n",
    "                    for D in D_values:\n",
    "                        for Q in Q_values:\n",
    "                            \n",
    "                            my_order = (p, d, q)\n",
    "                            my_seasonal_order = (P, D, Q, 12)\n",
    "                            \n",
    "                            try:\n",
    "                                \n",
    "                                model = SARIMAX(train, order=my_order, seasonal_order= my_seasonal_order)\n",
    "                                model_fit = model.fit()\n",
    "                                \n",
    "                                # On prend la dernière p-value du test Ljung-box et on compare à 0.01\n",
    "                                ljung_box = min(model_fit.test_serial_correlation('ljungbox')[0,1])\n",
    "                                \n",
    "                                if ljung_box > 0.01:\n",
    "                                \n",
    "                                    # On regarde la MSE\n",
    "                                    \n",
    "                                    pred = model_fit.forecast(4)\n",
    "                                    best_mse.append([my_order, my_seasonal_order, mean_squared_error(pred,test)])\n",
    "                                    \n",
    "                                    \n",
    "                            except:\n",
    "                                \n",
    "                                print(\"je n'ai pas convergé : {}\".format([my_order, my_seasonal_order]))\n",
    "                                continue\n",
    "                                \n",
    "    return sorted(best_mse, key=lambda x:x[2])"
   ]
  },
  {
   "cell_type": "code",
   "execution_count": 261,
   "metadata": {},
   "outputs": [
    {
     "name": "stdout",
     "output_type": "stream",
     "text": [
      "je n'ai pas convergé : [(0, 1, 0), (0, 1, 0, 12)]\n"
     ]
    }
   ],
   "source": [
    "best_mse = evaluate_sarima_mse(log_dfT, p_values, d_values, q_values, P_values, D_values, Q_values)"
   ]
  },
  {
   "cell_type": "code",
   "execution_count": 264,
   "metadata": {},
   "outputs": [],
   "source": [
    "best_mse = pd.DataFrame(best_mse, columns=[\"(p,d,q)\",\"(P,D,Q,s)\",\"MSE\"])"
   ]
  },
  {
   "cell_type": "code",
   "execution_count": 265,
   "metadata": {},
   "outputs": [
    {
     "name": "stdout",
     "output_type": "stream",
     "text": [
      "\\begin{tabular}{lllr}\n",
      "\\toprule\n",
      "{} &    (p,d,q) &      (P,D,Q,s) &       MSE \\\\\n",
      "\\midrule\n",
      "0  &  (5, 1, 1) &  (1, 1, 1, 12) &  0.003639 \\\\\n",
      "1  &  (2, 1, 0) &  (1, 1, 1, 12) &  0.003671 \\\\\n",
      "2  &  (5, 1, 0) &  (1, 1, 1, 12) &  0.003698 \\\\\n",
      "3  &  (4, 1, 1) &  (1, 1, 1, 12) &  0.003830 \\\\\n",
      "4  &  (6, 1, 0) &  (1, 1, 1, 12) &  0.003853 \\\\\n",
      "5  &  (6, 1, 1) &  (1, 1, 1, 12) &  0.003899 \\\\\n",
      "6  &  (4, 1, 0) &  (1, 1, 1, 12) &  0.003921 \\\\\n",
      "7  &  (3, 1, 1) &  (1, 1, 1, 12) &  0.003990 \\\\\n",
      "8  &  (2, 1, 1) &  (1, 1, 1, 12) &  0.004055 \\\\\n",
      "9  &  (5, 1, 1) &  (2, 1, 0, 12) &  0.004122 \\\\\n",
      "10 &  (3, 1, 0) &  (1, 1, 1, 12) &  0.004161 \\\\\n",
      "11 &  (2, 1, 0) &  (2, 1, 1, 12) &  0.004402 \\\\\n",
      "12 &  (5, 1, 1) &  (0, 1, 1, 12) &  0.004412 \\\\\n",
      "13 &  (5, 1, 0) &  (0, 1, 1, 12) &  0.004417 \\\\\n",
      "14 &  (5, 1, 0) &  (2, 1, 1, 12) &  0.004513 \\\\\n",
      "15 &  (5, 1, 1) &  (2, 1, 1, 12) &  0.004661 \\\\\n",
      "16 &  (4, 1, 1) &  (2, 1, 1, 12) &  0.004718 \\\\\n",
      "17 &  (3, 1, 1) &  (2, 1, 1, 12) &  0.004783 \\\\\n",
      "18 &  (4, 1, 0) &  (2, 1, 1, 12) &  0.004865 \\\\\n",
      "19 &  (6, 1, 1) &  (2, 1, 0, 12) &  0.004882 \\\\\n",
      "20 &  (6, 1, 1) &  (0, 1, 1, 12) &  0.004903 \\\\\n",
      "21 &  (6, 1, 0) &  (2, 1, 0, 12) &  0.004906 \\\\\n",
      "22 &  (3, 1, 0) &  (2, 1, 1, 12) &  0.004934 \\\\\n",
      "23 &  (6, 1, 0) &  (0, 1, 1, 12) &  0.004955 \\\\\n",
      "24 &  (6, 1, 1) &  (2, 1, 1, 12) &  0.005176 \\\\\n",
      "25 &  (6, 1, 0) &  (2, 1, 1, 12) &  0.005201 \\\\\n",
      "26 &  (5, 1, 1) &  (1, 1, 0, 12) &  0.005672 \\\\\n",
      "27 &  (6, 1, 1) &  (1, 1, 0, 12) &  0.006677 \\\\\n",
      "28 &  (6, 1, 0) &  (1, 1, 0, 12) &  0.006701 \\\\\n",
      "29 &  (3, 1, 1) &  (2, 1, 0, 12) &  0.010624 \\\\\n",
      "30 &  (3, 1, 1) &  (0, 1, 1, 12) &  0.011308 \\\\\n",
      "\\bottomrule\n",
      "\\end{tabular}\n",
      "\n"
     ]
    }
   ],
   "source": [
    "print(best_mse.to_latex())"
   ]
  },
  {
   "cell_type": "markdown",
   "metadata": {
    "collapsed": true
   },
   "source": [
    "## Sorties $\\LaTeX$"
   ]
  },
  {
   "cell_type": "markdown",
   "metadata": {
    "collapsed": true
   },
   "source": [
    "### Tableau avec les 84 modèles"
   ]
  },
  {
   "cell_type": "code",
   "execution_count": 214,
   "metadata": {
    "collapsed": true
   },
   "outputs": [],
   "source": [
    "def evaluate_sarima_tab1(dataset, p_values, d_values, q_values, P_values, D_values, Q_values):\n",
    "    \"\"\"\"\"\"\n",
    "\n",
    "    #best_aic, best_bic, best_cfg_1, best_cfg_2, ljung_box = float(\"inf\"), float(\"inf\"), None, None, None\n",
    "    tableau, ljung_box = [], None\n",
    "    \n",
    "    for p in p_values:\n",
    "        for d in d_values:\n",
    "            for q in q_values:\n",
    "                for P in P_values:\n",
    "                    for D in D_values:\n",
    "                        for Q in Q_values:\n",
    "                            \n",
    "                            my_order = (p, d, q)\n",
    "                            my_seasonal_order = (P, D, Q, 12)\n",
    "                            \n",
    "                            try:\n",
    "                                \n",
    "                                model = SARIMAX(dataset, order=my_order, seasonal_order= my_seasonal_order)\n",
    "                                model_fit = model.fit()\n",
    "                                \n",
    "                                tableau.append([my_order, my_seasonal_order,model_fit.aic, model_fit.bic])\n",
    "                                    \n",
    "                            except:\n",
    "                                \n",
    "                                print(\"je n'ai pas convergé : {}\".format([my_order, my_seasonal_order]))\n",
    "                                continue\n",
    "                                \n",
    "    return tableau"
   ]
  },
  {
   "cell_type": "code",
   "execution_count": 215,
   "metadata": {},
   "outputs": [
    {
     "name": "stdout",
     "output_type": "stream",
     "text": [
      "je n'ai pas convergé : [(0, 1, 0), (0, 1, 0, 12)]\n"
     ]
    }
   ],
   "source": [
    "tab1 = evaluate_sarima_tab1(log_dfT, p_values, d_values, q_values, P_values, D_values, Q_values)"
   ]
  },
  {
   "cell_type": "code",
   "execution_count": 217,
   "metadata": {
    "collapsed": true
   },
   "outputs": [],
   "source": [
    "tab1 = pd.DataFrame(tab1, columns=[\"(p,d,q)\",\"(P,D,Q)\",\"AIC\",\"BIC\"])"
   ]
  },
  {
   "cell_type": "code",
   "execution_count": 218,
   "metadata": {},
   "outputs": [
    {
     "name": "stdout",
     "output_type": "stream",
     "text": [
      "\\begin{tabular}{lllrr}\n",
      "\\toprule\n",
      "{} &    (p,d,q) &        (P,D,Q) &         AIC &         BIC \\\\\n",
      "\\midrule\n",
      "0  &  (0, 1, 0) &  (0, 1, 1, 12) & -418.541409 & -410.825543 \\\\\n",
      "1  &  (0, 1, 0) &  (1, 1, 0, 12) & -414.903621 & -407.187755 \\\\\n",
      "2  &  (0, 1, 0) &  (1, 1, 1, 12) & -440.172095 & -428.598295 \\\\\n",
      "3  &  (0, 1, 0) &  (2, 1, 0, 12) & -414.661528 & -403.087728 \\\\\n",
      "4  &  (0, 1, 0) &  (2, 1, 1, 12) & -438.537881 & -423.106149 \\\\\n",
      "5  &  (0, 1, 1) &  (0, 1, 0, 12) & -495.289234 & -487.573368 \\\\\n",
      "6  &  (0, 1, 1) &  (0, 1, 1, 12) & -525.768905 & -514.195105 \\\\\n",
      "7  &  (0, 1, 1) &  (1, 1, 0, 12) & -516.682735 & -505.108935 \\\\\n",
      "8  &  (0, 1, 1) &  (1, 1, 1, 12) & -541.292191 & -525.860459 \\\\\n",
      "9  &  (0, 1, 1) &  (2, 1, 0, 12) & -518.729156 & -503.297423 \\\\\n",
      "10 &  (0, 1, 1) &  (2, 1, 1, 12) & -540.660004 & -521.370338 \\\\\n",
      "11 &  (1, 1, 0) &  (0, 1, 0, 12) & -472.503426 & -464.787559 \\\\\n",
      "12 &  (1, 1, 0) &  (0, 1, 1, 12) & -492.185536 & -480.611737 \\\\\n",
      "13 &  (1, 1, 0) &  (1, 1, 0, 12) & -486.916506 & -475.342707 \\\\\n",
      "14 &  (1, 1, 0) &  (1, 1, 1, 12) & -511.990567 & -496.558835 \\\\\n",
      "15 &  (1, 1, 0) &  (2, 1, 0, 12) & -487.664796 & -472.233063 \\\\\n",
      "16 &  (1, 1, 0) &  (2, 1, 1, 12) & -510.452462 & -491.162796 \\\\\n",
      "17 &  (1, 1, 1) &  (0, 1, 0, 12) & -493.982675 & -482.408875 \\\\\n",
      "18 &  (1, 1, 1) &  (0, 1, 1, 12) & -523.982678 & -508.550945 \\\\\n",
      "19 &  (1, 1, 1) &  (1, 1, 0, 12) & -514.933910 & -499.502178 \\\\\n",
      "20 &  (1, 1, 1) &  (1, 1, 1, 12) & -539.607984 & -520.318318 \\\\\n",
      "21 &  (1, 1, 1) &  (2, 1, 0, 12) & -517.041052 & -497.751386 \\\\\n",
      "22 &  (1, 1, 1) &  (2, 1, 1, 12) & -538.893922 & -515.746323 \\\\\n",
      "23 &  (2, 1, 0) &  (0, 1, 0, 12) & -492.019845 & -480.446045 \\\\\n",
      "24 &  (2, 1, 0) &  (0, 1, 1, 12) & -518.914241 & -503.482508 \\\\\n",
      "25 &  (2, 1, 0) &  (1, 1, 0, 12) & -511.141987 & -495.710254 \\\\\n",
      "26 &  (2, 1, 0) &  (1, 1, 1, 12) & -535.360770 & -516.071104 \\\\\n",
      "27 &  (2, 1, 0) &  (2, 1, 0, 12) & -513.300247 & -494.010581 \\\\\n",
      "28 &  (2, 1, 0) &  (2, 1, 1, 12) & -534.378946 & -511.231347 \\\\\n",
      "29 &  (2, 1, 1) &  (0, 1, 0, 12) & -492.938214 & -477.506481 \\\\\n",
      "30 &  (2, 1, 1) &  (0, 1, 1, 12) & -522.607059 & -503.317393 \\\\\n",
      "31 &  (2, 1, 1) &  (1, 1, 0, 12) & -513.585120 & -494.295455 \\\\\n",
      "32 &  (2, 1, 1) &  (1, 1, 1, 12) & -538.376243 & -515.228644 \\\\\n",
      "33 &  (2, 1, 1) &  (2, 1, 0, 12) & -515.889867 & -492.742268 \\\\\n",
      "34 &  (2, 1, 1) &  (2, 1, 1, 12) & -537.558777 & -510.553245 \\\\\n",
      "35 &  (3, 1, 0) &  (0, 1, 0, 12) & -491.835026 & -476.403294 \\\\\n",
      "36 &  (3, 1, 0) &  (0, 1, 1, 12) & -519.038636 & -499.748970 \\\\\n",
      "37 &  (3, 1, 0) &  (1, 1, 0, 12) & -510.813684 & -491.524018 \\\\\n",
      "38 &  (3, 1, 0) &  (1, 1, 1, 12) & -535.905198 & -512.757599 \\\\\n",
      "39 &  (3, 1, 0) &  (2, 1, 0, 12) & -513.267593 & -490.119994 \\\\\n",
      "40 &  (3, 1, 0) &  (2, 1, 1, 12) & -534.715118 & -507.709586 \\\\\n",
      "41 &  (3, 1, 1) &  (0, 1, 0, 12) & -490.947525 & -471.657859 \\\\\n",
      "42 &  (3, 1, 1) &  (0, 1, 1, 12) & -532.961217 & -509.813618 \\\\\n",
      "43 &  (3, 1, 1) &  (1, 1, 0, 12) & -526.240097 & -503.092498 \\\\\n",
      "44 &  (3, 1, 1) &  (1, 1, 1, 12) & -536.498705 & -509.493173 \\\\\n",
      "45 &  (3, 1, 1) &  (2, 1, 0, 12) & -527.787700 & -500.782168 \\\\\n",
      "46 &  (3, 1, 1) &  (2, 1, 1, 12) & -535.848438 & -504.984973 \\\\\n",
      "47 &  (4, 1, 0) &  (0, 1, 0, 12) & -492.173408 & -472.883742 \\\\\n",
      "48 &  (4, 1, 0) &  (0, 1, 1, 12) & -522.294736 & -499.147137 \\\\\n",
      "49 &  (4, 1, 0) &  (1, 1, 0, 12) & -513.833553 & -490.685954 \\\\\n",
      "50 &  (4, 1, 0) &  (1, 1, 1, 12) & -537.889108 & -510.883576 \\\\\n",
      "51 &  (4, 1, 0) &  (2, 1, 0, 12) & -515.590344 & -488.584812 \\\\\n",
      "52 &  (4, 1, 0) &  (2, 1, 1, 12) & -537.327429 & -506.463963 \\\\\n",
      "53 &  (4, 1, 1) &  (0, 1, 0, 12) & -490.190032 & -467.042434 \\\\\n",
      "54 &  (4, 1, 1) &  (0, 1, 1, 12) & -521.292561 & -494.287029 \\\\\n",
      "55 &  (4, 1, 1) &  (1, 1, 0, 12) & -512.512178 & -485.506646 \\\\\n",
      "56 &  (4, 1, 1) &  (1, 1, 1, 12) & -536.166231 & -505.302765 \\\\\n",
      "57 &  (4, 1, 1) &  (2, 1, 0, 12) & -514.255498 & -483.392033 \\\\\n",
      "58 &  (4, 1, 1) &  (2, 1, 1, 12) & -535.834655 & -501.113257 \\\\\n",
      "59 &  (5, 1, 0) &  (0, 1, 0, 12) & -490.240297 & -467.092699 \\\\\n",
      "60 &  (5, 1, 0) &  (0, 1, 1, 12) & -522.816642 & -495.811110 \\\\\n",
      "61 &  (5, 1, 0) &  (1, 1, 0, 12) & -513.801251 & -486.795719 \\\\\n",
      "62 &  (5, 1, 0) &  (1, 1, 1, 12) & -536.691611 & -505.828145 \\\\\n",
      "63 &  (5, 1, 0) &  (2, 1, 0, 12) & -515.546676 & -484.683211 \\\\\n",
      "64 &  (5, 1, 0) &  (2, 1, 1, 12) & -536.770220 & -502.048821 \\\\\n",
      "65 &  (5, 1, 1) &  (0, 1, 0, 12) & -488.557372 & -461.551840 \\\\\n",
      "66 &  (5, 1, 1) &  (0, 1, 1, 12) & -523.196974 & -492.333509 \\\\\n",
      "67 &  (5, 1, 1) &  (1, 1, 0, 12) & -514.473397 & -483.609932 \\\\\n",
      "68 &  (5, 1, 1) &  (1, 1, 1, 12) & -535.995881 & -501.274483 \\\\\n",
      "69 &  (5, 1, 1) &  (2, 1, 0, 12) & -516.089818 & -481.368419 \\\\\n",
      "70 &  (5, 1, 1) &  (2, 1, 1, 12) & -534.412421 & -495.833089 \\\\\n",
      "71 &  (6, 1, 0) &  (0, 1, 0, 12) & -493.692058 & -466.686526 \\\\\n",
      "72 &  (6, 1, 0) &  (0, 1, 1, 12) & -524.356115 & -493.492649 \\\\\n",
      "73 &  (6, 1, 0) &  (1, 1, 0, 12) & -516.574155 & -485.710690 \\\\\n",
      "74 &  (6, 1, 0) &  (1, 1, 1, 12) & -538.347359 & -503.625961 \\\\\n",
      "75 &  (6, 1, 0) &  (2, 1, 0, 12) & -517.880022 & -483.158623 \\\\\n",
      "76 &  (6, 1, 0) &  (2, 1, 1, 12) & -538.622610 & -500.043278 \\\\\n",
      "77 &  (6, 1, 1) &  (0, 1, 0, 12) & -491.751099 & -460.887634 \\\\\n",
      "78 &  (6, 1, 1) &  (0, 1, 1, 12) & -522.609283 & -487.887885 \\\\\n",
      "79 &  (6, 1, 1) &  (1, 1, 0, 12) & -514.801594 & -480.080195 \\\\\n",
      "80 &  (6, 1, 1) &  (1, 1, 1, 12) & -536.184729 & -497.605398 \\\\\n",
      "81 &  (6, 1, 1) &  (2, 1, 0, 12) & -516.113166 & -477.533834 \\\\\n",
      "82 &  (6, 1, 1) &  (2, 1, 1, 12) & -536.697156 & -494.259891 \\\\\n",
      "\\bottomrule\n",
      "\\end{tabular}\n",
      "\n"
     ]
    }
   ],
   "source": [
    "print(tab1.to_latex())"
   ]
  },
  {
   "cell_type": "markdown",
   "metadata": {},
   "source": [
    "### Tableau avec les 28 modèles valides + AIC/BIC"
   ]
  },
  {
   "cell_type": "code",
   "execution_count": 205,
   "metadata": {
    "collapsed": true
   },
   "outputs": [],
   "source": [
    "def evaluate_sarima_tab2(dataset, p_values, d_values, q_values, P_values, D_values, Q_values):\n",
    "    \"\"\"\"\"\"\n",
    "\n",
    "    #best_aic, best_bic, best_cfg_1, best_cfg_2, ljung_box = float(\"inf\"), float(\"inf\"), None, None, None\n",
    "    tableau, ljung_box = [], None\n",
    "    \n",
    "    for p in p_values:\n",
    "        for d in d_values:\n",
    "            for q in q_values:\n",
    "                for P in P_values:\n",
    "                    for D in D_values:\n",
    "                        for Q in Q_values:\n",
    "                            \n",
    "                            my_order = (p, d, q)\n",
    "                            my_seasonal_order = (P, D, Q, 12)\n",
    "                            \n",
    "                            try:\n",
    "                                \n",
    "                                model = SARIMAX(dataset, order=my_order, seasonal_order= my_seasonal_order)\n",
    "                                model_fit = model.fit()\n",
    "                                \n",
    "                                # On prend la dernière p-value du test Ljung-box et on compare à 0.05\n",
    "                                ljung_box = min(model_fit.test_serial_correlation('ljungbox')[0,1])\n",
    "                                \n",
    "                                if ljung_box > 0.01:\n",
    "                                    \n",
    "                                    tableau.append([my_order, my_seasonal_order,model_fit.aic, model_fit.bic])\n",
    "                                    \n",
    "                            except:\n",
    "                                \n",
    "                                print(\"je n'ai pas convergé : {}\".format([my_order, my_seasonal_order]))\n",
    "                                continue\n",
    "                                \n",
    "    return tableau"
   ]
  },
  {
   "cell_type": "code",
   "execution_count": 206,
   "metadata": {},
   "outputs": [
    {
     "name": "stdout",
     "output_type": "stream",
     "text": [
      "je n'ai pas convergé : [(0, 1, 0), (0, 1, 0, 12)]\n"
     ]
    }
   ],
   "source": [
    "tab2 = evaluate_sarima_tab2(log_dfT, p_values, d_values, q_values, P_values, D_values, Q_values)"
   ]
  },
  {
   "cell_type": "code",
   "execution_count": 212,
   "metadata": {
    "collapsed": true
   },
   "outputs": [],
   "source": [
    "tab2 = pd.DataFrame(tab2, columns=[\"(p,d,q)\",\"(P,D,Q)\",\"AIC\",\"BIC\"])"
   ]
  },
  {
   "cell_type": "code",
   "execution_count": 213,
   "metadata": {},
   "outputs": [
    {
     "name": "stdout",
     "output_type": "stream",
     "text": [
      "\\begin{tabular}{lllrr}\n",
      "\\toprule\n",
      "{} &    (p,d,q) &        (P,D,Q) &         AIC &         BIC \\\\\n",
      "\\midrule\n",
      "0  &  (2, 1, 0) &  (1, 1, 1, 12) & -535.360770 & -516.071104 \\\\\n",
      "1  &  (2, 1, 0) &  (2, 1, 1, 12) & -534.378946 & -511.231347 \\\\\n",
      "2  &  (2, 1, 1) &  (1, 1, 1, 12) & -538.376243 & -515.228644 \\\\\n",
      "3  &  (3, 1, 0) &  (1, 1, 1, 12) & -535.905198 & -512.757599 \\\\\n",
      "4  &  (3, 1, 0) &  (2, 1, 1, 12) & -534.715118 & -507.709586 \\\\\n",
      "5  &  (3, 1, 1) &  (1, 1, 1, 12) & -536.498705 & -509.493173 \\\\\n",
      "6  &  (4, 1, 0) &  (1, 1, 1, 12) & -537.889108 & -510.883576 \\\\\n",
      "7  &  (4, 1, 0) &  (2, 1, 1, 12) & -537.327429 & -506.463963 \\\\\n",
      "8  &  (4, 1, 1) &  (1, 1, 1, 12) & -536.166231 & -505.302765 \\\\\n",
      "9  &  (4, 1, 1) &  (2, 1, 1, 12) & -535.834655 & -501.113257 \\\\\n",
      "10 &  (5, 1, 0) &  (0, 1, 1, 12) & -522.816642 & -495.811110 \\\\\n",
      "11 &  (5, 1, 0) &  (1, 1, 1, 12) & -536.691611 & -505.828145 \\\\\n",
      "12 &  (5, 1, 0) &  (2, 1, 1, 12) & -536.770220 & -502.048821 \\\\\n",
      "13 &  (5, 1, 1) &  (0, 1, 1, 12) & -523.196974 & -492.333509 \\\\\n",
      "14 &  (5, 1, 1) &  (1, 1, 0, 12) & -514.473397 & -483.609932 \\\\\n",
      "15 &  (5, 1, 1) &  (1, 1, 1, 12) & -535.995881 & -501.274483 \\\\\n",
      "16 &  (5, 1, 1) &  (2, 1, 0, 12) & -516.089818 & -481.368419 \\\\\n",
      "17 &  (5, 1, 1) &  (2, 1, 1, 12) & -534.412421 & -495.833089 \\\\\n",
      "18 &  (6, 1, 0) &  (0, 1, 1, 12) & -524.356115 & -493.492649 \\\\\n",
      "19 &  (6, 1, 0) &  (1, 1, 0, 12) & -516.574155 & -485.710690 \\\\\n",
      "20 &  (6, 1, 0) &  (1, 1, 1, 12) & -538.347359 & -503.625961 \\\\\n",
      "21 &  (6, 1, 0) &  (2, 1, 0, 12) & -517.880022 & -483.158623 \\\\\n",
      "22 &  (6, 1, 0) &  (2, 1, 1, 12) & -538.622610 & -500.043278 \\\\\n",
      "23 &  (6, 1, 1) &  (0, 1, 1, 12) & -522.609283 & -487.887885 \\\\\n",
      "24 &  (6, 1, 1) &  (1, 1, 0, 12) & -514.801594 & -480.080195 \\\\\n",
      "25 &  (6, 1, 1) &  (1, 1, 1, 12) & -536.184729 & -497.605398 \\\\\n",
      "26 &  (6, 1, 1) &  (2, 1, 0, 12) & -516.113166 & -477.533834 \\\\\n",
      "27 &  (6, 1, 1) &  (2, 1, 1, 12) & -536.697156 & -494.259891 \\\\\n",
      "\\bottomrule\n",
      "\\end{tabular}\n",
      "\n"
     ]
    }
   ],
   "source": [
    "print(tab2.to_latex())"
   ]
  },
  {
   "cell_type": "markdown",
   "metadata": {},
   "source": [
    "### Tableau avec les 28 modèles valides + MSE"
   ]
  }
 ],
 "metadata": {
  "kernelspec": {
   "display_name": "Python 3",
   "language": "python",
   "name": "python3"
  },
  "language_info": {
   "codemirror_mode": {
    "name": "ipython",
    "version": 3
   },
   "file_extension": ".py",
   "mimetype": "text/x-python",
   "name": "python",
   "nbconvert_exporter": "python",
   "pygments_lexer": "ipython3",
   "version": "3.6.1"
  },
  "latex_envs": {
   "LaTeX_envs_menu_present": true,
   "autoclose": false,
   "autocomplete": true,
   "bibliofile": "biblio.bib",
   "cite_by": "apalike",
   "current_citInitial": 1,
   "eqLabelWithNumbers": true,
   "eqNumInitial": 1,
   "hotkeys": {
    "equation": "Ctrl-E",
    "itemize": "Ctrl-I"
   },
   "labels_anchors": false,
   "latex_user_defs": false,
   "report_style_numbering": false,
   "user_envs_cfg": false
  },
  "toc": {
   "base_numbering": 1,
   "nav_menu": {},
   "number_sections": true,
   "sideBar": true,
   "skip_h1_title": false,
   "title_cell": "Table of Contents",
   "title_sidebar": "Contents",
   "toc_cell": false,
   "toc_position": {},
   "toc_section_display": true,
   "toc_window_display": true
  },
  "varInspector": {
   "cols": {
    "lenName": 16,
    "lenType": 16,
    "lenVar": 40
   },
   "kernels_config": {
    "python": {
     "delete_cmd_postfix": "",
     "delete_cmd_prefix": "del ",
     "library": "var_list.py",
     "varRefreshCmd": "print(var_dic_list())"
    },
    "r": {
     "delete_cmd_postfix": ") ",
     "delete_cmd_prefix": "rm(",
     "library": "var_list.r",
     "varRefreshCmd": "cat(var_dic_list()) "
    }
   },
   "types_to_exclude": [
    "module",
    "function",
    "builtin_function_or_method",
    "instance",
    "_Feature"
   ],
   "window_display": false
  }
 },
 "nbformat": 4,
 "nbformat_minor": 2
}
