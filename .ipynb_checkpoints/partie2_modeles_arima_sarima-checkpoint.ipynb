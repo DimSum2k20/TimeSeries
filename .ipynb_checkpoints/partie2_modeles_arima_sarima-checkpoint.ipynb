{
 "cells": [
  {
   "cell_type": "markdown",
   "metadata": {},
   "source": [
    "# Modèles ARMA sur le log du commerce d'électricité (stationnarisée)"
   ]
  },
  {
   "cell_type": "code",
   "execution_count": 39,
   "metadata": {},
   "outputs": [],
   "source": [
    "import pandas as pd\n",
    "import matplotlib.pyplot as plt\n",
    "import matplotlib as mpl\n",
    "import seaborn as sns\n",
    "import numpy as np\n",
    "sns.set()\n",
    "%matplotlib inline\n",
    "import scipy.stats as stats"
   ]
  },
  {
   "cell_type": "markdown",
   "metadata": {},
   "source": [
    "#### Chargement des données et différenciation"
   ]
  },
  {
   "cell_type": "code",
   "execution_count": null,
   "metadata": {},
   "outputs": [],
   "source": [
    "import os\n",
    "os.getcwd()"
   ]
  },
  {
   "cell_type": "code",
   "execution_count": 5,
   "metadata": {},
   "outputs": [
    {
     "data": {
      "text/html": [
       "<div>\n",
       "<style scoped>\n",
       "    .dataframe tbody tr th:only-of-type {\n",
       "        vertical-align: middle;\n",
       "    }\n",
       "\n",
       "    .dataframe tbody tr th {\n",
       "        vertical-align: top;\n",
       "    }\n",
       "\n",
       "    .dataframe thead th {\n",
       "        text-align: right;\n",
       "    }\n",
       "</style>\n",
       "<table border=\"1\" class=\"dataframe\">\n",
       "  <thead>\n",
       "    <tr style=\"text-align: right;\">\n",
       "      <th></th>\n",
       "      <th>value</th>\n",
       "    </tr>\n",
       "    <tr>\n",
       "      <th>date</th>\n",
       "      <th></th>\n",
       "    </tr>\n",
       "  </thead>\n",
       "  <tbody>\n",
       "    <tr>\n",
       "      <th>1990-02-01</th>\n",
       "      <td>-0.125571</td>\n",
       "    </tr>\n",
       "    <tr>\n",
       "      <th>1990-03-01</th>\n",
       "      <td>0.067431</td>\n",
       "    </tr>\n",
       "    <tr>\n",
       "      <th>1990-04-01</th>\n",
       "      <td>0.115244</td>\n",
       "    </tr>\n",
       "    <tr>\n",
       "      <th>1990-05-01</th>\n",
       "      <td>-0.112320</td>\n",
       "    </tr>\n",
       "    <tr>\n",
       "      <th>1990-06-01</th>\n",
       "      <td>0.051904</td>\n",
       "    </tr>\n",
       "  </tbody>\n",
       "</table>\n",
       "</div>"
      ],
      "text/plain": [
       "               value\n",
       "date                \n",
       "1990-02-01 -0.125571\n",
       "1990-03-01  0.067431\n",
       "1990-04-01  0.115244\n",
       "1990-05-01 -0.112320\n",
       "1990-06-01  0.051904"
      ]
     },
     "execution_count": 5,
     "metadata": {},
     "output_type": "execute_result"
    }
   ],
   "source": [
    "s = pd.read_csv(\"Electricite/stationnaire.csv\",header=None)\n",
    "s.columns = [\"date\",\"value\"]\n",
    "s = s.set_index(\"date\")\n",
    "s.head()"
   ]
  },
  {
   "cell_type": "markdown",
   "metadata": {},
   "source": [
    "## Etude et comparaison de différents modèles ARMA"
   ]
  },
  {
   "cell_type": "code",
   "execution_count": 84,
   "metadata": {},
   "outputs": [],
   "source": [
    "from statsmodels.graphics.tsaplots import plot_acf, plot_pacf\n",
    "from statsmodels.tsa.arima_model import ARIMA"
   ]
  },
  {
   "cell_type": "markdown",
   "metadata": {},
   "source": [
    "### Sélection de modèles ARMA - Etude des fonctions d'autocorrélogrammes"
   ]
  },
  {
   "cell_type": "code",
   "execution_count": null,
   "metadata": {},
   "outputs": [],
   "source": [
    "with mpl.rc_context():\n",
    "    mpl.rc(\"figure\", figsize=(10,10))\n",
    "    plot_acf(s.values, lags=60, title=\"acf log commerce Elec stationnaire\")"
   ]
  },
  {
   "cell_type": "markdown",
   "metadata": {},
   "source": [
    "Ordre maximum $q^*$ que l'on va considérer sera $q=4$"
   ]
  },
  {
   "cell_type": "code",
   "execution_count": null,
   "metadata": {},
   "outputs": [],
   "source": [
    "with mpl.rc_context():\n",
    "    mpl.rc(\"figure\", figsize=(10,10))\n",
    "    plot_pacf(s.values, lags=60, title=\"pacf log commerce Elec stationnaire\")"
   ]
  },
  {
   "cell_type": "markdown",
   "metadata": {},
   "source": [
    "Ordre maximum $p^*$ que l'on va considérer sera p=7 même si des auotocorrélations partielles significatives apparaissent aux ordres 38 et 43.\n",
    "\n",
    "**Commentaires:** Il y a encore des autocorrélations partielles significatives à des seuils encore élevé. Que faire ?"
   ]
  },
  {
   "cell_type": "markdown",
   "metadata": {},
   "source": [
    "### Sélection de modèles ARMA - Critères de l'AIC et du BIC"
   ]
  },
  {
   "cell_type": "code",
   "execution_count": 12,
   "metadata": {},
   "outputs": [],
   "source": [
    "import warnings\n",
    "warnings.filterwarnings(\"ignore\")"
   ]
  },
  {
   "cell_type": "markdown",
   "metadata": {},
   "source": [
    "On cherche à sélectionner parmi plusieurs modèles celui qui minimise les deux critères d'information AIC et BIC. On se sert des deux fonctions suivantes:"
   ]
  },
  {
   "cell_type": "code",
   "execution_count": 22,
   "metadata": {},
   "outputs": [],
   "source": [
    "def evaluate_arima_ic(dataset, p_values, d_values, q_values):\n",
    "    \"\"\"\"\"\"\n",
    "\n",
    "    X = dataset.values.astype('float32')\n",
    "\n",
    "    best_aic, best_bic, best_cfg_1, best_cfg_2 = float(\"inf\"), float(\"inf\"), None, None\n",
    "    for p in p_values:\n",
    "        for d in d_values:\n",
    "            for q in q_values:\n",
    "                order = (p, d, q)\n",
    "                try:\n",
    "                    model = ARIMA(X, order=order)\n",
    "                    model_fit = model.fit()\n",
    "                    aic = model_fit.aic\n",
    "                    bic = model_fit.bic\n",
    "                    if aic < best_aic:\n",
    "                        best_aic, best_cfg_1 = aic, order\n",
    "                    if bic < best_bic:\n",
    "                        best_bic, best_cfg_2 = bic, order\n",
    "                    print('ARIMA: %s AIC = %.3f' % (order, aic))\n",
    "                    print('ARIMA: %s BIC = %.3f' % (order, bic))\n",
    "                except:\n",
    "                    print(\"je n'ai pas convergé : {}\".format(order))\n",
    "                    continue\n",
    "    return best_cfg_1, best_cfg_2"
   ]
  },
  {
   "cell_type": "code",
   "execution_count": 112,
   "metadata": {},
   "outputs": [
    {
     "ename": "ValueError",
     "evalue": "The computed initial MA coefficients are not invertible\nYou should induce invertibility, choose a different model order, or you can\npass your own start_params.",
     "output_type": "error",
     "traceback": [
      "\u001b[0;31m---------------------------------------------------------------------------\u001b[0m",
      "\u001b[0;31mValueError\u001b[0m                                Traceback (most recent call last)",
      "\u001b[0;32m<ipython-input-112-5e730a97c260>\u001b[0m in \u001b[0;36m<module>\u001b[0;34m()\u001b[0m\n\u001b[1;32m      1\u001b[0m \u001b[0mmodel\u001b[0m \u001b[0;34m=\u001b[0m \u001b[0mARIMA\u001b[0m\u001b[0;34m(\u001b[0m\u001b[0ms\u001b[0m\u001b[0;34m,\u001b[0m \u001b[0morder\u001b[0m\u001b[0;34m=\u001b[0m\u001b[0;34m(\u001b[0m\u001b[0;36m6\u001b[0m\u001b[0;34m,\u001b[0m\u001b[0;36m0\u001b[0m\u001b[0;34m,\u001b[0m\u001b[0;36m4\u001b[0m\u001b[0;34m)\u001b[0m\u001b[0;34m)\u001b[0m\u001b[0;34m\u001b[0m\u001b[0m\n\u001b[0;32m----> 2\u001b[0;31m \u001b[0mmodel\u001b[0m\u001b[0;34m.\u001b[0m\u001b[0mfit\u001b[0m\u001b[0;34m(\u001b[0m\u001b[0mmaxiter\u001b[0m\u001b[0;34m=\u001b[0m\u001b[0;36m5000\u001b[0m\u001b[0;34m)\u001b[0m\u001b[0;34m.\u001b[0m\u001b[0mbic\u001b[0m\u001b[0;34m\u001b[0m\u001b[0m\n\u001b[0m",
      "\u001b[0;32m/usr/local/lib/python2.7/site-packages/statsmodels/tsa/arima_model.pyc\u001b[0m in \u001b[0;36mfit\u001b[0;34m(self, start_params, trend, method, transparams, solver, maxiter, full_output, disp, callback, start_ar_lags, **kwargs)\u001b[0m\n\u001b[1;32m    944\u001b[0m         \u001b[0;32melse\u001b[0m\u001b[0;34m:\u001b[0m  \u001b[0;31m# estimate starting parameters\u001b[0m\u001b[0;34m\u001b[0m\u001b[0m\n\u001b[1;32m    945\u001b[0m             start_params = self._fit_start_params((k_ar, k_ma, k), method,\n\u001b[0;32m--> 946\u001b[0;31m                                                   start_ar_lags)\n\u001b[0m\u001b[1;32m    947\u001b[0m \u001b[0;34m\u001b[0m\u001b[0m\n\u001b[1;32m    948\u001b[0m         \u001b[0;32mif\u001b[0m \u001b[0mtransparams\u001b[0m\u001b[0;34m:\u001b[0m  \u001b[0;31m# transform initial parameters to ensure invertibility\u001b[0m\u001b[0;34m\u001b[0m\u001b[0m\n",
      "\u001b[0;32m/usr/local/lib/python2.7/site-packages/statsmodels/tsa/arima_model.pyc\u001b[0m in \u001b[0;36m_fit_start_params\u001b[0;34m(self, order, method, start_ar_lags)\u001b[0m\n\u001b[1;32m    560\u001b[0m             \u001b[0mfunc\u001b[0m \u001b[0;34m=\u001b[0m \u001b[0;32mlambda\u001b[0m \u001b[0mparams\u001b[0m\u001b[0;34m:\u001b[0m \u001b[0;34m-\u001b[0m\u001b[0mself\u001b[0m\u001b[0;34m.\u001b[0m\u001b[0mloglike_css\u001b[0m\u001b[0;34m(\u001b[0m\u001b[0mparams\u001b[0m\u001b[0;34m)\u001b[0m\u001b[0;34m\u001b[0m\u001b[0m\n\u001b[1;32m    561\u001b[0m             \u001b[0;31m#start_params = [.1]*(k_ar+k_ma+k_exog) # different one for k?\u001b[0m\u001b[0;34m\u001b[0m\u001b[0;34m\u001b[0m\u001b[0m\n\u001b[0;32m--> 562\u001b[0;31m             \u001b[0mstart_params\u001b[0m \u001b[0;34m=\u001b[0m \u001b[0mself\u001b[0m\u001b[0;34m.\u001b[0m\u001b[0m_fit_start_params_hr\u001b[0m\u001b[0;34m(\u001b[0m\u001b[0morder\u001b[0m\u001b[0;34m,\u001b[0m \u001b[0mstart_ar_lags\u001b[0m\u001b[0;34m)\u001b[0m\u001b[0;34m\u001b[0m\u001b[0m\n\u001b[0m\u001b[1;32m    563\u001b[0m             \u001b[0;32mif\u001b[0m \u001b[0mself\u001b[0m\u001b[0;34m.\u001b[0m\u001b[0mtransparams\u001b[0m\u001b[0;34m:\u001b[0m\u001b[0;34m\u001b[0m\u001b[0m\n\u001b[1;32m    564\u001b[0m                 \u001b[0mstart_params\u001b[0m \u001b[0;34m=\u001b[0m \u001b[0mself\u001b[0m\u001b[0;34m.\u001b[0m\u001b[0m_invtransparams\u001b[0m\u001b[0;34m(\u001b[0m\u001b[0mstart_params\u001b[0m\u001b[0;34m)\u001b[0m\u001b[0;34m\u001b[0m\u001b[0m\n",
      "\u001b[0;32m/usr/local/lib/python2.7/site-packages/statsmodels/tsa/arima_model.pyc\u001b[0m in \u001b[0;36m_fit_start_params_hr\u001b[0;34m(self, order, start_ar_lags)\u001b[0m\n\u001b[1;32m    546\u001b[0m         elif q and not np.all(np.abs(np.roots(np.r_[1, start_params[k + p:]]\n\u001b[1;32m    547\u001b[0m                                               )) < 1):\n\u001b[0;32m--> 548\u001b[0;31m             raise ValueError(\"The computed initial MA coefficients are not \"\n\u001b[0m\u001b[1;32m    549\u001b[0m                              \u001b[0;34m\"invertible\\nYou should induce invertibility, \"\u001b[0m\u001b[0;34m\u001b[0m\u001b[0m\n\u001b[1;32m    550\u001b[0m                              \u001b[0;34m\"choose a different model order, or you can\\n\"\u001b[0m\u001b[0;34m\u001b[0m\u001b[0m\n",
      "\u001b[0;31mValueError\u001b[0m: The computed initial MA coefficients are not invertible\nYou should induce invertibility, choose a different model order, or you can\npass your own start_params."
     ]
    }
   ],
   "source": [
    "model = ARIMA(s, order=(6,0,4))\n",
    "model.fit(maxiter=5000).bic"
   ]
  },
  {
   "cell_type": "code",
   "execution_count": 23,
   "metadata": {},
   "outputs": [],
   "source": [
    "p_values = [0, 1, 2, 3, 4, 5, 6, 7]\n",
    "d_values = [0]\n",
    "q_values = [0, 1, 2, 3, 4]"
   ]
  },
  {
   "cell_type": "code",
   "execution_count": 26,
   "metadata": {},
   "outputs": [
    {
     "name": "stdout",
     "output_type": "stream",
     "text": [
      "ARIMA: (0, 0, 0) AIC = -1042.137\n",
      "ARIMA: (0, 0, 0) BIC = -1034.427\n",
      "ARIMA: (0, 0, 1) AIC = -1171.858\n",
      "ARIMA: (0, 0, 1) BIC = -1160.293\n",
      "ARIMA: (0, 0, 2) AIC = -1179.293\n",
      "ARIMA: (0, 0, 2) BIC = -1163.872\n",
      "ARIMA: (0, 0, 3) AIC = -1177.481\n",
      "ARIMA: (0, 0, 3) BIC = -1158.206\n",
      "je n'ai pas convergé : (0, 0, 4)\n",
      "ARIMA: (1, 0, 0) AIC = -1101.851\n",
      "ARIMA: (1, 0, 0) BIC = -1090.285\n",
      "ARIMA: (1, 0, 1) AIC = -1179.678\n",
      "ARIMA: (1, 0, 1) BIC = -1164.258\n",
      "ARIMA: (1, 0, 2) AIC = -1177.706\n",
      "ARIMA: (1, 0, 2) BIC = -1158.430\n",
      "ARIMA: (1, 0, 3) AIC = -1175.808\n",
      "ARIMA: (1, 0, 3) BIC = -1152.677\n",
      "ARIMA: (1, 0, 4) AIC = -1177.170\n",
      "ARIMA: (1, 0, 4) BIC = -1150.185\n",
      "ARIMA: (2, 0, 0) AIC = -1129.819\n",
      "ARIMA: (2, 0, 0) BIC = -1114.399\n",
      "ARIMA: (2, 0, 1) AIC = -1177.703\n",
      "ARIMA: (2, 0, 1) BIC = -1158.428\n",
      "ARIMA: (2, 0, 2) AIC = -1181.574\n",
      "ARIMA: (2, 0, 2) BIC = -1158.444\n",
      "ARIMA: (2, 0, 3) AIC = -1176.178\n",
      "ARIMA: (2, 0, 3) BIC = -1149.192\n",
      "ARIMA: (2, 0, 4) AIC = -1181.544\n",
      "ARIMA: (2, 0, 4) BIC = -1150.704\n",
      "ARIMA: (3, 0, 0) AIC = -1131.530\n",
      "ARIMA: (3, 0, 0) BIC = -1112.255\n",
      "ARIMA: (3, 0, 1) AIC = -1175.785\n",
      "ARIMA: (3, 0, 1) BIC = -1152.654\n",
      "ARIMA: (3, 0, 2) AIC = -1175.688\n",
      "ARIMA: (3, 0, 2) BIC = -1148.703\n",
      "je n'ai pas convergé : (3, 0, 3)\n",
      "je n'ai pas convergé : (3, 0, 4)\n",
      "ARIMA: (4, 0, 0) AIC = -1152.913\n",
      "ARIMA: (4, 0, 0) BIC = -1129.783\n",
      "ARIMA: (4, 0, 1) AIC = -1180.931\n",
      "ARIMA: (4, 0, 1) BIC = -1153.945\n",
      "ARIMA: (4, 0, 2) AIC = -1179.087\n",
      "ARIMA: (4, 0, 2) BIC = -1148.246\n",
      "ARIMA: (4, 0, 3) AIC = -1178.505\n",
      "ARIMA: (4, 0, 3) BIC = -1143.810\n",
      "je n'ai pas convergé : (4, 0, 4)\n",
      "ARIMA: (5, 0, 0) AIC = -1165.808\n",
      "ARIMA: (5, 0, 0) BIC = -1138.822\n",
      "ARIMA: (5, 0, 1) AIC = -1179.241\n",
      "ARIMA: (5, 0, 1) BIC = -1148.400\n",
      "je n'ai pas convergé : (5, 0, 2)\n",
      "je n'ai pas convergé : (5, 0, 3)\n",
      "je n'ai pas convergé : (5, 0, 4)\n",
      "ARIMA: (6, 0, 0) AIC = -1165.941\n",
      "ARIMA: (6, 0, 0) BIC = -1135.101\n",
      "ARIMA: (6, 0, 1) AIC = -1178.323\n",
      "ARIMA: (6, 0, 1) BIC = -1143.627\n",
      "ARIMA: (6, 0, 2) AIC = -1176.923\n",
      "ARIMA: (6, 0, 2) BIC = -1138.373\n",
      "je n'ai pas convergé : (6, 0, 3)\n",
      "je n'ai pas convergé : (6, 0, 4)\n",
      "ARIMA: (7, 0, 0) AIC = -1169.641\n",
      "ARIMA: (7, 0, 0) BIC = -1134.945\n",
      "ARIMA: (7, 0, 1) AIC = -1176.918\n",
      "ARIMA: (7, 0, 1) BIC = -1138.367\n",
      "ARIMA: (7, 0, 2) AIC = -1180.498\n",
      "ARIMA: (7, 0, 2) BIC = -1138.092\n",
      "ARIMA: (7, 0, 3) AIC = -1177.112\n",
      "ARIMA: (7, 0, 3) BIC = -1130.851\n",
      "je n'ai pas convergé : (7, 0, 4)\n"
     ]
    }
   ],
   "source": [
    "best_aic, best_bic = evaluate_arima_ic(s, p_values, d_values, q_values)"
   ]
  },
  {
   "cell_type": "code",
   "execution_count": 27,
   "metadata": {},
   "outputs": [
    {
     "name": "stdout",
     "output_type": "stream",
     "text": [
      "Best ARIMA: (2, 0, 2)\n",
      "Best ARIMA: (1, 0, 1)\n"
     ]
    }
   ],
   "source": [
    "print('Best ARIMA: {}'.format(best_aic))\n",
    "print('Best ARIMA: {}'.format(best_bic))"
   ]
  },
  {
   "cell_type": "code",
   "execution_count": 30,
   "metadata": {
    "scrolled": true
   },
   "outputs": [
    {
     "data": {
      "text/html": [
       "<table class=\"simpletable\">\n",
       "<caption>ARMA Model Results</caption>\n",
       "<tr>\n",
       "  <th>Dep. Variable:</th>       <td>value</td>      <th>  No. Observations:  </th>    <td>349</td>   \n",
       "</tr>\n",
       "<tr>\n",
       "  <th>Model:</th>            <td>ARMA(2, 2)</td>    <th>  Log Likelihood     </th>  <td>593.840</td> \n",
       "</tr>\n",
       "<tr>\n",
       "  <th>Method:</th>             <td>css-mle</td>     <th>  S.D. of innovations</th>   <td>0.044</td>  \n",
       "</tr>\n",
       "<tr>\n",
       "  <th>Date:</th>          <td>Thu, 18 Apr 2019</td> <th>  AIC                </th> <td>-1175.680</td>\n",
       "</tr>\n",
       "<tr>\n",
       "  <th>Time:</th>              <td>18:41:45</td>     <th>  BIC                </th> <td>-1152.550</td>\n",
       "</tr>\n",
       "<tr>\n",
       "  <th>Sample:</th>           <td>02-01-1990</td>    <th>  HQIC               </th> <td>-1166.473</td>\n",
       "</tr>\n",
       "<tr>\n",
       "  <th></th>                 <td>- 02-01-2019</td>   <th>                     </th>     <td> </td>    \n",
       "</tr>\n",
       "</table>\n",
       "<table class=\"simpletable\">\n",
       "<tr>\n",
       "       <td></td>          <th>coef</th>     <th>std err</th>      <th>z</th>      <th>P>|z|</th>  <th>[0.025</th>    <th>0.975]</th>  \n",
       "</tr>\n",
       "<tr>\n",
       "  <th>const</th>       <td>    0.0013</td> <td>    0.000</td> <td>    4.073</td> <td> 0.000</td> <td>    0.001</td> <td>    0.002</td>\n",
       "</tr>\n",
       "<tr>\n",
       "  <th>ar.L1.value</th> <td>    0.5773</td> <td>      nan</td> <td>      nan</td> <td>   nan</td> <td>      nan</td> <td>      nan</td>\n",
       "</tr>\n",
       "<tr>\n",
       "  <th>ar.L2.value</th> <td>   -0.0776</td> <td>      nan</td> <td>      nan</td> <td>   nan</td> <td>      nan</td> <td>      nan</td>\n",
       "</tr>\n",
       "<tr>\n",
       "  <th>ma.L1.value</th> <td>   -1.2738</td> <td>      nan</td> <td>      nan</td> <td>   nan</td> <td>      nan</td> <td>      nan</td>\n",
       "</tr>\n",
       "<tr>\n",
       "  <th>ma.L2.value</th> <td>    0.3405</td> <td>      nan</td> <td>      nan</td> <td>   nan</td> <td>      nan</td> <td>      nan</td>\n",
       "</tr>\n",
       "</table>\n",
       "<table class=\"simpletable\">\n",
       "<caption>Roots</caption>\n",
       "<tr>\n",
       "    <td></td>   <th>            Real</th>  <th>         Imaginary</th> <th>         Modulus</th>  <th>        Frequency</th>\n",
       "</tr>\n",
       "<tr>\n",
       "  <th>AR.1</th> <td>           2.7422</td> <td>          +0.0000j</td> <td>           2.7422</td> <td>           0.0000</td>\n",
       "</tr>\n",
       "<tr>\n",
       "  <th>AR.2</th> <td>           4.7024</td> <td>          +0.0000j</td> <td>           4.7024</td> <td>           0.0000</td>\n",
       "</tr>\n",
       "<tr>\n",
       "  <th>MA.1</th> <td>           1.1210</td> <td>          +0.0000j</td> <td>           1.1210</td> <td>           0.0000</td>\n",
       "</tr>\n",
       "<tr>\n",
       "  <th>MA.2</th> <td>           2.6199</td> <td>          +0.0000j</td> <td>           2.6199</td> <td>           0.0000</td>\n",
       "</tr>\n",
       "</table>"
      ],
      "text/plain": [
       "<class 'statsmodels.iolib.summary.Summary'>\n",
       "\"\"\"\n",
       "                              ARMA Model Results                              \n",
       "==============================================================================\n",
       "Dep. Variable:                  value   No. Observations:                  349\n",
       "Model:                     ARMA(2, 2)   Log Likelihood                 593.840\n",
       "Method:                       css-mle   S.D. of innovations              0.044\n",
       "Date:                Thu, 18 Apr 2019   AIC                          -1175.680\n",
       "Time:                        18:41:45   BIC                          -1152.550\n",
       "Sample:                    02-01-1990   HQIC                         -1166.473\n",
       "                         - 02-01-2019                                         \n",
       "===============================================================================\n",
       "                  coef    std err          z      P>|z|      [0.025      0.975]\n",
       "-------------------------------------------------------------------------------\n",
       "const           0.0013      0.000      4.073      0.000       0.001       0.002\n",
       "ar.L1.value     0.5773        nan        nan        nan         nan         nan\n",
       "ar.L2.value    -0.0776        nan        nan        nan         nan         nan\n",
       "ma.L1.value    -1.2738        nan        nan        nan         nan         nan\n",
       "ma.L2.value     0.3405        nan        nan        nan         nan         nan\n",
       "                                    Roots                                    \n",
       "=============================================================================\n",
       "                  Real          Imaginary           Modulus         Frequency\n",
       "-----------------------------------------------------------------------------\n",
       "AR.1            2.7422           +0.0000j            2.7422            0.0000\n",
       "AR.2            4.7024           +0.0000j            4.7024            0.0000\n",
       "MA.1            1.1210           +0.0000j            1.1210            0.0000\n",
       "MA.2            2.6199           +0.0000j            2.6199            0.0000\n",
       "-----------------------------------------------------------------------------\n",
       "\"\"\""
      ]
     },
     "execution_count": 30,
     "metadata": {},
     "output_type": "execute_result"
    }
   ],
   "source": [
    "arima_model = ARIMA(s, order=(2,0,2)).fit()\n",
    "arima_model.summary()"
   ]
  },
  {
   "cell_type": "code",
   "execution_count": 29,
   "metadata": {},
   "outputs": [
    {
     "data": {
      "text/html": [
       "<table class=\"simpletable\">\n",
       "<caption>ARMA Model Results</caption>\n",
       "<tr>\n",
       "  <th>Dep. Variable:</th>       <td>value</td>      <th>  No. Observations:  </th>    <td>349</td>   \n",
       "</tr>\n",
       "<tr>\n",
       "  <th>Model:</th>            <td>ARMA(1, 1)</td>    <th>  Log Likelihood     </th>  <td>593.839</td> \n",
       "</tr>\n",
       "<tr>\n",
       "  <th>Method:</th>             <td>css-mle</td>     <th>  S.D. of innovations</th>   <td>0.044</td>  \n",
       "</tr>\n",
       "<tr>\n",
       "  <th>Date:</th>          <td>Thu, 18 Apr 2019</td> <th>  AIC                </th> <td>-1179.678</td>\n",
       "</tr>\n",
       "<tr>\n",
       "  <th>Time:</th>              <td>18:41:20</td>     <th>  BIC                </th> <td>-1164.258</td>\n",
       "</tr>\n",
       "<tr>\n",
       "  <th>Sample:</th>           <td>02-01-1990</td>    <th>  HQIC               </th> <td>-1173.540</td>\n",
       "</tr>\n",
       "<tr>\n",
       "  <th></th>                 <td>- 02-01-2019</td>   <th>                     </th>     <td> </td>    \n",
       "</tr>\n",
       "</table>\n",
       "<table class=\"simpletable\">\n",
       "<tr>\n",
       "       <td></td>          <th>coef</th>     <th>std err</th>      <th>z</th>      <th>P>|z|</th>  <th>[0.025</th>    <th>0.975]</th>  \n",
       "</tr>\n",
       "<tr>\n",
       "  <th>const</th>       <td>    0.0013</td> <td>    0.000</td> <td>    4.084</td> <td> 0.000</td> <td>    0.001</td> <td>    0.002</td>\n",
       "</tr>\n",
       "<tr>\n",
       "  <th>ar.L1.value</th> <td>    0.1963</td> <td>    0.061</td> <td>    3.216</td> <td> 0.001</td> <td>    0.077</td> <td>    0.316</td>\n",
       "</tr>\n",
       "<tr>\n",
       "  <th>ma.L1.value</th> <td>   -0.8931</td> <td>    0.027</td> <td>  -32.962</td> <td> 0.000</td> <td>   -0.946</td> <td>   -0.840</td>\n",
       "</tr>\n",
       "</table>\n",
       "<table class=\"simpletable\">\n",
       "<caption>Roots</caption>\n",
       "<tr>\n",
       "    <td></td>   <th>            Real</th>  <th>         Imaginary</th> <th>         Modulus</th>  <th>        Frequency</th>\n",
       "</tr>\n",
       "<tr>\n",
       "  <th>AR.1</th> <td>           5.0952</td> <td>          +0.0000j</td> <td>           5.0952</td> <td>           0.0000</td>\n",
       "</tr>\n",
       "<tr>\n",
       "  <th>MA.1</th> <td>           1.1197</td> <td>          +0.0000j</td> <td>           1.1197</td> <td>           0.0000</td>\n",
       "</tr>\n",
       "</table>"
      ],
      "text/plain": [
       "<class 'statsmodels.iolib.summary.Summary'>\n",
       "\"\"\"\n",
       "                              ARMA Model Results                              \n",
       "==============================================================================\n",
       "Dep. Variable:                  value   No. Observations:                  349\n",
       "Model:                     ARMA(1, 1)   Log Likelihood                 593.839\n",
       "Method:                       css-mle   S.D. of innovations              0.044\n",
       "Date:                Thu, 18 Apr 2019   AIC                          -1179.678\n",
       "Time:                        18:41:20   BIC                          -1164.258\n",
       "Sample:                    02-01-1990   HQIC                         -1173.540\n",
       "                         - 02-01-2019                                         \n",
       "===============================================================================\n",
       "                  coef    std err          z      P>|z|      [0.025      0.975]\n",
       "-------------------------------------------------------------------------------\n",
       "const           0.0013      0.000      4.084      0.000       0.001       0.002\n",
       "ar.L1.value     0.1963      0.061      3.216      0.001       0.077       0.316\n",
       "ma.L1.value    -0.8931      0.027    -32.962      0.000      -0.946      -0.840\n",
       "                                    Roots                                    \n",
       "=============================================================================\n",
       "                  Real          Imaginary           Modulus         Frequency\n",
       "-----------------------------------------------------------------------------\n",
       "AR.1            5.0952           +0.0000j            5.0952            0.0000\n",
       "MA.1            1.1197           +0.0000j            1.1197            0.0000\n",
       "-----------------------------------------------------------------------------\n",
       "\"\"\""
      ]
     },
     "execution_count": 29,
     "metadata": {},
     "output_type": "execute_result"
    }
   ],
   "source": [
    "arima_model = ARIMA(s, order=(1,0,1)).fit()\n",
    "arima_model.summary()"
   ]
  },
  {
   "cell_type": "markdown",
   "metadata": {},
   "source": [
    "## 2. Validations des modèles"
   ]
  },
  {
   "cell_type": "markdown",
   "metadata": {},
   "source": [
    "### 2.1. Analyse graphique des résidus et tests portemanteau"
   ]
  },
  {
   "cell_type": "code",
   "execution_count": 96,
   "metadata": {},
   "outputs": [],
   "source": [
    "from statsmodels.stats.diagnostic import acorr_ljungbox # test portmanteau\n",
    "from statsmodels.stats.stattools import jarque_bera"
   ]
  },
  {
   "cell_type": "code",
   "execution_count": 99,
   "metadata": {},
   "outputs": [],
   "source": [
    "def analyse_residus(dataset, order):\n",
    "    \n",
    "    X = dataset.values.astype('float32')\n",
    "\n",
    "    p = order[0]\n",
    "    q = order[2]\n",
    "    \n",
    "    arima_model = ARIMA(X, order=order)\n",
    "    arima_model_fit = arima_model.fit()\n",
    "    \n",
    "    # Etude des résidus\n",
    "    \n",
    "    predictions = arima_model_fit.predict()\n",
    "    residuals = X.reshape(-1)-predictions\n",
    "    residuals_df = pd.DataFrame(residuals)\n",
    "    \n",
    "    # Graphique des résidus\n",
    "    \n",
    "    fig = plt.figure(figsize=(12,3))\n",
    "    fig.subplots_adjust(hspace=0.4, wspace=0.4)\n",
    "    \n",
    "    plt.subplot(131)\n",
    "    residuals_df.hist(ax=plt.gca())\n",
    "    plt.suptitle(\"Etude des residus\")\n",
    "    plt.subplot(132)\n",
    "    residuals_df.plot(kind='kde', ax=plt.gca(), legend=False)\n",
    "    plt.subplot(133)\n",
    "    stats.probplot(residuals, dist=\"norm\", plot=plt)\n",
    "    plt.show()\n",
    "    \n",
    "    plot_acf(residuals, lags=60, title=\"acf residuals\")\n",
    "    plt.show()\n",
    "    plot_pacf(residuals, lags=60, title=\"pacf residuals\")\n",
    "    plt.show()\n",
    "    \n",
    "    print(\"Jarque Bera p-value : {}\".format(jarque_bera(residuals)[1]))\n",
    "    print(\"Shapiro wilk p-value : {}\".format(stats.shapiro(residuals)[1]))\n",
    "    \n",
    "    \n",
    "    return acorr_ljungbox(residuals,lags=24)[1]"
   ]
  },
  {
   "cell_type": "code",
   "execution_count": 100,
   "metadata": {},
   "outputs": [
    {
     "data": {
      "image/png": "[encoded data removed]",
      "text/plain": [
       "<Figure size 864x216 with 3 Axes>"
      ]
     },
     "metadata": {},
     "output_type": "display_data"
    },
    {
     "data": {
      "image/png": "[encoded data removed]",
      "text/plain": [
       "<Figure size 432x288 with 1 Axes>"
      ]
     },
     "metadata": {},
     "output_type": "display_data"
    },
    {
     "data": {
      "image/png": "[encoded data removed]",
      "text/plain": [
       "<Figure size 432x288 with 1 Axes>"
      ]
     },
     "metadata": {},
     "output_type": "display_data"
    },
    {
     "name": "stdout",
     "output_type": "stream",
     "text": [
      "Jarque Bera p-value : 0.00202712899001\n",
      "Shapiro wilk p-value : 0.010452311486\n"
     ]
    },
    {
     "data": {
      "text/plain": [
       "array([0.96460766, 0.99901406, 0.90605902, 0.16567397, 0.25588763,\n",
       "       0.20861976, 0.27401684, 0.29672733, 0.38284546, 0.40883318,\n",
       "       0.47293942, 0.5205561 , 0.54059157, 0.40457173, 0.39517551,\n",
       "       0.45922676, 0.52610067, 0.5946339 , 0.65808432, 0.60192597,\n",
       "       0.65528993, 0.46772605, 0.52599811, 0.57959958])"
      ]
     },
     "execution_count": 100,
     "metadata": {},
     "output_type": "execute_result"
    }
   ],
   "source": [
    "analyse_residus(s, (1,0,1))"
   ]
  },
  {
   "cell_type": "markdown",
   "metadata": {
    "collapsed": true
   },
   "source": [
    "## Prediction"
   ]
  },
  {
   "cell_type": "code",
   "execution_count": null,
   "metadata": {},
   "outputs": [],
   "source": []
  }
 ],
 "metadata": {
  "kernelspec": {
   "display_name": "Python 3",
   "language": "python",
   "name": "python3"
  },
  "latex_envs": {
   "LaTeX_envs_menu_present": true,
   "autoclose": false,
   "autocomplete": true,
   "bibliofile": "biblio.bib",
   "cite_by": "apalike",
   "current_citInitial": 1,
   "eqLabelWithNumbers": true,
   "eqNumInitial": 1,
   "hotkeys": {
    "equation": "Ctrl-E",
    "itemize": "Ctrl-I"
   },
   "labels_anchors": false,
   "latex_user_defs": false,
   "report_style_numbering": false,
   "user_envs_cfg": false
  },
  "toc": {
   "base_numbering": 1,
   "nav_menu": {},
   "number_sections": true,
   "sideBar": true,
   "skip_h1_title": false,
   "title_cell": "Table of Contents",
   "title_sidebar": "Contents",
   "toc_cell": false,
   "toc_position": {},
   "toc_section_display": true,
   "toc_window_display": true
  },
  "varInspector": {
   "cols": {
    "lenName": 16,
    "lenType": 16,
    "lenVar": 40
   },
   "kernels_config": {
    "python": {
     "delete_cmd_postfix": "",
     "delete_cmd_prefix": "del ",
     "library": "var_list.py",
     "varRefreshCmd": "print(var_dic_list())"
    },
    "r": {
     "delete_cmd_postfix": ") ",
     "delete_cmd_prefix": "rm(",
     "library": "var_list.r",
     "varRefreshCmd": "cat(var_dic_list()) "
    }
   },
   "types_to_exclude": [
    "module",
    "function",
    "builtin_function_or_method",
    "instance",
    "_Feature"
   ],
   "window_display": false
  }
 },
 "nbformat": 4,
 "nbformat_minor": 2
}
