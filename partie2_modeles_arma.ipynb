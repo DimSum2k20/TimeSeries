{
 "cells": [
  {
   "cell_type": "markdown",
   "metadata": {},
   "source": [
    "# Modèles ARMA sur l'indice de production industrielle du log du commerce d'éléctricité"
   ]
  },
  {
   "cell_type": "code",
   "execution_count": 1,
   "metadata": {
    "collapsed": true
   },
   "outputs": [],
   "source": [
    "import pandas as pd\n",
    "import matplotlib.pyplot as plt\n",
    "import matplotlib as mpl\n",
    "import seaborn as sns\n",
    "import numpy as np\n",
    "sns.set()\n",
    "%matplotlib inline\n",
    "import scipy.stats as stats"
   ]
  },
  {
   "cell_type": "markdown",
   "metadata": {},
   "source": [
    "#### Chargement des données brutes"
   ]
  },
  {
   "cell_type": "code",
   "execution_count": 2,
   "metadata": {},
   "outputs": [
    {
     "data": {
      "text/plain": [
       "'/Users/admin/Desktop/ENSAE/2A/S2/Séries temporelles/Projet/TimeSeries'"
      ]
     },
     "execution_count": 2,
     "metadata": {},
     "output_type": "execute_result"
    }
   ],
   "source": [
    "import os\n",
    "os.getcwd()"
   ]
  },
  {
   "cell_type": "code",
   "execution_count": 4,
   "metadata": {},
   "outputs": [
    {
     "data": {
      "text/html": [
       "<div>\n",
       "<style scoped>\n",
       "    .dataframe tbody tr th:only-of-type {\n",
       "        vertical-align: middle;\n",
       "    }\n",
       "\n",
       "    .dataframe tbody tr th {\n",
       "        vertical-align: top;\n",
       "    }\n",
       "\n",
       "    .dataframe thead th {\n",
       "        text-align: right;\n",
       "    }\n",
       "</style>\n",
       "<table border=\"1\" class=\"dataframe\">\n",
       "  <thead>\n",
       "    <tr style=\"text-align: right;\">\n",
       "      <th></th>\n",
       "      <th>Electricite</th>\n",
       "    </tr>\n",
       "    <tr>\n",
       "      <th>Libellé</th>\n",
       "      <th></th>\n",
       "    </tr>\n",
       "  </thead>\n",
       "  <tbody>\n",
       "    <tr>\n",
       "      <th>1990-01-01</th>\n",
       "      <td>4.455277</td>\n",
       "    </tr>\n",
       "    <tr>\n",
       "      <th>1990-02-01</th>\n",
       "      <td>4.209606</td>\n",
       "    </tr>\n",
       "    <tr>\n",
       "      <th>1990-03-01</th>\n",
       "      <td>4.228147</td>\n",
       "    </tr>\n",
       "    <tr>\n",
       "      <th>1990-04-01</th>\n",
       "      <td>4.173618</td>\n",
       "    </tr>\n",
       "    <tr>\n",
       "      <th>1990-05-01</th>\n",
       "      <td>3.936130</td>\n",
       "    </tr>\n",
       "  </tbody>\n",
       "</table>\n",
       "</div>"
      ],
      "text/plain": [
       "            Electricite\n",
       "Libellé                \n",
       "1990-01-01     4.455277\n",
       "1990-02-01     4.209606\n",
       "1990-03-01     4.228147\n",
       "1990-04-01     4.173618\n",
       "1990-05-01     3.936130"
      ]
     },
     "execution_count": 4,
     "metadata": {},
     "output_type": "execute_result"
    }
   ],
   "source": [
    "dfE = pd.read_csv(\n",
    "   \"Electricite/valeurs_mensuelles.csv\",\n",
    "    sep=\";\",\n",
    "    skiprows=[1, 2],\n",
    "    index_col=\"Libellé\",\n",
    "    parse_dates=[\"Libellé\"])\n",
    "dfE.columns = [\"Electricite\",\"ToDelete\"]\n",
    "del(dfE[\"ToDelete\"])\n",
    "\n",
    "log_dfE = np.log(dfE)\n",
    "log_dfE.head()"
   ]
  },
  {
   "cell_type": "markdown",
   "metadata": {},
   "source": [
    "#### Chargement des données stationnarisées"
   ]
  },
  {
   "cell_type": "code",
   "execution_count": 11,
   "metadata": {},
   "outputs": [
    {
     "data": {
      "text/html": [
       "<div>\n",
       "<style scoped>\n",
       "    .dataframe tbody tr th:only-of-type {\n",
       "        vertical-align: middle;\n",
       "    }\n",
       "\n",
       "    .dataframe tbody tr th {\n",
       "        vertical-align: top;\n",
       "    }\n",
       "\n",
       "    .dataframe thead th {\n",
       "        text-align: right;\n",
       "    }\n",
       "</style>\n",
       "<table border=\"1\" class=\"dataframe\">\n",
       "  <thead>\n",
       "    <tr style=\"text-align: right;\">\n",
       "      <th></th>\n",
       "      <th>Electricite</th>\n",
       "    </tr>\n",
       "    <tr>\n",
       "      <th>Date</th>\n",
       "      <th></th>\n",
       "    </tr>\n",
       "  </thead>\n",
       "  <tbody>\n",
       "    <tr>\n",
       "      <th>1990-02-01</th>\n",
       "      <td>-0.125571</td>\n",
       "    </tr>\n",
       "    <tr>\n",
       "      <th>1990-03-01</th>\n",
       "      <td>0.067431</td>\n",
       "    </tr>\n",
       "    <tr>\n",
       "      <th>1990-04-01</th>\n",
       "      <td>0.115244</td>\n",
       "    </tr>\n",
       "    <tr>\n",
       "      <th>1990-05-01</th>\n",
       "      <td>-0.112320</td>\n",
       "    </tr>\n",
       "    <tr>\n",
       "      <th>1990-06-01</th>\n",
       "      <td>0.051904</td>\n",
       "    </tr>\n",
       "  </tbody>\n",
       "</table>\n",
       "</div>"
      ],
      "text/plain": [
       "            Electricite\n",
       "Date                   \n",
       "1990-02-01    -0.125571\n",
       "1990-03-01     0.067431\n",
       "1990-04-01     0.115244\n",
       "1990-05-01    -0.112320\n",
       "1990-06-01     0.051904"
      ]
     },
     "execution_count": 11,
     "metadata": {},
     "output_type": "execute_result"
    }
   ],
   "source": [
    "s = pd.read_csv(\"Electricite/stationnaire.csv\", header=None, index_col=0)\n",
    "s.columns = [\"Electricite\"]\n",
    "s.index.names = ['Date']\n",
    "s.head()"
   ]
  },
  {
   "cell_type": "markdown",
   "metadata": {},
   "source": [
    "## Etude et comparaison de différents modèles ARMA"
   ]
  },
  {
   "cell_type": "markdown",
   "metadata": {},
   "source": [
    "### Sélection des ordres $p^*, q^*$"
   ]
  },
  {
   "cell_type": "code",
   "execution_count": 12,
   "metadata": {},
   "outputs": [
    {
     "name": "stderr",
     "output_type": "stream",
     "text": [
      "/anaconda/lib/python3.6/site-packages/statsmodels/compat/pandas.py:56: FutureWarning: The pandas.core.datetools module is deprecated and will be removed in a future version. Please use the pandas.tseries module instead.\n",
      "  from pandas.core import datetools\n"
     ]
    }
   ],
   "source": [
    "from statsmodels.graphics.tsaplots import plot_acf, plot_pacf"
   ]
  },
  {
   "cell_type": "markdown",
   "metadata": {},
   "source": [
    "#### Etude des autocorrélogrammes partiels et totaux de la série $\\tilde{X_t}$"
   ]
  },
  {
   "cell_type": "code",
   "execution_count": 14,
   "metadata": {},
   "outputs": [
    {
     "data": {
      "image/png": "[encoded data removed]",
      "text/plain": [
       "<matplotlib.figure.Figure at 0x1c14113fd0>"
      ]
     },
     "metadata": {},
     "output_type": "display_data"
    },
    {
     "data": {
      "image/png": "[encoded data removed]",
      "text/plain": [
       "<matplotlib.figure.Figure at 0x1c1451d390>"
      ]
     },
     "metadata": {},
     "output_type": "display_data"
    }
   ],
   "source": [
    "with mpl.rc_context():\n",
    "    mpl.rc(\"figure\", figsize=(14,7))\n",
    "\n",
    "    plot_acf(s, lags=50,\n",
    "             title=\"acf logarithme indice brut de la production commerce d'electricite\")\n",
    "    #plt.savefig(\"Images/acf.png\")\n",
    "\n",
    "    plot_pacf(s, lags=50,\n",
    "             title=\"pacf logarithme indice brut de la production commerce d'electricite\")\n",
    "    #plt.savefig(\"Images/pacf.png\")"
   ]
  },
  {
   "cell_type": "markdown",
   "metadata": {},
   "source": [
    "**Commentaires:** L'ordre $q$ vraisemblable $\\in \\{0, 1, 3, 4\\}$\n",
    "\n",
    "L'ordre $p$ vraisemblable $\\in \\{0, 1, 2, 3, 4, 5, 6, 7\\}$\n"
   ]
  },
  {
   "cell_type": "markdown",
   "metadata": {},
   "source": [
    "### Sélection de modèles ARMA - Critères de l'AIC et du BIC"
   ]
  },
  {
   "cell_type": "code",
   "execution_count": 15,
   "metadata": {
    "collapsed": true
   },
   "outputs": [],
   "source": [
    "import warnings\n",
    "warnings.filterwarnings(\"ignore\")"
   ]
  },
  {
   "cell_type": "code",
   "execution_count": 18,
   "metadata": {
    "collapsed": true
   },
   "outputs": [],
   "source": [
    "from statsmodels.tsa.arima_model import ARMA\n",
    "from statsmodels.stats.diagnostic import acorr_ljungbox"
   ]
  },
  {
   "cell_type": "markdown",
   "metadata": {},
   "source": [
    "On cherche à sélectionner parmi les modèles valides (dont les résidus sont des bruits blancs) et ayant un bon ajustement celui qui minimise les deux critères d'information AIC et BIC:"
   ]
  },
  {
   "cell_type": "code",
   "execution_count": 141,
   "metadata": {
    "collapsed": true
   },
   "outputs": [],
   "source": [
    "def evaluate_arma_ic(dataset, p_values, q_values):\n",
    "    \"\"\"\"\"\"\n",
    "\n",
    "    best_aic, best_bic, ljung_box, pvalues_coef = [], [], None, []\n",
    "    \n",
    "    for p in p_values:\n",
    "            for q in q_values:\n",
    "                \n",
    "                            my_order = (p,q)\n",
    "                    \n",
    "                            try:\n",
    "                                \n",
    "                                model = ARMA(dataset, order=my_order)\n",
    "                                model_fit = model.fit()\n",
    "                                \n",
    "                                # On prend la dernière p-value du test Ljung-box et on compare à 0.05\n",
    "                                ljung_box = acorr_ljungbox(model_fit.resid)[1][-1]\n",
    "                                \n",
    "                                if ljung_box > 0.05:\n",
    "                                \n",
    "                                    # On regarde l'ajustement des modèles valides\n",
    "                                    \n",
    "                                    if p>0:\n",
    "                                        pvalues_coef.append(model_fit.pvalues[\"ar.L\" + str(p) + \".Electricite\"])\n",
    "                                    if q>0:\n",
    "                                        pvalues_coef.append(model_fit.pvalues[\"ma.L\" + str(q) + \".Electricite\"])\n",
    "                                    \n",
    "                                    if max(pvalues_coef) < 0.05 :\n",
    "                                    \n",
    "                                        best_aic.append([my_order, model_fit.aic])\n",
    "                                        best_bic.append([my_order, model_fit.bic])\n",
    "                                        \n",
    "                                    pvalues_coef = []\n",
    "                                    \n",
    "                            except:\n",
    "                                \n",
    "                                print(\"je n'ai pas convergé : {}\".format(my_order))\n",
    "                                continue\n",
    "                                \n",
    "    return best_aic, best_bic"
   ]
  },
  {
   "cell_type": "code",
   "execution_count": 38,
   "metadata": {
    "collapsed": true
   },
   "outputs": [],
   "source": [
    "p_values = [0, 1, 2, 3, 4, 5, 6, 7]\n",
    "q_values = [0, 1, 2, 3, 4]"
   ]
  },
  {
   "cell_type": "code",
   "execution_count": 142,
   "metadata": {},
   "outputs": [
    {
     "name": "stdout",
     "output_type": "stream",
     "text": [
      "je n'ai pas convergé : (0, 4)\n",
      "je n'ai pas convergé : (5, 2)\n",
      "je n'ai pas convergé : (5, 3)\n",
      "je n'ai pas convergé : (6, 4)\n"
     ]
    }
   ],
   "source": [
    "best_aic, best_bic = evaluate_arma_ic(s, p_values, q_values)"
   ]
  },
  {
   "cell_type": "code",
   "execution_count": 145,
   "metadata": {},
   "outputs": [
    {
     "data": {
      "text/plain": [
       "[[(4, 4), -1181.3390926610953],\n",
       " [(4, 1), -1180.9296419146115],\n",
       " [(1, 1), -1179.6781251767677],\n",
       " [(0, 2), -1179.2925672191352],\n",
       " [(3, 3), -1177.723612365878],\n",
       " [(2, 2), -1177.641689667564],\n",
       " [(2, 3), -1176.1770850438959],\n",
       " [(7, 0), -1169.6408229537535],\n",
       " [(5, 0), -1165.8078742355822]]"
      ]
     },
     "execution_count": 145,
     "metadata": {},
     "output_type": "execute_result"
    }
   ],
   "source": [
    "sorted(best_aic, key=lambda x:x[1])"
   ]
  },
  {
   "cell_type": "code",
   "execution_count": 146,
   "metadata": {},
   "outputs": [
    {
     "data": {
      "text/plain": [
       "[[(1, 1), -1164.257837487958],\n",
       " [(0, 2), -1163.8722795303256],\n",
       " [(2, 2), -1154.5112581343494],\n",
       " [(4, 1), -1153.9441384591944],\n",
       " [(2, 3), -1149.1915815884788],\n",
       " [(3, 3), -1146.8830369882585],\n",
       " [(4, 4), -1142.788373439071],\n",
       " [(5, 0), -1138.822370780165],\n",
       " [(7, 0), -1134.9451756539318]]"
      ]
     },
     "execution_count": 146,
     "metadata": {},
     "output_type": "execute_result"
    }
   ],
   "source": [
    "sorted(best_bic, key=lambda x:x[1])"
   ]
  },
  {
   "cell_type": "markdown",
   "metadata": {},
   "source": [
    "* $ARMA(4,4)$"
   ]
  },
  {
   "cell_type": "code",
   "execution_count": 147,
   "metadata": {},
   "outputs": [
    {
     "data": {
      "text/html": [
       "<table class=\"simpletable\">\n",
       "<caption>ARMA Model Results</caption>\n",
       "<tr>\n",
       "  <th>Dep. Variable:</th>    <td>Electricite</td>   <th>  No. Observations:  </th>    <td>349</td>   \n",
       "</tr>\n",
       "<tr>\n",
       "  <th>Model:</th>            <td>ARMA(4, 4)</td>    <th>  Log Likelihood     </th>  <td>600.670</td> \n",
       "</tr>\n",
       "<tr>\n",
       "  <th>Method:</th>             <td>css-mle</td>     <th>  S.D. of innovations</th>   <td>0.043</td>  \n",
       "</tr>\n",
       "<tr>\n",
       "  <th>Date:</th>          <td>Wed, 24 Apr 2019</td> <th>  AIC                </th> <td>-1181.339</td>\n",
       "</tr>\n",
       "<tr>\n",
       "  <th>Time:</th>              <td>10:42:28</td>     <th>  BIC                </th> <td>-1142.788</td>\n",
       "</tr>\n",
       "<tr>\n",
       "  <th>Sample:</th>           <td>02-01-1990</td>    <th>  HQIC               </th> <td>-1165.993</td>\n",
       "</tr>\n",
       "<tr>\n",
       "  <th></th>                 <td>- 02-01-2019</td>   <th>                     </th>     <td> </td>    \n",
       "</tr>\n",
       "</table>\n",
       "<table class=\"simpletable\">\n",
       "<tr>\n",
       "          <td></td>             <th>coef</th>     <th>std err</th>      <th>z</th>      <th>P>|z|</th>  <th>[0.025</th>    <th>0.975]</th>  \n",
       "</tr>\n",
       "<tr>\n",
       "  <th>const</th>             <td>    0.0013</td> <td>    0.001</td> <td>    2.310</td> <td> 0.021</td> <td>    0.000</td> <td>    0.002</td>\n",
       "</tr>\n",
       "<tr>\n",
       "  <th>ar.L1.Electricite</th> <td>    0.3690</td> <td>    0.406</td> <td>    0.909</td> <td> 0.364</td> <td>   -0.427</td> <td>    1.165</td>\n",
       "</tr>\n",
       "<tr>\n",
       "  <th>ar.L2.Electricite</th> <td>    0.2886</td> <td>    0.332</td> <td>    0.870</td> <td> 0.385</td> <td>   -0.361</td> <td>    0.938</td>\n",
       "</tr>\n",
       "<tr>\n",
       "  <th>ar.L3.Electricite</th> <td>    0.5939</td> <td>    0.192</td> <td>    3.095</td> <td> 0.002</td> <td>    0.218</td> <td>    0.970</td>\n",
       "</tr>\n",
       "<tr>\n",
       "  <th>ar.L4.Electricite</th> <td>   -0.2815</td> <td>    0.070</td> <td>   -4.011</td> <td> 0.000</td> <td>   -0.419</td> <td>   -0.144</td>\n",
       "</tr>\n",
       "<tr>\n",
       "  <th>ma.L1.Electricite</th> <td>   -1.0856</td> <td>    0.430</td> <td>   -2.527</td> <td> 0.012</td> <td>   -1.928</td> <td>   -0.243</td>\n",
       "</tr>\n",
       "<tr>\n",
       "  <th>ma.L2.Electricite</th> <td>   -0.1430</td> <td>    0.682</td> <td>   -0.210</td> <td> 0.834</td> <td>   -1.480</td> <td>    1.194</td>\n",
       "</tr>\n",
       "<tr>\n",
       "  <th>ma.L3.Electricite</th> <td>   -0.3420</td> <td>    0.277</td> <td>   -1.235</td> <td> 0.218</td> <td>   -0.885</td> <td>    0.201</td>\n",
       "</tr>\n",
       "<tr>\n",
       "  <th>ma.L4.Electricite</th> <td>    0.5785</td> <td>    0.197</td> <td>    2.935</td> <td> 0.004</td> <td>    0.192</td> <td>    0.965</td>\n",
       "</tr>\n",
       "</table>\n",
       "<table class=\"simpletable\">\n",
       "<caption>Roots</caption>\n",
       "<tr>\n",
       "    <td></td>   <th>           Real</th> <th>         Imaginary</th> <th>         Modulus</th> <th>        Frequency</th>\n",
       "</tr>\n",
       "<tr>\n",
       "  <th>AR.1</th>              -0.7055                    -0.9466j                    1.1806                   -0.3519     \n",
       "</tr>\n",
       "<tr>\n",
       "  <th>AR.2</th>              -0.7055                    +0.9466j                    1.1806                    0.3519     \n",
       "</tr>\n",
       "<tr>\n",
       "  <th>AR.3</th>               1.0186                    -0.0000j                    1.0186                   -0.0000     \n",
       "</tr>\n",
       "<tr>\n",
       "  <th>AR.4</th>               2.5025                    -0.0000j                    2.5025                   -0.0000     \n",
       "</tr>\n",
       "<tr>\n",
       "  <th>MA.1</th>              -0.7234                    -1.0662j                    1.2884                   -0.3449     \n",
       "</tr>\n",
       "<tr>\n",
       "  <th>MA.2</th>              -0.7234                    +1.0662j                    1.2884                    0.3449     \n",
       "</tr>\n",
       "<tr>\n",
       "  <th>MA.3</th>               1.0190                    -0.0547j                    1.0205                   -0.0085     \n",
       "</tr>\n",
       "<tr>\n",
       "  <th>MA.4</th>               1.0190                    +0.0547j                    1.0205                    0.0085     \n",
       "</tr>\n",
       "</table>"
      ],
      "text/plain": [
       "<class 'statsmodels.iolib.summary.Summary'>\n",
       "\"\"\"\n",
       "                              ARMA Model Results                              \n",
       "==============================================================================\n",
       "Dep. Variable:            Electricite   No. Observations:                  349\n",
       "Model:                     ARMA(4, 4)   Log Likelihood                 600.670\n",
       "Method:                       css-mle   S.D. of innovations              0.043\n",
       "Date:                Wed, 24 Apr 2019   AIC                          -1181.339\n",
       "Time:                        10:42:28   BIC                          -1142.788\n",
       "Sample:                    02-01-1990   HQIC                         -1165.993\n",
       "                         - 02-01-2019                                         \n",
       "=====================================================================================\n",
       "                        coef    std err          z      P>|z|      [0.025      0.975]\n",
       "-------------------------------------------------------------------------------------\n",
       "const                 0.0013      0.001      2.310      0.021       0.000       0.002\n",
       "ar.L1.Electricite     0.3690      0.406      0.909      0.364      -0.427       1.165\n",
       "ar.L2.Electricite     0.2886      0.332      0.870      0.385      -0.361       0.938\n",
       "ar.L3.Electricite     0.5939      0.192      3.095      0.002       0.218       0.970\n",
       "ar.L4.Electricite    -0.2815      0.070     -4.011      0.000      -0.419      -0.144\n",
       "ma.L1.Electricite    -1.0856      0.430     -2.527      0.012      -1.928      -0.243\n",
       "ma.L2.Electricite    -0.1430      0.682     -0.210      0.834      -1.480       1.194\n",
       "ma.L3.Electricite    -0.3420      0.277     -1.235      0.218      -0.885       0.201\n",
       "ma.L4.Electricite     0.5785      0.197      2.935      0.004       0.192       0.965\n",
       "                                    Roots                                    \n",
       "=============================================================================\n",
       "                 Real           Imaginary           Modulus         Frequency\n",
       "-----------------------------------------------------------------------------\n",
       "AR.1           -0.7055           -0.9466j            1.1806           -0.3519\n",
       "AR.2           -0.7055           +0.9466j            1.1806            0.3519\n",
       "AR.3            1.0186           -0.0000j            1.0186           -0.0000\n",
       "AR.4            2.5025           -0.0000j            2.5025           -0.0000\n",
       "MA.1           -0.7234           -1.0662j            1.2884           -0.3449\n",
       "MA.2           -0.7234           +1.0662j            1.2884            0.3449\n",
       "MA.3            1.0190           -0.0547j            1.0205           -0.0085\n",
       "MA.4            1.0190           +0.0547j            1.0205            0.0085\n",
       "-----------------------------------------------------------------------------\n",
       "\"\"\""
      ]
     },
     "execution_count": 147,
     "metadata": {},
     "output_type": "execute_result"
    }
   ],
   "source": [
    "arma_model = ARMA(s, order=(4,4)).fit()\n",
    "arma_model.summary()"
   ]
  },
  {
   "cell_type": "markdown",
   "metadata": {},
   "source": [
    "* $ARMA(1,1)$"
   ]
  },
  {
   "cell_type": "code",
   "execution_count": 94,
   "metadata": {},
   "outputs": [
    {
     "data": {
      "text/html": [
       "<table class=\"simpletable\">\n",
       "<caption>ARMA Model Results</caption>\n",
       "<tr>\n",
       "  <th>Dep. Variable:</th>    <td>Electricite</td>   <th>  No. Observations:  </th>    <td>349</td>   \n",
       "</tr>\n",
       "<tr>\n",
       "  <th>Model:</th>            <td>ARMA(1, 1)</td>    <th>  Log Likelihood     </th>  <td>593.839</td> \n",
       "</tr>\n",
       "<tr>\n",
       "  <th>Method:</th>             <td>css-mle</td>     <th>  S.D. of innovations</th>   <td>0.044</td>  \n",
       "</tr>\n",
       "<tr>\n",
       "  <th>Date:</th>          <td>Wed, 24 Apr 2019</td> <th>  AIC                </th> <td>-1179.678</td>\n",
       "</tr>\n",
       "<tr>\n",
       "  <th>Time:</th>              <td>09:54:40</td>     <th>  BIC                </th> <td>-1164.258</td>\n",
       "</tr>\n",
       "<tr>\n",
       "  <th>Sample:</th>           <td>02-01-1990</td>    <th>  HQIC               </th> <td>-1173.540</td>\n",
       "</tr>\n",
       "<tr>\n",
       "  <th></th>                 <td>- 02-01-2019</td>   <th>                     </th>     <td> </td>    \n",
       "</tr>\n",
       "</table>\n",
       "<table class=\"simpletable\">\n",
       "<tr>\n",
       "          <td></td>             <th>coef</th>     <th>std err</th>      <th>z</th>      <th>P>|z|</th>  <th>[0.025</th>    <th>0.975]</th>  \n",
       "</tr>\n",
       "<tr>\n",
       "  <th>const</th>             <td>    0.0013</td> <td>    0.000</td> <td>    4.084</td> <td> 0.000</td> <td>    0.001</td> <td>    0.002</td>\n",
       "</tr>\n",
       "<tr>\n",
       "  <th>ar.L1.Electricite</th> <td>    0.1963</td> <td>    0.061</td> <td>    3.216</td> <td> 0.001</td> <td>    0.077</td> <td>    0.316</td>\n",
       "</tr>\n",
       "<tr>\n",
       "  <th>ma.L1.Electricite</th> <td>   -0.8931</td> <td>    0.027</td> <td>  -32.962</td> <td> 0.000</td> <td>   -0.946</td> <td>   -0.840</td>\n",
       "</tr>\n",
       "</table>\n",
       "<table class=\"simpletable\">\n",
       "<caption>Roots</caption>\n",
       "<tr>\n",
       "    <td></td>   <th>           Real</th> <th>         Imaginary</th> <th>         Modulus</th> <th>        Frequency</th>\n",
       "</tr>\n",
       "<tr>\n",
       "  <th>AR.1</th>               5.0952                    +0.0000j                    5.0952                    0.0000     \n",
       "</tr>\n",
       "<tr>\n",
       "  <th>MA.1</th>               1.1197                    +0.0000j                    1.1197                    0.0000     \n",
       "</tr>\n",
       "</table>"
      ],
      "text/plain": [
       "<class 'statsmodels.iolib.summary.Summary'>\n",
       "\"\"\"\n",
       "                              ARMA Model Results                              \n",
       "==============================================================================\n",
       "Dep. Variable:            Electricite   No. Observations:                  349\n",
       "Model:                     ARMA(1, 1)   Log Likelihood                 593.839\n",
       "Method:                       css-mle   S.D. of innovations              0.044\n",
       "Date:                Wed, 24 Apr 2019   AIC                          -1179.678\n",
       "Time:                        09:54:40   BIC                          -1164.258\n",
       "Sample:                    02-01-1990   HQIC                         -1173.540\n",
       "                         - 02-01-2019                                         \n",
       "=====================================================================================\n",
       "                        coef    std err          z      P>|z|      [0.025      0.975]\n",
       "-------------------------------------------------------------------------------------\n",
       "const                 0.0013      0.000      4.084      0.000       0.001       0.002\n",
       "ar.L1.Electricite     0.1963      0.061      3.216      0.001       0.077       0.316\n",
       "ma.L1.Electricite    -0.8931      0.027    -32.962      0.000      -0.946      -0.840\n",
       "                                    Roots                                    \n",
       "=============================================================================\n",
       "                 Real           Imaginary           Modulus         Frequency\n",
       "-----------------------------------------------------------------------------\n",
       "AR.1            5.0952           +0.0000j            5.0952            0.0000\n",
       "MA.1            1.1197           +0.0000j            1.1197            0.0000\n",
       "-----------------------------------------------------------------------------\n",
       "\"\"\""
      ]
     },
     "execution_count": 94,
     "metadata": {},
     "output_type": "execute_result"
    }
   ],
   "source": [
    "arma_model = ARMA(s, order=(1,1)).fit()\n",
    "arma_model.summary()"
   ]
  },
  {
   "cell_type": "markdown",
   "metadata": {},
   "source": [
    "### Sélection de modèles ARMA - Critères de la MSE"
   ]
  },
  {
   "cell_type": "markdown",
   "metadata": {},
   "source": [
    "On cherche, parmi les modèles valides et à bon ajustement, celui qui minimise le critère de la MSE:"
   ]
  },
  {
   "cell_type": "code",
   "execution_count": 64,
   "metadata": {
    "collapsed": true
   },
   "outputs": [],
   "source": [
    "from sklearn.metrics import mean_squared_error"
   ]
  },
  {
   "cell_type": "code",
   "execution_count": 151,
   "metadata": {
    "collapsed": true
   },
   "outputs": [],
   "source": [
    "def evaluate_arma_mse(dataset, p_values, q_values):\n",
    "    \"\"\"\"\"\"\n",
    "\n",
    "    N = dataset.shape[0]\n",
    "    train = dataset.iloc[1:(N-6)]\n",
    "    test = dataset.iloc[(N-6):N]\n",
    "    \n",
    "    #best_aic, best_bic, best_cfg_1, best_cfg_2, ljung_box = float(\"inf\"), float(\"inf\"), None, None, None\n",
    "    best_mse, ljung_box = [], None\n",
    "    \n",
    "    for p in p_values:\n",
    "            for q in q_values:\n",
    "                            \n",
    "                            my_order = (p, q)\n",
    "                            \n",
    "                            try:\n",
    "                                \n",
    "                                model = ARMA(train, order=my_order)\n",
    "                                model_fit = model.fit()\n",
    "                                \n",
    "                                # On prend la dernière p-value du test Ljung-box et on compare à 0.01\n",
    "                                ljung_box = acorr_ljungbox(model_fit.resid)[1][-1]\n",
    "                                \n",
    "                                if ljung_box > 0.05:\n",
    "                                \n",
    "                                    # On regarde la MSE\n",
    "                                    \n",
    "                                    pred = model_fit.forecast(6)[0]\n",
    "                                    best_mse.append([my_order, round(mean_squared_error(pred,test),6)])\n",
    "                                    \n",
    "                            except:\n",
    "                                \n",
    "                                print(\"je n'ai pas convergé : {}\".format(my_order))\n",
    "                                continue\n",
    "                                \n",
    "    return sorted(best_mse, key=lambda x:x[1])"
   ]
  },
  {
   "cell_type": "code",
   "execution_count": 152,
   "metadata": {},
   "outputs": [
    {
     "name": "stdout",
     "output_type": "stream",
     "text": [
      "je n'ai pas convergé : (0, 4)\n",
      "je n'ai pas convergé : (5, 4)\n",
      "je n'ai pas convergé : (6, 4)\n"
     ]
    }
   ],
   "source": [
    "best_mse = evaluate_arma_mse(s, p_values, q_values)"
   ]
  },
  {
   "cell_type": "code",
   "execution_count": 153,
   "metadata": {},
   "outputs": [
    {
     "data": {
      "text/plain": [
       "[[(5, 3), 0.00408],\n",
       " [(4, 4), 0.004092],\n",
       " [(3, 3), 0.004172],\n",
       " [(7, 0), 0.004242],\n",
       " [(6, 2), 0.004426],\n",
       " [(0, 2), 0.004522],\n",
       " [(3, 2), 0.00453],\n",
       " [(3, 1), 0.004535],\n",
       " [(0, 3), 0.004538],\n",
       " [(1, 4), 0.004539],\n",
       " [(1, 3), 0.004542],\n",
       " [(1, 1), 0.004543],\n",
       " [(2, 1), 0.004543],\n",
       " [(1, 2), 0.004544],\n",
       " [(5, 1), 0.004568],\n",
       " [(7, 1), 0.004573],\n",
       " [(4, 2), 0.004606],\n",
       " [(4, 1), 0.004611],\n",
       " [(7, 4), 0.004613],\n",
       " [(5, 2), 0.004615],\n",
       " [(3, 4), 0.004631],\n",
       " [(7, 3), 0.004647],\n",
       " [(6, 3), 0.004689],\n",
       " [(6, 1), 0.004713],\n",
       " [(5, 0), 0.004742],\n",
       " [(4, 3), 0.004746],\n",
       " [(2, 4), 0.004749],\n",
       " [(2, 2), 0.004773],\n",
       " [(7, 2), 0.00481],\n",
       " [(2, 3), 0.004842],\n",
       " [(6, 0), 0.005175]]"
      ]
     },
     "execution_count": 153,
     "metadata": {},
     "output_type": "execute_result"
    }
   ],
   "source": [
    "best_mse"
   ]
  },
  {
   "cell_type": "markdown",
   "metadata": {},
   "source": [
    "**Remarque:** Certains modèles qui n'était pas valides et/ou à bon ajustement avant le deviennent maintenant car on ne sélectionne pas la même BDD ici. Pour la suite, nous allons calculer la MSE et l'AIC et BIC en même temps pour ne pas avoir ce problème."
   ]
  },
  {
   "cell_type": "markdown",
   "metadata": {
    "collapsed": true
   },
   "source": [
    "## Sorties $\\LaTeX$"
   ]
  },
  {
   "cell_type": "markdown",
   "metadata": {
    "collapsed": true
   },
   "source": [
    "### Tableau avec tous les modèles testés"
   ]
  },
  {
   "cell_type": "code",
   "execution_count": 123,
   "metadata": {
    "collapsed": true
   },
   "outputs": [],
   "source": [
    "def evaluate_arma_mseic(dataset, p_values, q_values):\n",
    "    \"\"\"\"\"\"\n",
    "\n",
    "    N = dataset.shape[0]\n",
    "    train = dataset.iloc[1:(N-6)]\n",
    "    test = dataset.iloc[(N-6):N]\n",
    "    \n",
    "    tableau, mse = [], []\n",
    "    \n",
    "    for p in p_values:\n",
    "            for q in q_values:\n",
    "                            \n",
    "                            my_order = (p, q)\n",
    "                            \n",
    "                            try:\n",
    "                                \n",
    "                                model = ARMA(dataset, order=my_order)\n",
    "                                model_fit = model.fit()\n",
    "                                \n",
    "                                model2 = ARMA(train, order=my_order)\n",
    "                                model2_fit = model2.fit()\n",
    "                                \n",
    "                                pred = model2_fit.forecast(6)[0]\n",
    "                                mse = round(mean_squared_error(pred,test),6)\n",
    "                                \n",
    "                                tableau.append([my_order, model_fit.aic, model_fit.bic, mse])\n",
    "                                    \n",
    "                            except:\n",
    "                                \n",
    "                                print(\"je n'ai pas convergé : {}\".format(my_order))\n",
    "                                continue\n",
    "                                \n",
    "    return tableau"
   ]
  },
  {
   "cell_type": "code",
   "execution_count": 113,
   "metadata": {},
   "outputs": [
    {
     "name": "stdout",
     "output_type": "stream",
     "text": [
      "je n'ai pas convergé : (0, 4)\n",
      "je n'ai pas convergé : (5, 2)\n",
      "je n'ai pas convergé : (5, 3)\n",
      "je n'ai pas convergé : (5, 4)\n",
      "je n'ai pas convergé : (6, 4)\n"
     ]
    }
   ],
   "source": [
    "tab1 = evaluate_arma_mseic(s, p_values, q_values)"
   ]
  },
  {
   "cell_type": "code",
   "execution_count": 115,
   "metadata": {
    "collapsed": true
   },
   "outputs": [],
   "source": [
    "tab1_df = pd.DataFrame(tab1, columns=[\"(p,q)\",\"AIC\",\"BIC\", \"MSE\"])"
   ]
  },
  {
   "cell_type": "code",
   "execution_count": 116,
   "metadata": {},
   "outputs": [
    {
     "name": "stdout",
     "output_type": "stream",
     "text": [
      "\\begin{tabular}{llrrr}\n",
      "\\toprule\n",
      "{} &   (p,q) &          AIC &          BIC &       MSE \\\\\n",
      "\\midrule\n",
      "0  &  (0, 0) & -1042.137421 & -1034.427277 &  0.004712 \\\\\n",
      "1  &  (0, 1) & -1171.858426 & -1160.293211 &  0.004452 \\\\\n",
      "2  &  (0, 2) & -1179.292567 & -1163.872280 &  0.004522 \\\\\n",
      "3  &  (0, 3) & -1177.481335 & -1158.205975 &  0.004538 \\\\\n",
      "4  &  (1, 0) & -1101.850659 & -1090.285444 &  0.004636 \\\\\n",
      "5  &  (1, 1) & -1179.678125 & -1164.257837 &  0.004543 \\\\\n",
      "6  &  (1, 2) & -1177.705787 & -1158.430427 &  0.004544 \\\\\n",
      "7  &  (1, 3) & -1175.731053 & -1152.600621 &  0.004542 \\\\\n",
      "8  &  (1, 4) & -1177.157565 & -1150.172061 &  0.004539 \\\\\n",
      "9  &  (2, 0) & -1129.818906 & -1114.398618 &  0.004360 \\\\\n",
      "10 &  (2, 1) & -1177.703237 & -1158.427878 &  0.004543 \\\\\n",
      "11 &  (2, 2) & -1177.641690 & -1154.511258 &  0.004773 \\\\\n",
      "12 &  (2, 3) & -1176.177085 & -1149.191582 &  0.004842 \\\\\n",
      "13 &  (2, 4) & -1178.521643 & -1147.681068 &  0.004749 \\\\\n",
      "14 &  (3, 0) & -1131.530034 & -1112.254675 &  0.004385 \\\\\n",
      "15 &  (3, 1) & -1175.784844 & -1152.654412 &  0.004535 \\\\\n",
      "16 &  (3, 2) & -1174.304274 & -1147.318771 &  0.004530 \\\\\n",
      "17 &  (3, 3) & -1177.723612 & -1146.883037 &  0.004172 \\\\\n",
      "18 &  (3, 4) & -1176.541449 & -1141.845802 &  0.004631 \\\\\n",
      "19 &  (4, 0) & -1152.913339 & -1129.782907 &  0.004000 \\\\\n",
      "20 &  (4, 1) & -1180.929642 & -1153.944138 &  0.004611 \\\\\n",
      "21 &  (4, 2) & -1179.049131 & -1148.208555 &  0.004606 \\\\\n",
      "22 &  (4, 3) & -1178.288878 & -1143.593231 &  0.004746 \\\\\n",
      "23 &  (4, 4) & -1181.339093 & -1142.788373 &  0.004092 \\\\\n",
      "24 &  (5, 0) & -1165.807874 & -1138.822371 &  0.004742 \\\\\n",
      "25 &  (5, 1) & -1179.240439 & -1148.399863 &  0.004568 \\\\\n",
      "26 &  (6, 0) & -1165.941112 & -1135.100536 &  0.005175 \\\\\n",
      "27 &  (6, 1) & -1178.322995 & -1143.627347 &  0.004713 \\\\\n",
      "28 &  (6, 2) & -1176.907764 & -1138.357045 &  0.004426 \\\\\n",
      "29 &  (6, 3) & -1173.161645 & -1130.755854 &  0.004689 \\\\\n",
      "30 &  (7, 0) & -1169.640823 & -1134.945176 &  0.004242 \\\\\n",
      "31 &  (7, 1) & -1176.896154 & -1138.345435 &  0.004573 \\\\\n",
      "32 &  (7, 2) & -1179.452027 & -1137.046236 &  0.004810 \\\\\n",
      "33 &  (7, 3) & -1178.075826 & -1131.814962 &  0.004647 \\\\\n",
      "34 &  (7, 4) & -1180.872001 & -1130.756066 &  0.004613 \\\\\n",
      "\\bottomrule\n",
      "\\end{tabular}\n",
      "\n"
     ]
    }
   ],
   "source": [
    "print(tab1_df.to_latex())"
   ]
  },
  {
   "cell_type": "markdown",
   "metadata": {},
   "source": [
    "### Tableau avec les modèles valides"
   ]
  },
  {
   "cell_type": "code",
   "execution_count": 122,
   "metadata": {
    "collapsed": true
   },
   "outputs": [],
   "source": [
    "def evaluate_arma_mseic_val(dataset, p_values, q_values):\n",
    "    \"\"\"\"\"\"\n",
    "\n",
    "    N = dataset.shape[0]\n",
    "    train = dataset.iloc[1:(N-6)]\n",
    "    test = dataset.iloc[(N-6):N]\n",
    "    \n",
    "    tableau, mse, ljung_box = [], [], None\n",
    "    \n",
    "    for p in p_values:\n",
    "            for q in q_values:\n",
    "                            \n",
    "                            my_order = (p, q)\n",
    "                            \n",
    "                            try:\n",
    "                                \n",
    "                                model = ARMA(dataset, order=my_order)\n",
    "                                model_fit = model.fit()\n",
    "                                \n",
    "                                model2 = ARMA(train, order=my_order)\n",
    "                                model2_fit = model2.fit()\n",
    "                                \n",
    "                                pred = model2_fit.forecast(6)[0]\n",
    "                                mse = round(mean_squared_error(pred,test),6)\n",
    "                                \n",
    "                                ljung_box = acorr_ljungbox(model_fit.resid)[1][-1]\n",
    "                                \n",
    "                                if ljung_box > 0.05:\n",
    "                                \n",
    "                                    tableau.append([my_order, model_fit.aic, model_fit.bic, mse])\n",
    "                                    \n",
    "                            except:\n",
    "                                \n",
    "                                print(\"je n'ai pas convergé : {}\".format(my_order))\n",
    "                                continue\n",
    "                                \n",
    "    return tableau"
   ]
  },
  {
   "cell_type": "code",
   "execution_count": 124,
   "metadata": {},
   "outputs": [
    {
     "name": "stdout",
     "output_type": "stream",
     "text": [
      "je n'ai pas convergé : (0, 4)\n",
      "je n'ai pas convergé : (5, 2)\n",
      "je n'ai pas convergé : (5, 3)\n",
      "je n'ai pas convergé : (5, 4)\n",
      "je n'ai pas convergé : (6, 4)\n"
     ]
    }
   ],
   "source": [
    "tab2 = evaluate_arma_mseic_val(s, p_values, q_values)"
   ]
  },
  {
   "cell_type": "code",
   "execution_count": 127,
   "metadata": {
    "collapsed": true
   },
   "outputs": [],
   "source": [
    "tab2_df = pd.DataFrame(tab2, columns=[\"(p,q)\",\"AIC\",\"BIC\", \"MSE\"])"
   ]
  },
  {
   "cell_type": "code",
   "execution_count": 128,
   "metadata": {},
   "outputs": [
    {
     "name": "stdout",
     "output_type": "stream",
     "text": [
      "\\begin{tabular}{llrrr}\n",
      "\\toprule\n",
      "{} &   (p,q) &          AIC &          BIC &       MSE \\\\\n",
      "\\midrule\n",
      "0  &  (0, 2) & -1179.292567 & -1163.872280 &  0.004522 \\\\\n",
      "1  &  (0, 3) & -1177.481335 & -1158.205975 &  0.004538 \\\\\n",
      "2  &  (1, 1) & -1179.678125 & -1164.257837 &  0.004543 \\\\\n",
      "3  &  (1, 2) & -1177.705787 & -1158.430427 &  0.004544 \\\\\n",
      "4  &  (1, 3) & -1175.731053 & -1152.600621 &  0.004542 \\\\\n",
      "5  &  (1, 4) & -1177.157565 & -1150.172061 &  0.004539 \\\\\n",
      "6  &  (2, 1) & -1177.703237 & -1158.427878 &  0.004543 \\\\\n",
      "7  &  (2, 2) & -1177.641690 & -1154.511258 &  0.004773 \\\\\n",
      "8  &  (2, 3) & -1176.177085 & -1149.191582 &  0.004842 \\\\\n",
      "9  &  (2, 4) & -1178.521643 & -1147.681068 &  0.004749 \\\\\n",
      "10 &  (3, 1) & -1175.784844 & -1152.654412 &  0.004535 \\\\\n",
      "11 &  (3, 2) & -1174.304274 & -1147.318771 &  0.004530 \\\\\n",
      "12 &  (3, 3) & -1177.723612 & -1146.883037 &  0.004172 \\\\\n",
      "13 &  (3, 4) & -1176.541449 & -1141.845802 &  0.004631 \\\\\n",
      "14 &  (4, 1) & -1180.929642 & -1153.944138 &  0.004611 \\\\\n",
      "15 &  (4, 2) & -1179.049131 & -1148.208555 &  0.004606 \\\\\n",
      "16 &  (4, 3) & -1178.288878 & -1143.593231 &  0.004746 \\\\\n",
      "17 &  (4, 4) & -1181.339093 & -1142.788373 &  0.004092 \\\\\n",
      "18 &  (5, 0) & -1165.807874 & -1138.822371 &  0.004742 \\\\\n",
      "19 &  (5, 1) & -1179.240439 & -1148.399863 &  0.004568 \\\\\n",
      "20 &  (6, 0) & -1165.941112 & -1135.100536 &  0.005175 \\\\\n",
      "21 &  (6, 1) & -1178.322995 & -1143.627347 &  0.004713 \\\\\n",
      "22 &  (6, 2) & -1176.907764 & -1138.357045 &  0.004426 \\\\\n",
      "23 &  (6, 3) & -1173.161645 & -1130.755854 &  0.004689 \\\\\n",
      "24 &  (7, 0) & -1169.640823 & -1134.945176 &  0.004242 \\\\\n",
      "25 &  (7, 1) & -1176.896154 & -1138.345435 &  0.004573 \\\\\n",
      "26 &  (7, 2) & -1179.452027 & -1137.046236 &  0.004810 \\\\\n",
      "27 &  (7, 3) & -1178.075826 & -1131.814962 &  0.004647 \\\\\n",
      "28 &  (7, 4) & -1180.872001 & -1130.756066 &  0.004613 \\\\\n",
      "\\bottomrule\n",
      "\\end{tabular}\n",
      "\n"
     ]
    }
   ],
   "source": [
    "print(tab2_df.to_latex())"
   ]
  },
  {
   "cell_type": "markdown",
   "metadata": {},
   "source": [
    "### Tableau avec les modèles valides et bon ajustement"
   ]
  },
  {
   "cell_type": "code",
   "execution_count": 131,
   "metadata": {
    "collapsed": true
   },
   "outputs": [],
   "source": [
    "def evaluate_arma_mseic_val_ajust(dataset, p_values, q_values):\n",
    "    \"\"\"\"\"\"\n",
    "\n",
    "    N = dataset.shape[0]\n",
    "    train = dataset.iloc[1:(N-6)]\n",
    "    test = dataset.iloc[(N-6):N]\n",
    "    \n",
    "    tableau, mse, ljung_box, pvalues_coef = [], [], None, []\n",
    "    \n",
    "    for p in p_values:\n",
    "            for q in q_values:\n",
    "                            \n",
    "                            my_order = (p, q)\n",
    "                            \n",
    "                            try:\n",
    "                                \n",
    "                                model = ARMA(dataset, order=my_order)\n",
    "                                model_fit = model.fit()\n",
    "                                \n",
    "                                model2 = ARMA(train, order=my_order)\n",
    "                                model2_fit = model2.fit()\n",
    "                                \n",
    "                                pred = model2_fit.forecast(6)[0]\n",
    "                                mse = round(mean_squared_error(pred,test),6)\n",
    "                                \n",
    "                                ljung_box = acorr_ljungbox(model_fit.resid)[1][-1]\n",
    "                                \n",
    "                                if ljung_box > 0.05:\n",
    "                                \n",
    "                                    if p>0:\n",
    "                                        pvalues_coef.append(model_fit.pvalues[\"ar.L\" + str(p) + \".Electricite\"])\n",
    "                                    if q>0:\n",
    "                                        pvalues_coef.append(model_fit.pvalues[\"ma.L\" + str(q) + \".Electricite\"])\n",
    "                                    \n",
    "                                    if max(pvalues_coef) < 0.05 :\n",
    "                                    \n",
    "                                        tableau.append([my_order, model_fit.aic, model_fit.bic, mse])\n",
    "                                        \n",
    "                                    pvalues_coef = []\n",
    "                                    \n",
    "                            except:\n",
    "                                \n",
    "                                print(\"je n'ai pas convergé : {}\".format(my_order))\n",
    "                                continue\n",
    "                                \n",
    "    return tableau"
   ]
  },
  {
   "cell_type": "code",
   "execution_count": 132,
   "metadata": {},
   "outputs": [
    {
     "name": "stdout",
     "output_type": "stream",
     "text": [
      "je n'ai pas convergé : (0, 4)\n",
      "je n'ai pas convergé : (5, 2)\n",
      "je n'ai pas convergé : (5, 3)\n",
      "je n'ai pas convergé : (5, 4)\n",
      "je n'ai pas convergé : (6, 4)\n"
     ]
    }
   ],
   "source": [
    "tab3 = evaluate_arma_mseic_val_ajust(s, p_values, q_values)"
   ]
  },
  {
   "cell_type": "code",
   "execution_count": 138,
   "metadata": {},
   "outputs": [
    {
     "data": {
      "text/plain": [
       "[[(4, 4), -1181.3390926610953, -1142.788373439071, 0.004092],\n",
       " [(3, 3), -1177.723612365878, -1146.8830369882585, 0.004172],\n",
       " [(7, 0), -1169.6408229537535, -1134.9451756539318, 0.004242],\n",
       " [(0, 2), -1179.2925672191352, -1163.8722795303256, 0.004522],\n",
       " [(1, 1), -1179.6781251767677, -1164.257837487958, 0.004543],\n",
       " [(4, 1), -1180.9296419146115, -1153.9441384591944, 0.004611],\n",
       " [(5, 0), -1165.8078742355822, -1138.822370780165, 0.004742],\n",
       " [(2, 2), -1177.641689667564, -1154.5112581343494, 0.004773],\n",
       " [(2, 3), -1176.1770850438959, -1149.1915815884788, 0.004842]]"
      ]
     },
     "execution_count": 138,
     "metadata": {},
     "output_type": "execute_result"
    }
   ],
   "source": [
    "sorted(tab3, key=lambda x:x[3])"
   ]
  },
  {
   "cell_type": "code",
   "execution_count": 139,
   "metadata": {
    "collapsed": true
   },
   "outputs": [],
   "source": [
    "tab3_df = pd.DataFrame(tab3, columns=[\"(p,q)\",\"AIC\",\"BIC\", \"MSE\"])"
   ]
  },
  {
   "cell_type": "code",
   "execution_count": 140,
   "metadata": {},
   "outputs": [
    {
     "name": "stdout",
     "output_type": "stream",
     "text": [
      "\\begin{tabular}{llrrr}\n",
      "\\toprule\n",
      "{} &   (p,q) &          AIC &          BIC &       MSE \\\\\n",
      "\\midrule\n",
      "0 &  (0, 2) & -1179.292567 & -1163.872280 &  0.004522 \\\\\n",
      "1 &  (1, 1) & -1179.678125 & -1164.257837 &  0.004543 \\\\\n",
      "2 &  (2, 2) & -1177.641690 & -1154.511258 &  0.004773 \\\\\n",
      "3 &  (2, 3) & -1176.177085 & -1149.191582 &  0.004842 \\\\\n",
      "4 &  (3, 3) & -1177.723612 & -1146.883037 &  0.004172 \\\\\n",
      "5 &  (4, 1) & -1180.929642 & -1153.944138 &  0.004611 \\\\\n",
      "6 &  (4, 4) & -1181.339093 & -1142.788373 &  0.004092 \\\\\n",
      "7 &  (5, 0) & -1165.807874 & -1138.822371 &  0.004742 \\\\\n",
      "8 &  (7, 0) & -1169.640823 & -1134.945176 &  0.004242 \\\\\n",
      "\\bottomrule\n",
      "\\end{tabular}\n",
      "\n"
     ]
    }
   ],
   "source": [
    "print(tab3_df.to_latex())"
   ]
  }
 ],
 "metadata": {
  "kernelspec": {
   "display_name": "Python 3",
   "language": "python",
   "name": "python3"
  },
  "language_info": {
   "codemirror_mode": {
    "name": "ipython",
    "version": 3
   },
   "file_extension": ".py",
   "mimetype": "text/x-python",
   "name": "python",
   "nbconvert_exporter": "python",
   "pygments_lexer": "ipython3",
   "version": "3.6.1"
  },
  "latex_envs": {
   "LaTeX_envs_menu_present": true,
   "autoclose": false,
   "autocomplete": true,
   "bibliofile": "biblio.bib",
   "cite_by": "apalike",
   "current_citInitial": 1,
   "eqLabelWithNumbers": true,
   "eqNumInitial": 1,
   "hotkeys": {
    "equation": "Ctrl-E",
    "itemize": "Ctrl-I"
   },
   "labels_anchors": false,
   "latex_user_defs": false,
   "report_style_numbering": false,
   "user_envs_cfg": false
  },
  "toc": {
   "base_numbering": 1,
   "nav_menu": {},
   "number_sections": true,
   "sideBar": true,
   "skip_h1_title": false,
   "title_cell": "Table of Contents",
   "title_sidebar": "Contents",
   "toc_cell": false,
   "toc_position": {},
   "toc_section_display": true,
   "toc_window_display": true
  },
  "varInspector": {
   "cols": {
    "lenName": 16,
    "lenType": 16,
    "lenVar": 40
   },
   "kernels_config": {
    "python": {
     "delete_cmd_postfix": "",
     "delete_cmd_prefix": "del ",
     "library": "var_list.py",
     "varRefreshCmd": "print(var_dic_list())"
    },
    "r": {
     "delete_cmd_postfix": ") ",
     "delete_cmd_prefix": "rm(",
     "library": "var_list.r",
     "varRefreshCmd": "cat(var_dic_list()) "
    }
   },
   "types_to_exclude": [
    "module",
    "function",
    "builtin_function_or_method",
    "instance",
    "_Feature"
   ],
   "window_display": false
  }
 },
 "nbformat": 4,
 "nbformat_minor": 2
}
