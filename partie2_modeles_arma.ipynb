{
 "cells": [
  {
   "cell_type": "markdown",
   "metadata": {},
   "source": [
    "# Modèles ARMA sur l'indice de production industrielle du log du commerce d'éléctricité"
   ]
  },
  {
   "cell_type": "code",
   "execution_count": 42,
   "metadata": {
    "collapsed": true
   },
   "outputs": [],
   "source": [
    "import pandas as pd\n",
    "import matplotlib.pyplot as plt\n",
    "import matplotlib as mpl\n",
    "import seaborn as sns\n",
    "import numpy as np\n",
    "sns.set()\n",
    "%matplotlib inline\n",
    "import scipy.stats as stats"
   ]
  },
  {
   "cell_type": "markdown",
   "metadata": {},
   "source": [
    "#### Chargement des données brutes"
   ]
  },
  {
   "cell_type": "code",
   "execution_count": 43,
   "metadata": {
    "collapsed": true
   },
   "outputs": [],
   "source": [
    "import os\n",
    "os.chdir(\"/Users/admin/Desktop/ENSAE/2A/S2/Séries temporelles/Projet/TimeSeries\")"
   ]
  },
  {
   "cell_type": "code",
   "execution_count": 44,
   "metadata": {},
   "outputs": [
    {
     "data": {
      "text/html": [
       "<div>\n",
       "<style scoped>\n",
       "    .dataframe tbody tr th:only-of-type {\n",
       "        vertical-align: middle;\n",
       "    }\n",
       "\n",
       "    .dataframe tbody tr th {\n",
       "        vertical-align: top;\n",
       "    }\n",
       "\n",
       "    .dataframe thead th {\n",
       "        text-align: right;\n",
       "    }\n",
       "</style>\n",
       "<table border=\"1\" class=\"dataframe\">\n",
       "  <thead>\n",
       "    <tr style=\"text-align: right;\">\n",
       "      <th></th>\n",
       "      <th>Electricite</th>\n",
       "    </tr>\n",
       "    <tr>\n",
       "      <th>Libellé</th>\n",
       "      <th></th>\n",
       "    </tr>\n",
       "  </thead>\n",
       "  <tbody>\n",
       "    <tr>\n",
       "      <th>1990-01-01</th>\n",
       "      <td>4.455277</td>\n",
       "    </tr>\n",
       "    <tr>\n",
       "      <th>1990-02-01</th>\n",
       "      <td>4.209606</td>\n",
       "    </tr>\n",
       "    <tr>\n",
       "      <th>1990-03-01</th>\n",
       "      <td>4.228147</td>\n",
       "    </tr>\n",
       "    <tr>\n",
       "      <th>1990-04-01</th>\n",
       "      <td>4.173618</td>\n",
       "    </tr>\n",
       "    <tr>\n",
       "      <th>1990-05-01</th>\n",
       "      <td>3.936130</td>\n",
       "    </tr>\n",
       "  </tbody>\n",
       "</table>\n",
       "</div>"
      ],
      "text/plain": [
       "            Electricite\n",
       "Libellé                \n",
       "1990-01-01     4.455277\n",
       "1990-02-01     4.209606\n",
       "1990-03-01     4.228147\n",
       "1990-04-01     4.173618\n",
       "1990-05-01     3.936130"
      ]
     },
     "execution_count": 44,
     "metadata": {},
     "output_type": "execute_result"
    }
   ],
   "source": [
    "dfE = pd.read_csv(\n",
    "   \"Electricite/valeurs_mensuelles.csv\",\n",
    "    sep=\";\",\n",
    "    skiprows=[1, 2],\n",
    "    index_col=\"Libellé\",\n",
    "    parse_dates=[\"Libellé\"])\n",
    "dfE.columns = [\"Electricite\",\"ToDelete\"]\n",
    "del(dfE[\"ToDelete\"])\n",
    "\n",
    "log_dfE = np.log(dfE)\n",
    "log_dfE.head()"
   ]
  },
  {
   "cell_type": "markdown",
   "metadata": {},
   "source": [
    "#### Chargement des données stationnarisées"
   ]
  },
  {
   "cell_type": "code",
   "execution_count": 45,
   "metadata": {},
   "outputs": [
    {
     "data": {
      "text/html": [
       "<div>\n",
       "<style scoped>\n",
       "    .dataframe tbody tr th:only-of-type {\n",
       "        vertical-align: middle;\n",
       "    }\n",
       "\n",
       "    .dataframe tbody tr th {\n",
       "        vertical-align: top;\n",
       "    }\n",
       "\n",
       "    .dataframe thead th {\n",
       "        text-align: right;\n",
       "    }\n",
       "</style>\n",
       "<table border=\"1\" class=\"dataframe\">\n",
       "  <thead>\n",
       "    <tr style=\"text-align: right;\">\n",
       "      <th></th>\n",
       "      <th>Electricite</th>\n",
       "    </tr>\n",
       "    <tr>\n",
       "      <th>Date</th>\n",
       "      <th></th>\n",
       "    </tr>\n",
       "  </thead>\n",
       "  <tbody>\n",
       "    <tr>\n",
       "      <th>1990-02-01</th>\n",
       "      <td>-0.125571</td>\n",
       "    </tr>\n",
       "    <tr>\n",
       "      <th>1990-03-01</th>\n",
       "      <td>0.067431</td>\n",
       "    </tr>\n",
       "    <tr>\n",
       "      <th>1990-04-01</th>\n",
       "      <td>0.115244</td>\n",
       "    </tr>\n",
       "    <tr>\n",
       "      <th>1990-05-01</th>\n",
       "      <td>-0.112320</td>\n",
       "    </tr>\n",
       "    <tr>\n",
       "      <th>1990-06-01</th>\n",
       "      <td>0.051904</td>\n",
       "    </tr>\n",
       "  </tbody>\n",
       "</table>\n",
       "</div>"
      ],
      "text/plain": [
       "            Electricite\n",
       "Date                   \n",
       "1990-02-01    -0.125571\n",
       "1990-03-01     0.067431\n",
       "1990-04-01     0.115244\n",
       "1990-05-01    -0.112320\n",
       "1990-06-01     0.051904"
      ]
     },
     "execution_count": 45,
     "metadata": {},
     "output_type": "execute_result"
    }
   ],
   "source": [
    "s = pd.read_csv(\"Electricite/stationnaire.csv\", parse_dates=[0], header=None, index_col=0)\n",
    "s.columns = [\"Electricite\"]\n",
    "s.index.names = ['Date']\n",
    "s.head()"
   ]
  },
  {
   "cell_type": "markdown",
   "metadata": {},
   "source": [
    "## Etude et comparaison de différents modèles ARMA"
   ]
  },
  {
   "cell_type": "markdown",
   "metadata": {},
   "source": [
    "### Sélection des ordres $p^*, q^*$"
   ]
  },
  {
   "cell_type": "code",
   "execution_count": 8,
   "metadata": {},
   "outputs": [
    {
     "name": "stderr",
     "output_type": "stream",
     "text": [
      "/anaconda/lib/python3.6/site-packages/statsmodels/compat/pandas.py:56: FutureWarning: The pandas.core.datetools module is deprecated and will be removed in a future version. Please use the pandas.tseries module instead.\n",
      "  from pandas.core import datetools\n"
     ]
    }
   ],
   "source": [
    "from statsmodels.graphics.tsaplots import plot_acf, plot_pacf"
   ]
  },
  {
   "cell_type": "markdown",
   "metadata": {},
   "source": [
    "#### Etude des autocorrélogrammes partiels et totaux de la série $\\tilde{X_t}$"
   ]
  },
  {
   "cell_type": "code",
   "execution_count": 9,
   "metadata": {},
   "outputs": [
    {
     "data": {
      "image/png": "[encoded data removed]",
      "text/plain": [
       "<matplotlib.figure.Figure at 0x1c1b3bdac8>"
      ]
     },
     "metadata": {},
     "output_type": "display_data"
    },
    {
     "data": {
      "image/png": "[encoded data removed]",
      "text/plain": [
       "<matplotlib.figure.Figure at 0x1c1d482128>"
      ]
     },
     "metadata": {},
     "output_type": "display_data"
    }
   ],
   "source": [
    "with mpl.rc_context():\n",
    "    mpl.rc(\"figure\", figsize=(14,7))\n",
    "\n",
    "    plot_acf(s, lags=50,\n",
    "             title=\"acf logarithme indice brut de la production commerce d'electricite\")\n",
    "    #plt.savefig(\"Images/acf.png\")\n",
    "\n",
    "    plot_pacf(s, lags=50,\n",
    "             title=\"pacf logarithme indice brut de la production commerce d'electricite\")\n",
    "    #plt.savefig(\"Images/pacf.png\")"
   ]
  },
  {
   "cell_type": "markdown",
   "metadata": {},
   "source": [
    "**Commentaires:** L'ordre $q$ vraisemblable $\\in \\{0, 1, 3, 4\\}$\n",
    "\n",
    "L'ordre $p$ vraisemblable $\\in \\{0, 1, 2, 3, 4, 5, 6, 7\\}$\n"
   ]
  },
  {
   "cell_type": "markdown",
   "metadata": {},
   "source": [
    "### Sélection de modèles ARMA"
   ]
  },
  {
   "cell_type": "code",
   "execution_count": 46,
   "metadata": {
    "collapsed": true
   },
   "outputs": [],
   "source": [
    "import warnings\n",
    "warnings.filterwarnings(\"ignore\")"
   ]
  },
  {
   "cell_type": "code",
   "execution_count": 47,
   "metadata": {
    "collapsed": true
   },
   "outputs": [],
   "source": [
    "from statsmodels.tsa.arima_model import ARMA\n",
    "from statsmodels.stats.diagnostic import acorr_ljungbox\n",
    "from sklearn.metrics import mean_squared_error"
   ]
  },
  {
   "cell_type": "markdown",
   "metadata": {},
   "source": [
    "On cherche à sélectionner parmi les modèles valides (dont les résidus sont des bruits blancs) et ayant un bon ajustement ceux qui ont les meilleurs critères d'information (AIC, BIC) et score MSE:"
   ]
  },
  {
   "cell_type": "code",
   "execution_count": 7,
   "metadata": {
    "collapsed": true
   },
   "outputs": [],
   "source": [
    "def evaluate_arma(dataset, p_values, q_values):\n",
    "\n",
    "    N = dataset.shape[0]\n",
    "    train = dataset.iloc[1:(N-6)]\n",
    "    test = dataset.iloc[(N-6):N]\n",
    "    \n",
    "    info_criterium, ljung_box, pvalues_coef, mse = pd.DataFrame([],columns=[\"order\",\"AIC\",\"BIC\",\"MSE\"]), None, [], None\n",
    "\n",
    "    for p in p_values:\n",
    "\n",
    "        for q in q_values:\n",
    "\n",
    "            my_order = (p, q)\n",
    "\n",
    "            try:\n",
    "\n",
    "                model = ARMA(dataset, order=my_order)\n",
    "                model_fit = model.fit()\n",
    "\n",
    "                # On verifie que toutes les p-value du test de Ljung-box sont bien supérieures à 0.05\n",
    "                ljung_box = np.min(acorr_ljungbox(model_fit.resid)[1])\n",
    "\n",
    "                if ljung_box > 0.05:\n",
    "\n",
    "                    # On regarde l'ajustement des modèles valides\n",
    "\n",
    "                    if p > 0:\n",
    "                        pvalues_coef.append(model_fit.pvalues[\"ar.L\" + str(p) +\n",
    "                                                              \".Electricite\"])\n",
    "                    if q > 0:\n",
    "                        pvalues_coef.append(model_fit.pvalues[\"ma.L\" + str(q) +\n",
    "                                                              \".Electricite\"])\n",
    "\n",
    "                    if max(pvalues_coef) < 0.05:\n",
    "                        #modele bien ajusté\n",
    "\n",
    "                        model_mse = ARMA(train, order=my_order).fit()\n",
    "                        pred = model_mse.forecast(6)[0]\n",
    "                        mse = mean_squared_error(pred,test)\n",
    "                        \n",
    "                        info_criterium = info_criterium.append(pd.Series({\"order\":my_order,\n",
    "                                                                \"AIC\":model_fit.aic,\n",
    "                                                                \"BIC\":model_fit.bic,\n",
    "                                                                \"MSE\":mse}),\n",
    "                                                                 ignore_index=True)\n",
    "                        \n",
    "                        \n",
    "                        \n",
    "\n",
    "                    pvalues_coef, mse = [], None\n",
    "\n",
    "            except:\n",
    "\n",
    "                print(\"je n'ai pas convergé : {}\".format(my_order))\n",
    "                continue\n",
    "                \n",
    "    #info_criterium.set_index(\"order\",inplace=True)\n",
    "    print(\"{} modèles sélectionnés\".format(len(info_criterium)))\n",
    "                \n",
    "\n",
    "    return info_criterium"
   ]
  },
  {
   "cell_type": "code",
   "execution_count": 8,
   "metadata": {
    "collapsed": true
   },
   "outputs": [],
   "source": [
    "p_values = [0, 1, 2, 3, 4, 5, 6, 7]\n",
    "q_values = [0, 1, 2, 3, 4]"
   ]
  },
  {
   "cell_type": "code",
   "execution_count": 199,
   "metadata": {},
   "outputs": [
    {
     "name": "stdout",
     "output_type": "stream",
     "text": [
      "je n'ai pas convergé : (0, 4)\n",
      "je n'ai pas convergé : (5, 2)\n",
      "je n'ai pas convergé : (5, 3)\n",
      "je n'ai pas convergé : (6, 4)\n",
      "9 modèles sélectionnés\n",
      "CPU times: user 58.2 s, sys: 4.07 s, total: 1min 2s\n",
      "Wall time: 46.1 s\n"
     ]
    }
   ],
   "source": [
    "%%time\n",
    "df = evaluate_arma(s, p_values, q_values)"
   ]
  },
  {
   "cell_type": "code",
   "execution_count": 10,
   "metadata": {},
   "outputs": [
    {
     "data": {
      "text/html": [
       "<div>\n",
       "<style scoped>\n",
       "    .dataframe tbody tr th:only-of-type {\n",
       "        vertical-align: middle;\n",
       "    }\n",
       "\n",
       "    .dataframe tbody tr th {\n",
       "        vertical-align: top;\n",
       "    }\n",
       "\n",
       "    .dataframe thead th {\n",
       "        text-align: right;\n",
       "    }\n",
       "</style>\n",
       "<table border=\"1\" class=\"dataframe\">\n",
       "  <thead>\n",
       "    <tr style=\"text-align: right;\">\n",
       "      <th></th>\n",
       "      <th>order</th>\n",
       "      <th>AIC</th>\n",
       "      <th>BIC</th>\n",
       "      <th>MSE</th>\n",
       "    </tr>\n",
       "  </thead>\n",
       "  <tbody>\n",
       "    <tr>\n",
       "      <th>6</th>\n",
       "      <td>(4, 4)</td>\n",
       "      <td>-1181.339093</td>\n",
       "      <td>-1142.788373</td>\n",
       "      <td>0.004092</td>\n",
       "    </tr>\n",
       "    <tr>\n",
       "      <th>5</th>\n",
       "      <td>(4, 1)</td>\n",
       "      <td>-1180.929642</td>\n",
       "      <td>-1153.944138</td>\n",
       "      <td>0.004611</td>\n",
       "    </tr>\n",
       "    <tr>\n",
       "      <th>1</th>\n",
       "      <td>(1, 1)</td>\n",
       "      <td>-1179.678125</td>\n",
       "      <td>-1164.257837</td>\n",
       "      <td>0.004543</td>\n",
       "    </tr>\n",
       "    <tr>\n",
       "      <th>0</th>\n",
       "      <td>(0, 2)</td>\n",
       "      <td>-1179.292567</td>\n",
       "      <td>-1163.872280</td>\n",
       "      <td>0.004522</td>\n",
       "    </tr>\n",
       "    <tr>\n",
       "      <th>4</th>\n",
       "      <td>(3, 3)</td>\n",
       "      <td>-1177.723612</td>\n",
       "      <td>-1146.883037</td>\n",
       "      <td>0.004172</td>\n",
       "    </tr>\n",
       "    <tr>\n",
       "      <th>2</th>\n",
       "      <td>(2, 2)</td>\n",
       "      <td>-1177.641690</td>\n",
       "      <td>-1154.511258</td>\n",
       "      <td>0.004773</td>\n",
       "    </tr>\n",
       "    <tr>\n",
       "      <th>3</th>\n",
       "      <td>(2, 3)</td>\n",
       "      <td>-1176.177085</td>\n",
       "      <td>-1149.191582</td>\n",
       "      <td>0.004842</td>\n",
       "    </tr>\n",
       "    <tr>\n",
       "      <th>8</th>\n",
       "      <td>(7, 0)</td>\n",
       "      <td>-1169.640823</td>\n",
       "      <td>-1134.945176</td>\n",
       "      <td>0.004242</td>\n",
       "    </tr>\n",
       "    <tr>\n",
       "      <th>7</th>\n",
       "      <td>(5, 0)</td>\n",
       "      <td>-1165.807874</td>\n",
       "      <td>-1138.822371</td>\n",
       "      <td>0.004742</td>\n",
       "    </tr>\n",
       "  </tbody>\n",
       "</table>\n",
       "</div>"
      ],
      "text/plain": [
       "    order          AIC          BIC       MSE\n",
       "6  (4, 4) -1181.339093 -1142.788373  0.004092\n",
       "5  (4, 1) -1180.929642 -1153.944138  0.004611\n",
       "1  (1, 1) -1179.678125 -1164.257837  0.004543\n",
       "0  (0, 2) -1179.292567 -1163.872280  0.004522\n",
       "4  (3, 3) -1177.723612 -1146.883037  0.004172\n",
       "2  (2, 2) -1177.641690 -1154.511258  0.004773\n",
       "3  (2, 3) -1176.177085 -1149.191582  0.004842\n",
       "8  (7, 0) -1169.640823 -1134.945176  0.004242\n",
       "7  (5, 0) -1165.807874 -1138.822371  0.004742"
      ]
     },
     "execution_count": 10,
     "metadata": {},
     "output_type": "execute_result"
    }
   ],
   "source": [
    "df.sort_values(by=\"AIC\",axis=0)"
   ]
  },
  {
   "cell_type": "code",
   "execution_count": 202,
   "metadata": {},
   "outputs": [
    {
     "data": {
      "text/html": [
       "<div>\n",
       "<style scoped>\n",
       "    .dataframe tbody tr th:only-of-type {\n",
       "        vertical-align: middle;\n",
       "    }\n",
       "\n",
       "    .dataframe tbody tr th {\n",
       "        vertical-align: top;\n",
       "    }\n",
       "\n",
       "    .dataframe thead th {\n",
       "        text-align: right;\n",
       "    }\n",
       "</style>\n",
       "<table border=\"1\" class=\"dataframe\">\n",
       "  <thead>\n",
       "    <tr style=\"text-align: right;\">\n",
       "      <th></th>\n",
       "      <th>order</th>\n",
       "      <th>AIC</th>\n",
       "      <th>BIC</th>\n",
       "      <th>MSE</th>\n",
       "    </tr>\n",
       "  </thead>\n",
       "  <tbody>\n",
       "    <tr>\n",
       "      <th>1</th>\n",
       "      <td>(1, 1)</td>\n",
       "      <td>-1179.678125</td>\n",
       "      <td>-1164.257837</td>\n",
       "      <td>0.004543</td>\n",
       "    </tr>\n",
       "    <tr>\n",
       "      <th>0</th>\n",
       "      <td>(0, 2)</td>\n",
       "      <td>-1179.292567</td>\n",
       "      <td>-1163.872280</td>\n",
       "      <td>0.004522</td>\n",
       "    </tr>\n",
       "    <tr>\n",
       "      <th>2</th>\n",
       "      <td>(2, 2)</td>\n",
       "      <td>-1177.641690</td>\n",
       "      <td>-1154.511258</td>\n",
       "      <td>0.004773</td>\n",
       "    </tr>\n",
       "    <tr>\n",
       "      <th>5</th>\n",
       "      <td>(4, 1)</td>\n",
       "      <td>-1180.929642</td>\n",
       "      <td>-1153.944138</td>\n",
       "      <td>0.004611</td>\n",
       "    </tr>\n",
       "    <tr>\n",
       "      <th>3</th>\n",
       "      <td>(2, 3)</td>\n",
       "      <td>-1176.177085</td>\n",
       "      <td>-1149.191582</td>\n",
       "      <td>0.004842</td>\n",
       "    </tr>\n",
       "    <tr>\n",
       "      <th>4</th>\n",
       "      <td>(3, 3)</td>\n",
       "      <td>-1177.723612</td>\n",
       "      <td>-1146.883037</td>\n",
       "      <td>0.004172</td>\n",
       "    </tr>\n",
       "    <tr>\n",
       "      <th>6</th>\n",
       "      <td>(4, 4)</td>\n",
       "      <td>-1181.339093</td>\n",
       "      <td>-1142.788373</td>\n",
       "      <td>0.004092</td>\n",
       "    </tr>\n",
       "    <tr>\n",
       "      <th>7</th>\n",
       "      <td>(5, 0)</td>\n",
       "      <td>-1165.807874</td>\n",
       "      <td>-1138.822371</td>\n",
       "      <td>0.004742</td>\n",
       "    </tr>\n",
       "    <tr>\n",
       "      <th>8</th>\n",
       "      <td>(7, 0)</td>\n",
       "      <td>-1169.640823</td>\n",
       "      <td>-1134.945176</td>\n",
       "      <td>0.004242</td>\n",
       "    </tr>\n",
       "  </tbody>\n",
       "</table>\n",
       "</div>"
      ],
      "text/plain": [
       "    order          AIC          BIC       MSE\n",
       "1  (1, 1) -1179.678125 -1164.257837  0.004543\n",
       "0  (0, 2) -1179.292567 -1163.872280  0.004522\n",
       "2  (2, 2) -1177.641690 -1154.511258  0.004773\n",
       "5  (4, 1) -1180.929642 -1153.944138  0.004611\n",
       "3  (2, 3) -1176.177085 -1149.191582  0.004842\n",
       "4  (3, 3) -1177.723612 -1146.883037  0.004172\n",
       "6  (4, 4) -1181.339093 -1142.788373  0.004092\n",
       "7  (5, 0) -1165.807874 -1138.822371  0.004742\n",
       "8  (7, 0) -1169.640823 -1134.945176  0.004242"
      ]
     },
     "execution_count": 202,
     "metadata": {},
     "output_type": "execute_result"
    }
   ],
   "source": [
    "df.sort_values(by=\"BIC\",axis=0)"
   ]
  },
  {
   "cell_type": "code",
   "execution_count": 203,
   "metadata": {},
   "outputs": [
    {
     "data": {
      "text/html": [
       "<div>\n",
       "<style scoped>\n",
       "    .dataframe tbody tr th:only-of-type {\n",
       "        vertical-align: middle;\n",
       "    }\n",
       "\n",
       "    .dataframe tbody tr th {\n",
       "        vertical-align: top;\n",
       "    }\n",
       "\n",
       "    .dataframe thead th {\n",
       "        text-align: right;\n",
       "    }\n",
       "</style>\n",
       "<table border=\"1\" class=\"dataframe\">\n",
       "  <thead>\n",
       "    <tr style=\"text-align: right;\">\n",
       "      <th></th>\n",
       "      <th>order</th>\n",
       "      <th>AIC</th>\n",
       "      <th>BIC</th>\n",
       "      <th>MSE</th>\n",
       "    </tr>\n",
       "  </thead>\n",
       "  <tbody>\n",
       "    <tr>\n",
       "      <th>6</th>\n",
       "      <td>(4, 4)</td>\n",
       "      <td>-1181.339093</td>\n",
       "      <td>-1142.788373</td>\n",
       "      <td>0.004092</td>\n",
       "    </tr>\n",
       "    <tr>\n",
       "      <th>4</th>\n",
       "      <td>(3, 3)</td>\n",
       "      <td>-1177.723612</td>\n",
       "      <td>-1146.883037</td>\n",
       "      <td>0.004172</td>\n",
       "    </tr>\n",
       "    <tr>\n",
       "      <th>8</th>\n",
       "      <td>(7, 0)</td>\n",
       "      <td>-1169.640823</td>\n",
       "      <td>-1134.945176</td>\n",
       "      <td>0.004242</td>\n",
       "    </tr>\n",
       "    <tr>\n",
       "      <th>0</th>\n",
       "      <td>(0, 2)</td>\n",
       "      <td>-1179.292567</td>\n",
       "      <td>-1163.872280</td>\n",
       "      <td>0.004522</td>\n",
       "    </tr>\n",
       "    <tr>\n",
       "      <th>1</th>\n",
       "      <td>(1, 1)</td>\n",
       "      <td>-1179.678125</td>\n",
       "      <td>-1164.257837</td>\n",
       "      <td>0.004543</td>\n",
       "    </tr>\n",
       "    <tr>\n",
       "      <th>5</th>\n",
       "      <td>(4, 1)</td>\n",
       "      <td>-1180.929642</td>\n",
       "      <td>-1153.944138</td>\n",
       "      <td>0.004611</td>\n",
       "    </tr>\n",
       "    <tr>\n",
       "      <th>7</th>\n",
       "      <td>(5, 0)</td>\n",
       "      <td>-1165.807874</td>\n",
       "      <td>-1138.822371</td>\n",
       "      <td>0.004742</td>\n",
       "    </tr>\n",
       "    <tr>\n",
       "      <th>2</th>\n",
       "      <td>(2, 2)</td>\n",
       "      <td>-1177.641690</td>\n",
       "      <td>-1154.511258</td>\n",
       "      <td>0.004773</td>\n",
       "    </tr>\n",
       "    <tr>\n",
       "      <th>3</th>\n",
       "      <td>(2, 3)</td>\n",
       "      <td>-1176.177085</td>\n",
       "      <td>-1149.191582</td>\n",
       "      <td>0.004842</td>\n",
       "    </tr>\n",
       "  </tbody>\n",
       "</table>\n",
       "</div>"
      ],
      "text/plain": [
       "    order          AIC          BIC       MSE\n",
       "6  (4, 4) -1181.339093 -1142.788373  0.004092\n",
       "4  (3, 3) -1177.723612 -1146.883037  0.004172\n",
       "8  (7, 0) -1169.640823 -1134.945176  0.004242\n",
       "0  (0, 2) -1179.292567 -1163.872280  0.004522\n",
       "1  (1, 1) -1179.678125 -1164.257837  0.004543\n",
       "5  (4, 1) -1180.929642 -1153.944138  0.004611\n",
       "7  (5, 0) -1165.807874 -1138.822371  0.004742\n",
       "2  (2, 2) -1177.641690 -1154.511258  0.004773\n",
       "3  (2, 3) -1176.177085 -1149.191582  0.004842"
      ]
     },
     "execution_count": 203,
     "metadata": {},
     "output_type": "execute_result"
    }
   ],
   "source": [
    "df.sort_values(by=\"MSE\",axis=0)"
   ]
  },
  {
   "cell_type": "markdown",
   "metadata": {},
   "source": [
    "### Etudes complémentaires des résidus"
   ]
  },
  {
   "cell_type": "markdown",
   "metadata": {},
   "source": [
    "On regarde les autocorrélogrammes des résidus de chaque modèle"
   ]
  },
  {
   "cell_type": "code",
   "execution_count": 247,
   "metadata": {
    "collapsed": true
   },
   "outputs": [],
   "source": [
    "def test_res(order):\n",
    "    arma_model = ARMA(s, order=order).fit()\n",
    "    resid = arma_model.resid\n",
    "    \n",
    "    plot_acf(resid, lags=24)\n",
    "    plt.show()    "
   ]
  },
  {
   "cell_type": "code",
   "execution_count": 208,
   "metadata": {
    "collapsed": true
   },
   "outputs": [],
   "source": [
    "ordre = df.order.values"
   ]
  },
  {
   "cell_type": "code",
   "execution_count": 248,
   "metadata": {},
   "outputs": [
    {
     "data": {
      "image/png": "[encoded data removed]",
      "text/plain": [
       "<matplotlib.figure.Figure at 0x1c21c23898>"
      ]
     },
     "metadata": {},
     "output_type": "display_data"
    },
    {
     "name": "stdout",
     "output_type": "stream",
     "text": [
      "(-0.004652133134417465, 0.004652133134417465) ordre: (0, 2)\n"
     ]
    },
    {
     "data": {
      "image/png": "[encoded data removed]",
      "text/plain": [
       "<matplotlib.figure.Figure at 0x1c21fa5198>"
      ]
     },
     "metadata": {},
     "output_type": "display_data"
    },
    {
     "name": "stdout",
     "output_type": "stream",
     "text": [
      "(-0.004649691852479468, 0.004649691852479468) ordre: (1, 1)\n"
     ]
    },
    {
     "data": {
      "image/png": "[encoded data removed]",
      "text/plain": [
       "<matplotlib.figure.Figure at 0x1c220b3be0>"
      ]
     },
     "metadata": {},
     "output_type": "display_data"
    },
    {
     "name": "stdout",
     "output_type": "stream",
     "text": [
      "(-0.004634867422085119, 0.004634867422085119) ordre: (2, 2)\n"
     ]
    },
    {
     "data": {
      "image/png": "[encoded data removed]",
      "text/plain": [
       "<matplotlib.figure.Figure at 0x104ca4160>"
      ]
     },
     "metadata": {},
     "output_type": "display_data"
    },
    {
     "name": "stdout",
     "output_type": "stream",
     "text": [
      "(-0.004635286254184447, 0.004635286254184447) ordre: (2, 3)\n"
     ]
    },
    {
     "data": {
      "image/png": "[encoded data removed]",
      "text/plain": [
       "<matplotlib.figure.Figure at 0x1c21685d30>"
      ]
     },
     "metadata": {},
     "output_type": "display_data"
    },
    {
     "name": "stdout",
     "output_type": "stream",
     "text": [
      "(-0.004609162684476449, 0.004609162684476449) ordre: (3, 3)\n"
     ]
    },
    {
     "data": {
      "image/png": "[encoded data removed]",
      "text/plain": [
       "<matplotlib.figure.Figure at 0x104ca4d30>"
      ]
     },
     "metadata": {},
     "output_type": "display_data"
    },
    {
     "name": "stdout",
     "output_type": "stream",
     "text": [
      "(-0.004602150978029043, 0.004602150978029043) ordre: (4, 1)\n"
     ]
    },
    {
     "data": {
      "image/png": "[encoded data removed]",
      "text/plain": [
       "<matplotlib.figure.Figure at 0x1c21c236d8>"
      ]
     },
     "metadata": {},
     "output_type": "display_data"
    },
    {
     "name": "stdout",
     "output_type": "stream",
     "text": [
      "(-0.004563336686760367, 0.004563336686760367) ordre: (4, 4)\n"
     ]
    },
    {
     "data": {
      "image/png": "[encoded data removed]",
      "text/plain": [
       "<matplotlib.figure.Figure at 0x1c14583080>"
      ]
     },
     "metadata": {},
     "output_type": "display_data"
    },
    {
     "name": "stdout",
     "output_type": "stream",
     "text": [
      "(-0.004700173428209644, 0.004700173428209644) ordre: (5, 0)\n"
     ]
    },
    {
     "data": {
      "image/png": "[encoded data removed]",
      "text/plain": [
       "<matplotlib.figure.Figure at 0x1c220bd048>"
      ]
     },
     "metadata": {},
     "output_type": "display_data"
    },
    {
     "name": "stdout",
     "output_type": "stream",
     "text": [
      "(-0.0046490969449194015, 0.0046490969449194015) ordre: (7, 0)\n"
     ]
    }
   ],
   "source": [
    "for order in ordre:\n",
    "    test_res(order)"
   ]
  },
  {
   "cell_type": "markdown",
   "metadata": {},
   "source": [
    "**Commentaires:** On élimine les modèles suivants: (0,2), (1,1) et (5,0)."
   ]
  },
  {
   "cell_type": "code",
   "execution_count": 210,
   "metadata": {
    "collapsed": true
   },
   "outputs": [],
   "source": [
    "delete = [(0,2),(1,1),(5,0)]"
   ]
  },
  {
   "cell_type": "code",
   "execution_count": 221,
   "metadata": {
    "collapsed": true
   },
   "outputs": [],
   "source": [
    "df_final = df[~df['order'].isin(delete)].reset_index(drop=True)"
   ]
  },
  {
   "cell_type": "code",
   "execution_count": 225,
   "metadata": {},
   "outputs": [
    {
     "data": {
      "text/html": [
       "<div>\n",
       "<style scoped>\n",
       "    .dataframe tbody tr th:only-of-type {\n",
       "        vertical-align: middle;\n",
       "    }\n",
       "\n",
       "    .dataframe tbody tr th {\n",
       "        vertical-align: top;\n",
       "    }\n",
       "\n",
       "    .dataframe thead th {\n",
       "        text-align: right;\n",
       "    }\n",
       "</style>\n",
       "<table border=\"1\" class=\"dataframe\">\n",
       "  <thead>\n",
       "    <tr style=\"text-align: right;\">\n",
       "      <th></th>\n",
       "      <th>order</th>\n",
       "      <th>AIC</th>\n",
       "      <th>BIC</th>\n",
       "      <th>MSE</th>\n",
       "    </tr>\n",
       "  </thead>\n",
       "  <tbody>\n",
       "    <tr>\n",
       "      <th>4</th>\n",
       "      <td>(4, 4)</td>\n",
       "      <td>-1181.339093</td>\n",
       "      <td>-1142.788373</td>\n",
       "      <td>0.004092</td>\n",
       "    </tr>\n",
       "    <tr>\n",
       "      <th>3</th>\n",
       "      <td>(4, 1)</td>\n",
       "      <td>-1180.929642</td>\n",
       "      <td>-1153.944138</td>\n",
       "      <td>0.004611</td>\n",
       "    </tr>\n",
       "    <tr>\n",
       "      <th>2</th>\n",
       "      <td>(3, 3)</td>\n",
       "      <td>-1177.723612</td>\n",
       "      <td>-1146.883037</td>\n",
       "      <td>0.004172</td>\n",
       "    </tr>\n",
       "    <tr>\n",
       "      <th>0</th>\n",
       "      <td>(2, 2)</td>\n",
       "      <td>-1177.641690</td>\n",
       "      <td>-1154.511258</td>\n",
       "      <td>0.004773</td>\n",
       "    </tr>\n",
       "    <tr>\n",
       "      <th>1</th>\n",
       "      <td>(2, 3)</td>\n",
       "      <td>-1176.177085</td>\n",
       "      <td>-1149.191582</td>\n",
       "      <td>0.004842</td>\n",
       "    </tr>\n",
       "    <tr>\n",
       "      <th>5</th>\n",
       "      <td>(7, 0)</td>\n",
       "      <td>-1169.640823</td>\n",
       "      <td>-1134.945176</td>\n",
       "      <td>0.004242</td>\n",
       "    </tr>\n",
       "  </tbody>\n",
       "</table>\n",
       "</div>"
      ],
      "text/plain": [
       "    order          AIC          BIC       MSE\n",
       "4  (4, 4) -1181.339093 -1142.788373  0.004092\n",
       "3  (4, 1) -1180.929642 -1153.944138  0.004611\n",
       "2  (3, 3) -1177.723612 -1146.883037  0.004172\n",
       "0  (2, 2) -1177.641690 -1154.511258  0.004773\n",
       "1  (2, 3) -1176.177085 -1149.191582  0.004842\n",
       "5  (7, 0) -1169.640823 -1134.945176  0.004242"
      ]
     },
     "execution_count": 225,
     "metadata": {},
     "output_type": "execute_result"
    }
   ],
   "source": [
    "df_final.sort_values(by=\"AIC\", axis=0)"
   ]
  },
  {
   "cell_type": "code",
   "execution_count": 226,
   "metadata": {},
   "outputs": [
    {
     "data": {
      "text/html": [
       "<div>\n",
       "<style scoped>\n",
       "    .dataframe tbody tr th:only-of-type {\n",
       "        vertical-align: middle;\n",
       "    }\n",
       "\n",
       "    .dataframe tbody tr th {\n",
       "        vertical-align: top;\n",
       "    }\n",
       "\n",
       "    .dataframe thead th {\n",
       "        text-align: right;\n",
       "    }\n",
       "</style>\n",
       "<table border=\"1\" class=\"dataframe\">\n",
       "  <thead>\n",
       "    <tr style=\"text-align: right;\">\n",
       "      <th></th>\n",
       "      <th>order</th>\n",
       "      <th>AIC</th>\n",
       "      <th>BIC</th>\n",
       "      <th>MSE</th>\n",
       "    </tr>\n",
       "  </thead>\n",
       "  <tbody>\n",
       "    <tr>\n",
       "      <th>0</th>\n",
       "      <td>(2, 2)</td>\n",
       "      <td>-1177.641690</td>\n",
       "      <td>-1154.511258</td>\n",
       "      <td>0.004773</td>\n",
       "    </tr>\n",
       "    <tr>\n",
       "      <th>3</th>\n",
       "      <td>(4, 1)</td>\n",
       "      <td>-1180.929642</td>\n",
       "      <td>-1153.944138</td>\n",
       "      <td>0.004611</td>\n",
       "    </tr>\n",
       "    <tr>\n",
       "      <th>1</th>\n",
       "      <td>(2, 3)</td>\n",
       "      <td>-1176.177085</td>\n",
       "      <td>-1149.191582</td>\n",
       "      <td>0.004842</td>\n",
       "    </tr>\n",
       "    <tr>\n",
       "      <th>2</th>\n",
       "      <td>(3, 3)</td>\n",
       "      <td>-1177.723612</td>\n",
       "      <td>-1146.883037</td>\n",
       "      <td>0.004172</td>\n",
       "    </tr>\n",
       "    <tr>\n",
       "      <th>4</th>\n",
       "      <td>(4, 4)</td>\n",
       "      <td>-1181.339093</td>\n",
       "      <td>-1142.788373</td>\n",
       "      <td>0.004092</td>\n",
       "    </tr>\n",
       "    <tr>\n",
       "      <th>5</th>\n",
       "      <td>(7, 0)</td>\n",
       "      <td>-1169.640823</td>\n",
       "      <td>-1134.945176</td>\n",
       "      <td>0.004242</td>\n",
       "    </tr>\n",
       "  </tbody>\n",
       "</table>\n",
       "</div>"
      ],
      "text/plain": [
       "    order          AIC          BIC       MSE\n",
       "0  (2, 2) -1177.641690 -1154.511258  0.004773\n",
       "3  (4, 1) -1180.929642 -1153.944138  0.004611\n",
       "1  (2, 3) -1176.177085 -1149.191582  0.004842\n",
       "2  (3, 3) -1177.723612 -1146.883037  0.004172\n",
       "4  (4, 4) -1181.339093 -1142.788373  0.004092\n",
       "5  (7, 0) -1169.640823 -1134.945176  0.004242"
      ]
     },
     "execution_count": 226,
     "metadata": {},
     "output_type": "execute_result"
    }
   ],
   "source": [
    "df_final.sort_values(by=\"BIC\", axis=0)"
   ]
  },
  {
   "cell_type": "code",
   "execution_count": 227,
   "metadata": {},
   "outputs": [
    {
     "data": {
      "text/html": [
       "<div>\n",
       "<style scoped>\n",
       "    .dataframe tbody tr th:only-of-type {\n",
       "        vertical-align: middle;\n",
       "    }\n",
       "\n",
       "    .dataframe tbody tr th {\n",
       "        vertical-align: top;\n",
       "    }\n",
       "\n",
       "    .dataframe thead th {\n",
       "        text-align: right;\n",
       "    }\n",
       "</style>\n",
       "<table border=\"1\" class=\"dataframe\">\n",
       "  <thead>\n",
       "    <tr style=\"text-align: right;\">\n",
       "      <th></th>\n",
       "      <th>order</th>\n",
       "      <th>AIC</th>\n",
       "      <th>BIC</th>\n",
       "      <th>MSE</th>\n",
       "    </tr>\n",
       "  </thead>\n",
       "  <tbody>\n",
       "    <tr>\n",
       "      <th>4</th>\n",
       "      <td>(4, 4)</td>\n",
       "      <td>-1181.339093</td>\n",
       "      <td>-1142.788373</td>\n",
       "      <td>0.004092</td>\n",
       "    </tr>\n",
       "    <tr>\n",
       "      <th>2</th>\n",
       "      <td>(3, 3)</td>\n",
       "      <td>-1177.723612</td>\n",
       "      <td>-1146.883037</td>\n",
       "      <td>0.004172</td>\n",
       "    </tr>\n",
       "    <tr>\n",
       "      <th>5</th>\n",
       "      <td>(7, 0)</td>\n",
       "      <td>-1169.640823</td>\n",
       "      <td>-1134.945176</td>\n",
       "      <td>0.004242</td>\n",
       "    </tr>\n",
       "    <tr>\n",
       "      <th>3</th>\n",
       "      <td>(4, 1)</td>\n",
       "      <td>-1180.929642</td>\n",
       "      <td>-1153.944138</td>\n",
       "      <td>0.004611</td>\n",
       "    </tr>\n",
       "    <tr>\n",
       "      <th>0</th>\n",
       "      <td>(2, 2)</td>\n",
       "      <td>-1177.641690</td>\n",
       "      <td>-1154.511258</td>\n",
       "      <td>0.004773</td>\n",
       "    </tr>\n",
       "    <tr>\n",
       "      <th>1</th>\n",
       "      <td>(2, 3)</td>\n",
       "      <td>-1176.177085</td>\n",
       "      <td>-1149.191582</td>\n",
       "      <td>0.004842</td>\n",
       "    </tr>\n",
       "  </tbody>\n",
       "</table>\n",
       "</div>"
      ],
      "text/plain": [
       "    order          AIC          BIC       MSE\n",
       "4  (4, 4) -1181.339093 -1142.788373  0.004092\n",
       "2  (3, 3) -1177.723612 -1146.883037  0.004172\n",
       "5  (7, 0) -1169.640823 -1134.945176  0.004242\n",
       "3  (4, 1) -1180.929642 -1153.944138  0.004611\n",
       "0  (2, 2) -1177.641690 -1154.511258  0.004773\n",
       "1  (2, 3) -1176.177085 -1149.191582  0.004842"
      ]
     },
     "execution_count": 227,
     "metadata": {},
     "output_type": "execute_result"
    }
   ],
   "source": [
    "df_final.sort_values(by=\"MSE\", axis=0)"
   ]
  },
  {
   "cell_type": "code",
   "execution_count": 238,
   "metadata": {},
   "outputs": [
    {
     "name": "stdout",
     "output_type": "stream",
     "text": [
      "\\begin{tabular}{llrrr}\n",
      "\\toprule\n",
      "{} &   order &          AIC &          BIC &       MSE \\\\\n",
      "\\midrule\n",
      "0 &  (2, 2) & -1177.641690 & -1154.511258 &  0.004773 \\\\\n",
      "1 &  (2, 3) & -1176.177085 & -1149.191582 &  0.004842 \\\\\n",
      "2 &  (3, 3) & -1177.723612 & -1146.883037 &  0.004172 \\\\\n",
      "3 &  (4, 1) & -1180.929642 & -1153.944138 &  0.004611 \\\\\n",
      "4 &  (4, 4) & -1181.339093 & -1142.788373 &  0.004092 \\\\\n",
      "5 &  (7, 0) & -1169.640823 & -1134.945176 &  0.004242 \\\\\n",
      "\\bottomrule\n",
      "\\end{tabular}\n",
      "\n"
     ]
    }
   ],
   "source": [
    "print(df_final.to_latex())"
   ]
  },
  {
   "cell_type": "markdown",
   "metadata": {},
   "source": [
    "### Modèle retenu :"
   ]
  },
  {
   "cell_type": "markdown",
   "metadata": {},
   "source": [
    "* $ARMA(4,4)$"
   ]
  },
  {
   "cell_type": "code",
   "execution_count": 48,
   "metadata": {},
   "outputs": [
    {
     "data": {
      "text/html": [
       "<table class=\"simpletable\">\n",
       "<caption>ARMA Model Results</caption>\n",
       "<tr>\n",
       "  <th>Dep. Variable:</th>    <td>Electricite</td>   <th>  No. Observations:  </th>    <td>349</td>   \n",
       "</tr>\n",
       "<tr>\n",
       "  <th>Model:</th>            <td>ARMA(4, 4)</td>    <th>  Log Likelihood     </th>  <td>600.670</td> \n",
       "</tr>\n",
       "<tr>\n",
       "  <th>Method:</th>             <td>css-mle</td>     <th>  S.D. of innovations</th>   <td>0.043</td>  \n",
       "</tr>\n",
       "<tr>\n",
       "  <th>Date:</th>          <td>Tue, 14 May 2019</td> <th>  AIC                </th> <td>-1181.339</td>\n",
       "</tr>\n",
       "<tr>\n",
       "  <th>Time:</th>              <td>15:54:00</td>     <th>  BIC                </th> <td>-1142.788</td>\n",
       "</tr>\n",
       "<tr>\n",
       "  <th>Sample:</th>           <td>02-01-1990</td>    <th>  HQIC               </th> <td>-1165.993</td>\n",
       "</tr>\n",
       "<tr>\n",
       "  <th></th>                 <td>- 02-01-2019</td>   <th>                     </th>     <td> </td>    \n",
       "</tr>\n",
       "</table>\n",
       "<table class=\"simpletable\">\n",
       "<tr>\n",
       "          <td></td>             <th>coef</th>     <th>std err</th>      <th>z</th>      <th>P>|z|</th>  <th>[0.025</th>    <th>0.975]</th>  \n",
       "</tr>\n",
       "<tr>\n",
       "  <th>const</th>             <td>    0.0013</td> <td>    0.001</td> <td>    2.310</td> <td> 0.021</td> <td>    0.000</td> <td>    0.002</td>\n",
       "</tr>\n",
       "<tr>\n",
       "  <th>ar.L1.Electricite</th> <td>    0.3690</td> <td>    0.406</td> <td>    0.909</td> <td> 0.364</td> <td>   -0.427</td> <td>    1.165</td>\n",
       "</tr>\n",
       "<tr>\n",
       "  <th>ar.L2.Electricite</th> <td>    0.2886</td> <td>    0.332</td> <td>    0.870</td> <td> 0.385</td> <td>   -0.361</td> <td>    0.938</td>\n",
       "</tr>\n",
       "<tr>\n",
       "  <th>ar.L3.Electricite</th> <td>    0.5939</td> <td>    0.192</td> <td>    3.095</td> <td> 0.002</td> <td>    0.218</td> <td>    0.970</td>\n",
       "</tr>\n",
       "<tr>\n",
       "  <th>ar.L4.Electricite</th> <td>   -0.2815</td> <td>    0.070</td> <td>   -4.011</td> <td> 0.000</td> <td>   -0.419</td> <td>   -0.144</td>\n",
       "</tr>\n",
       "<tr>\n",
       "  <th>ma.L1.Electricite</th> <td>   -1.0856</td> <td>    0.430</td> <td>   -2.527</td> <td> 0.012</td> <td>   -1.928</td> <td>   -0.243</td>\n",
       "</tr>\n",
       "<tr>\n",
       "  <th>ma.L2.Electricite</th> <td>   -0.1430</td> <td>    0.682</td> <td>   -0.210</td> <td> 0.834</td> <td>   -1.480</td> <td>    1.194</td>\n",
       "</tr>\n",
       "<tr>\n",
       "  <th>ma.L3.Electricite</th> <td>   -0.3420</td> <td>    0.277</td> <td>   -1.235</td> <td> 0.218</td> <td>   -0.885</td> <td>    0.201</td>\n",
       "</tr>\n",
       "<tr>\n",
       "  <th>ma.L4.Electricite</th> <td>    0.5785</td> <td>    0.197</td> <td>    2.935</td> <td> 0.004</td> <td>    0.192</td> <td>    0.965</td>\n",
       "</tr>\n",
       "</table>\n",
       "<table class=\"simpletable\">\n",
       "<caption>Roots</caption>\n",
       "<tr>\n",
       "    <td></td>   <th>           Real</th> <th>         Imaginary</th> <th>         Modulus</th> <th>        Frequency</th>\n",
       "</tr>\n",
       "<tr>\n",
       "  <th>AR.1</th>              -0.7055                    -0.9466j                    1.1806                   -0.3519     \n",
       "</tr>\n",
       "<tr>\n",
       "  <th>AR.2</th>              -0.7055                    +0.9466j                    1.1806                    0.3519     \n",
       "</tr>\n",
       "<tr>\n",
       "  <th>AR.3</th>               1.0186                    -0.0000j                    1.0186                   -0.0000     \n",
       "</tr>\n",
       "<tr>\n",
       "  <th>AR.4</th>               2.5025                    -0.0000j                    2.5025                   -0.0000     \n",
       "</tr>\n",
       "<tr>\n",
       "  <th>MA.1</th>              -0.7234                    -1.0662j                    1.2884                   -0.3449     \n",
       "</tr>\n",
       "<tr>\n",
       "  <th>MA.2</th>              -0.7234                    +1.0662j                    1.2884                    0.3449     \n",
       "</tr>\n",
       "<tr>\n",
       "  <th>MA.3</th>               1.0190                    -0.0547j                    1.0205                   -0.0085     \n",
       "</tr>\n",
       "<tr>\n",
       "  <th>MA.4</th>               1.0190                    +0.0547j                    1.0205                    0.0085     \n",
       "</tr>\n",
       "</table>"
      ],
      "text/plain": [
       "<class 'statsmodels.iolib.summary.Summary'>\n",
       "\"\"\"\n",
       "                              ARMA Model Results                              \n",
       "==============================================================================\n",
       "Dep. Variable:            Electricite   No. Observations:                  349\n",
       "Model:                     ARMA(4, 4)   Log Likelihood                 600.670\n",
       "Method:                       css-mle   S.D. of innovations              0.043\n",
       "Date:                Tue, 14 May 2019   AIC                          -1181.339\n",
       "Time:                        15:54:00   BIC                          -1142.788\n",
       "Sample:                    02-01-1990   HQIC                         -1165.993\n",
       "                         - 02-01-2019                                         \n",
       "=====================================================================================\n",
       "                        coef    std err          z      P>|z|      [0.025      0.975]\n",
       "-------------------------------------------------------------------------------------\n",
       "const                 0.0013      0.001      2.310      0.021       0.000       0.002\n",
       "ar.L1.Electricite     0.3690      0.406      0.909      0.364      -0.427       1.165\n",
       "ar.L2.Electricite     0.2886      0.332      0.870      0.385      -0.361       0.938\n",
       "ar.L3.Electricite     0.5939      0.192      3.095      0.002       0.218       0.970\n",
       "ar.L4.Electricite    -0.2815      0.070     -4.011      0.000      -0.419      -0.144\n",
       "ma.L1.Electricite    -1.0856      0.430     -2.527      0.012      -1.928      -0.243\n",
       "ma.L2.Electricite    -0.1430      0.682     -0.210      0.834      -1.480       1.194\n",
       "ma.L3.Electricite    -0.3420      0.277     -1.235      0.218      -0.885       0.201\n",
       "ma.L4.Electricite     0.5785      0.197      2.935      0.004       0.192       0.965\n",
       "                                    Roots                                    \n",
       "=============================================================================\n",
       "                 Real           Imaginary           Modulus         Frequency\n",
       "-----------------------------------------------------------------------------\n",
       "AR.1           -0.7055           -0.9466j            1.1806           -0.3519\n",
       "AR.2           -0.7055           +0.9466j            1.1806            0.3519\n",
       "AR.3            1.0186           -0.0000j            1.0186           -0.0000\n",
       "AR.4            2.5025           -0.0000j            2.5025           -0.0000\n",
       "MA.1           -0.7234           -1.0662j            1.2884           -0.3449\n",
       "MA.2           -0.7234           +1.0662j            1.2884            0.3449\n",
       "MA.3            1.0190           -0.0547j            1.0205           -0.0085\n",
       "MA.4            1.0190           +0.0547j            1.0205            0.0085\n",
       "-----------------------------------------------------------------------------\n",
       "\"\"\""
      ]
     },
     "execution_count": 48,
     "metadata": {},
     "output_type": "execute_result"
    }
   ],
   "source": [
    "arma_model = ARMA(s, order=(4,4)).fit()\n",
    "arma_model.summary()"
   ]
  },
  {
   "cell_type": "code",
   "execution_count": 254,
   "metadata": {},
   "outputs": [
    {
     "name": "stdout",
     "output_type": "stream",
     "text": [
      "\\begin{center}\n",
      "\\begin{tabular}{lclc}\n",
      "\\toprule\n",
      "\\textbf{Dep. Variable:} &   Electricite    & \\textbf{  No. Observations:  } &    349     \\\\\n",
      "\\textbf{Model:}         &    ARMA(4, 4)    & \\textbf{  Log Likelihood     } &  600.670   \\\\\n",
      "\\textbf{Method:}        &     css-mle      & \\textbf{  S.D. of innovations} &   0.043    \\\\\n",
      "\\textbf{Date:}          & Sun, 28 Apr 2019 & \\textbf{  AIC                } & -1181.339  \\\\\n",
      "\\textbf{Time:}          &     15:22:20     & \\textbf{  BIC                } & -1142.788  \\\\\n",
      "\\textbf{Sample:}        &    02-01-1990    & \\textbf{  HQIC               } & -1165.993  \\\\\n",
      "\\textbf{}               &   - 02-01-2019   & \\textbf{                     } &            \\\\\n",
      "\\bottomrule\n",
      "\\end{tabular}\n",
      "%\\caption{ARMA Model Results}\n",
      "\\end{center}\n",
      "\\begin{center}\n",
      "\\begin{tabular}{lcccccc}\n",
      "\\toprule\n",
      "                           & \\textbf{coef} & \\textbf{std err} & \\textbf{z} & \\textbf{P$>$$|$z$|$} & \\textbf{[0.025} & \\textbf{0.975]}  \\\\\n",
      "\\midrule\n",
      "\\textbf{const}             &       0.0013  &        0.001     &     2.310  &         0.021        &        0.000    &        0.002     \\\\\n",
      "\\textbf{ar.L1.Electricite} &       0.3690  &        0.406     &     0.909  &         0.364        &       -0.427    &        1.165     \\\\\n",
      "\\textbf{ar.L2.Electricite} &       0.2886  &        0.332     &     0.870  &         0.385        &       -0.361    &        0.938     \\\\\n",
      "\\textbf{ar.L3.Electricite} &       0.5939  &        0.192     &     3.095  &         0.002        &        0.218    &        0.970     \\\\\n",
      "\\textbf{ar.L4.Electricite} &      -0.2815  &        0.070     &    -4.011  &         0.000        &       -0.419    &       -0.144     \\\\\n",
      "\\textbf{ma.L1.Electricite} &      -1.0856  &        0.430     &    -2.527  &         0.012        &       -1.928    &       -0.243     \\\\\n",
      "\\textbf{ma.L2.Electricite} &      -0.1430  &        0.682     &    -0.210  &         0.834        &       -1.480    &        1.194     \\\\\n",
      "\\textbf{ma.L3.Electricite} &      -0.3420  &        0.277     &    -1.235  &         0.218        &       -0.885    &        0.201     \\\\\n",
      "\\textbf{ma.L4.Electricite} &       0.5785  &        0.197     &     2.935  &         0.004        &        0.192    &        0.965     \\\\\n",
      "\\bottomrule\n",
      "\\end{tabular}\n",
      "\\end{center}\n",
      "\\begin{center}\n",
      "\\begin{tabular}{lcccc}\n",
      "\\toprule\n",
      "              & \\textbf{           Real} & \\textbf{         Imaginary} & \\textbf{         Modulus} & \\textbf{        Frequency}  \\\\\n",
      "\\midrule\n",
      "\\textbf{AR.1} &              -0.7055     &                -0.9466j     &                1.1806     &               -0.3519       \\\\\n",
      "\\textbf{AR.2} &              -0.7055     &                +0.9466j     &                1.1806     &                0.3519       \\\\\n",
      "\\textbf{AR.3} &               1.0186     &                -0.0000j     &                1.0186     &               -0.0000       \\\\\n",
      "\\textbf{AR.4} &               2.5025     &                -0.0000j     &                2.5025     &               -0.0000       \\\\\n",
      "\\textbf{MA.1} &              -0.7234     &                -1.0662j     &                1.2884     &               -0.3449       \\\\\n",
      "\\textbf{MA.2} &              -0.7234     &                +1.0662j     &                1.2884     &                0.3449       \\\\\n",
      "\\textbf{MA.3} &               1.0190     &                -0.0547j     &                1.0205     &               -0.0085       \\\\\n",
      "\\textbf{MA.4} &               1.0190     &                +0.0547j     &                1.0205     &                0.0085       \\\\\n",
      "\\bottomrule\n",
      "\\end{tabular}\n",
      "%\\caption{Roots}\n",
      "\\end{center}\n"
     ]
    }
   ],
   "source": [
    "for table in arma_model.summary().tables:\n",
    "    print(table.as_latex_tabular())"
   ]
  },
  {
   "cell_type": "markdown",
   "metadata": {},
   "source": [
    "#### Sorties graphiques pour l'analyse des résidus"
   ]
  },
  {
   "cell_type": "code",
   "execution_count": 255,
   "metadata": {
    "collapsed": true
   },
   "outputs": [],
   "source": [
    "resid = arma_model.resid"
   ]
  },
  {
   "cell_type": "code",
   "execution_count": 294,
   "metadata": {},
   "outputs": [
    {
     "data": {
      "image/png": "[encoded data removed]",
      "text/plain": [
       "<matplotlib.figure.Figure at 0x1c226a5208>"
      ]
     },
     "metadata": {},
     "output_type": "display_data"
    }
   ],
   "source": [
    "with mpl.rc_context():\n",
    "    mpl.rc(\"figure\", figsize=(14,7))\n",
    "\n",
    "    plot_acf(resid, lags=24,\n",
    "             title=u\"acf résidus de la spécification ARMA(4,4)\")\n",
    "    plt.savefig(\"Images/acf_arma.pdf\")"
   ]
  },
  {
   "cell_type": "code",
   "execution_count": 293,
   "metadata": {},
   "outputs": [
    {
     "data": {
      "image/png": "[encoded data removed]",
      "text/plain": [
       "<matplotlib.figure.Figure at 0x1c228ae8d0>"
      ]
     },
     "metadata": {},
     "output_type": "display_data"
    }
   ],
   "source": [
    "resid.plot(title=u\"Résidus de la spécification ARMA(4,4)\",legend=False, figsize=(13,8))\n",
    "plt.savefig(\"Images/resid.pdf\")\n",
    "plt.show()"
   ]
  },
  {
   "cell_type": "code",
   "execution_count": 292,
   "metadata": {},
   "outputs": [
    {
     "data": {
      "image/png": "[encoded data removed]",
      "text/plain": [
       "<matplotlib.figure.Figure at 0x1c220d9d68>"
      ]
     },
     "metadata": {},
     "output_type": "display_data"
    }
   ],
   "source": [
    "with mpl.rc_context():\n",
    "    mpl.rc(\"figure\", figsize=(14,7))\n",
    "\n",
    "    plt.plot(acorr_ljungbox(resid)[1][0:24],'o')\n",
    "    plt.axhline(y=0.05, color='r', linestyle='--')\n",
    "    plt.title('p values pour la statistique Ljung-Box')\n",
    "    plt.ylim([0,1.1])\n",
    "    plt.savefig(\"Images/ljung_resid.pdf\")"
   ]
  },
  {
   "cell_type": "code",
   "execution_count": 288,
   "metadata": {
    "collapsed": true
   },
   "outputs": [],
   "source": [
    "import scipy.stats as stats"
   ]
  },
  {
   "cell_type": "code",
   "execution_count": 291,
   "metadata": {},
   "outputs": [
    {
     "data": {
      "image/png": "[encoded data removed]",
      "text/plain": [
       "<matplotlib.figure.Figure at 0x1c2289ab70>"
      ]
     },
     "metadata": {},
     "output_type": "display_data"
    }
   ],
   "source": [
    "stats.probplot(resid, dist=\"norm\", plot=plt)\n",
    "plt.title(\"QQ-plot des résidus de la spécification ARMA(4,4)\")\n",
    "plt.savefig(\"Images/qqplot_resid.pdf\")\n",
    "plt.show()"
   ]
  },
  {
   "cell_type": "markdown",
   "metadata": {
    "collapsed": true
   },
   "source": [
    "## Sorties $\\LaTeX$"
   ]
  },
  {
   "cell_type": "markdown",
   "metadata": {
    "collapsed": true
   },
   "source": [
    "### Tableau avec tous les modèles testés"
   ]
  },
  {
   "cell_type": "code",
   "execution_count": 229,
   "metadata": {
    "collapsed": true
   },
   "outputs": [],
   "source": [
    "def evaluate_arma_all(dataset, p_values, q_values):\n",
    "\n",
    "    N = dataset.shape[0]\n",
    "    train = dataset.iloc[1:(N-6)]\n",
    "    test = dataset.iloc[(N-6):N]\n",
    "    \n",
    "    info_criterium, mse = pd.DataFrame([],columns=[\"order\",\"AIC\",\"BIC\",\"MSE\"]), None\n",
    "\n",
    "    for p in p_values:\n",
    "\n",
    "        for q in q_values:\n",
    "\n",
    "            my_order = (p, q)\n",
    "\n",
    "            try:\n",
    "\n",
    "                model = ARMA(dataset, order=my_order)\n",
    "                model_fit = model.fit()\n",
    "\n",
    "                model_mse = ARMA(train, order=my_order).fit()\n",
    "                pred = model_mse.forecast(6)[0]\n",
    "                mse = mean_squared_error(pred,test)\n",
    "                        \n",
    "                info_criterium = info_criterium.append(pd.Series({\"order\":my_order,\n",
    "                                                                \"AIC\":model_fit.aic,\n",
    "                                                                \"BIC\":model_fit.bic,\n",
    "                                                                \"MSE\":mse}),\n",
    "                                                                 ignore_index=True)\n",
    "                        \n",
    "                        \n",
    "                        \n",
    "\n",
    "                pvalues_coef, mse = [], None\n",
    "\n",
    "            except:\n",
    "\n",
    "                print(\"je n'ai pas convergé : {}\".format(my_order))\n",
    "                continue\n",
    "                \n",
    "    #info_criterium.set_index(\"order\",inplace=True)\n",
    "    print(\"{} modèles sélectionnés\".format(len(info_criterium)))\n",
    "                \n",
    "\n",
    "    return info_criterium"
   ]
  },
  {
   "cell_type": "code",
   "execution_count": 230,
   "metadata": {},
   "outputs": [
    {
     "name": "stdout",
     "output_type": "stream",
     "text": [
      "je n'ai pas convergé : (0, 4)\n",
      "je n'ai pas convergé : (5, 2)\n",
      "je n'ai pas convergé : (5, 3)\n",
      "je n'ai pas convergé : (5, 4)\n",
      "je n'ai pas convergé : (6, 4)\n",
      "35 modèles sélectionnés\n"
     ]
    }
   ],
   "source": [
    "df_all = evaluate_arma_all(s, p_values, q_values)"
   ]
  },
  {
   "cell_type": "code",
   "execution_count": 233,
   "metadata": {},
   "outputs": [
    {
     "name": "stdout",
     "output_type": "stream",
     "text": [
      "\\begin{tabular}{llrrr}\n",
      "\\toprule\n",
      "{} &   order &          AIC &          BIC &       MSE \\\\\n",
      "\\midrule\n",
      "0  &  (0, 0) & -1042.137421 & -1034.427277 &  0.004712 \\\\\n",
      "1  &  (0, 1) & -1171.858426 & -1160.293211 &  0.004452 \\\\\n",
      "2  &  (0, 2) & -1179.292567 & -1163.872280 &  0.004522 \\\\\n",
      "3  &  (0, 3) & -1177.481335 & -1158.205975 &  0.004538 \\\\\n",
      "4  &  (1, 0) & -1101.850659 & -1090.285444 &  0.004636 \\\\\n",
      "5  &  (1, 1) & -1179.678125 & -1164.257837 &  0.004543 \\\\\n",
      "6  &  (1, 2) & -1177.705787 & -1158.430427 &  0.004544 \\\\\n",
      "7  &  (1, 3) & -1175.731053 & -1152.600621 &  0.004542 \\\\\n",
      "8  &  (1, 4) & -1177.157565 & -1150.172061 &  0.004539 \\\\\n",
      "9  &  (2, 0) & -1129.818906 & -1114.398618 &  0.004360 \\\\\n",
      "10 &  (2, 1) & -1177.703237 & -1158.427878 &  0.004543 \\\\\n",
      "11 &  (2, 2) & -1177.641690 & -1154.511258 &  0.004773 \\\\\n",
      "12 &  (2, 3) & -1176.177085 & -1149.191582 &  0.004842 \\\\\n",
      "13 &  (2, 4) & -1178.521643 & -1147.681068 &  0.004749 \\\\\n",
      "14 &  (3, 0) & -1131.530034 & -1112.254675 &  0.004385 \\\\\n",
      "15 &  (3, 1) & -1175.784844 & -1152.654412 &  0.004535 \\\\\n",
      "16 &  (3, 2) & -1174.304274 & -1147.318771 &  0.004530 \\\\\n",
      "17 &  (3, 3) & -1177.723612 & -1146.883037 &  0.004172 \\\\\n",
      "18 &  (3, 4) & -1176.541449 & -1141.845802 &  0.004631 \\\\\n",
      "19 &  (4, 0) & -1152.913339 & -1129.782907 &  0.004000 \\\\\n",
      "20 &  (4, 1) & -1180.929642 & -1153.944138 &  0.004611 \\\\\n",
      "21 &  (4, 2) & -1179.049131 & -1148.208555 &  0.004606 \\\\\n",
      "22 &  (4, 3) & -1178.288878 & -1143.593231 &  0.004746 \\\\\n",
      "23 &  (4, 4) & -1181.339093 & -1142.788373 &  0.004092 \\\\\n",
      "24 &  (5, 0) & -1165.807874 & -1138.822371 &  0.004742 \\\\\n",
      "25 &  (5, 1) & -1179.240439 & -1148.399863 &  0.004568 \\\\\n",
      "26 &  (6, 0) & -1165.941112 & -1135.100536 &  0.005175 \\\\\n",
      "27 &  (6, 1) & -1178.322995 & -1143.627347 &  0.004713 \\\\\n",
      "28 &  (6, 2) & -1176.907764 & -1138.357045 &  0.004426 \\\\\n",
      "29 &  (6, 3) & -1173.161645 & -1130.755854 &  0.004689 \\\\\n",
      "30 &  (7, 0) & -1169.640823 & -1134.945176 &  0.004242 \\\\\n",
      "31 &  (7, 1) & -1176.896154 & -1138.345435 &  0.004573 \\\\\n",
      "32 &  (7, 2) & -1179.452027 & -1137.046236 &  0.004810 \\\\\n",
      "33 &  (7, 3) & -1178.075826 & -1131.814962 &  0.004647 \\\\\n",
      "34 &  (7, 4) & -1180.872001 & -1130.756066 &  0.004613 \\\\\n",
      "\\bottomrule\n",
      "\\end{tabular}\n",
      "\n"
     ]
    }
   ],
   "source": [
    "print(df_all.to_latex())"
   ]
  },
  {
   "cell_type": "markdown",
   "metadata": {},
   "source": [
    "### Tableau avec les modèles valides"
   ]
  },
  {
   "cell_type": "code",
   "execution_count": 234,
   "metadata": {
    "collapsed": true
   },
   "outputs": [],
   "source": [
    "def evaluate_arma_val(dataset, p_values, q_values):\n",
    "\n",
    "    N = dataset.shape[0]\n",
    "    train = dataset.iloc[1:(N-6)]\n",
    "    test = dataset.iloc[(N-6):N]\n",
    "    \n",
    "    info_criterium, ljung_box, mse = pd.DataFrame([],columns=[\"order\",\"AIC\",\"BIC\",\"MSE\"]), None, None\n",
    "\n",
    "    for p in p_values:\n",
    "\n",
    "        for q in q_values:\n",
    "\n",
    "            my_order = (p, q)\n",
    "\n",
    "            try:\n",
    "\n",
    "                model = ARMA(dataset, order=my_order)\n",
    "                model_fit = model.fit()\n",
    "\n",
    "                # On verifie que toutes les p-value du test de Ljung-box sont bien supérieures à 0.05\n",
    "                ljung_box = np.min(acorr_ljungbox(model_fit.resid)[1])\n",
    "\n",
    "                if ljung_box > 0.05:\n",
    "\n",
    "                    model_mse = ARMA(train, order=my_order).fit()\n",
    "                    pred = model_mse.forecast(6)[0]\n",
    "                    mse = mean_squared_error(pred,test)\n",
    "                        \n",
    "                    info_criterium = info_criterium.append(pd.Series({\"order\":my_order,\n",
    "                                                                \"AIC\":model_fit.aic,\n",
    "                                                                \"BIC\":model_fit.bic,\n",
    "                                                                \"MSE\":mse}),\n",
    "                                                                 ignore_index=True)\n",
    "                        \n",
    "                        \n",
    "                        \n",
    "\n",
    "                    mse = None\n",
    "\n",
    "            except:\n",
    "\n",
    "                print(\"je n'ai pas convergé : {}\".format(my_order))\n",
    "                continue\n",
    "                \n",
    "    #info_criterium.set_index(\"order\",inplace=True)\n",
    "    print(\"{} modèles sélectionnés\".format(len(info_criterium)))\n",
    "                \n",
    "\n",
    "    return info_criterium"
   ]
  },
  {
   "cell_type": "code",
   "execution_count": 235,
   "metadata": {},
   "outputs": [
    {
     "name": "stdout",
     "output_type": "stream",
     "text": [
      "je n'ai pas convergé : (0, 4)\n",
      "je n'ai pas convergé : (5, 2)\n",
      "je n'ai pas convergé : (5, 3)\n",
      "je n'ai pas convergé : (5, 4)\n",
      "je n'ai pas convergé : (6, 4)\n",
      "29 modèles sélectionnés\n"
     ]
    }
   ],
   "source": [
    "df_val = evaluate_arma_val(s, p_values, q_values)"
   ]
  },
  {
   "cell_type": "code",
   "execution_count": 236,
   "metadata": {},
   "outputs": [
    {
     "name": "stdout",
     "output_type": "stream",
     "text": [
      "\\begin{tabular}{llrrr}\n",
      "\\toprule\n",
      "{} &   order &          AIC &          BIC &       MSE \\\\\n",
      "\\midrule\n",
      "0  &  (0, 2) & -1179.292567 & -1163.872280 &  0.004522 \\\\\n",
      "1  &  (0, 3) & -1177.481335 & -1158.205975 &  0.004538 \\\\\n",
      "2  &  (1, 1) & -1179.678125 & -1164.257837 &  0.004543 \\\\\n",
      "3  &  (1, 2) & -1177.705787 & -1158.430427 &  0.004544 \\\\\n",
      "4  &  (1, 3) & -1175.731053 & -1152.600621 &  0.004542 \\\\\n",
      "5  &  (1, 4) & -1177.157565 & -1150.172061 &  0.004539 \\\\\n",
      "6  &  (2, 1) & -1177.703237 & -1158.427878 &  0.004543 \\\\\n",
      "7  &  (2, 2) & -1177.641690 & -1154.511258 &  0.004773 \\\\\n",
      "8  &  (2, 3) & -1176.177085 & -1149.191582 &  0.004842 \\\\\n",
      "9  &  (2, 4) & -1178.521643 & -1147.681068 &  0.004749 \\\\\n",
      "10 &  (3, 1) & -1175.784844 & -1152.654412 &  0.004535 \\\\\n",
      "11 &  (3, 2) & -1174.304274 & -1147.318771 &  0.004530 \\\\\n",
      "12 &  (3, 3) & -1177.723612 & -1146.883037 &  0.004172 \\\\\n",
      "13 &  (3, 4) & -1176.541449 & -1141.845802 &  0.004631 \\\\\n",
      "14 &  (4, 1) & -1180.929642 & -1153.944138 &  0.004611 \\\\\n",
      "15 &  (4, 2) & -1179.049131 & -1148.208555 &  0.004606 \\\\\n",
      "16 &  (4, 3) & -1178.288878 & -1143.593231 &  0.004746 \\\\\n",
      "17 &  (4, 4) & -1181.339093 & -1142.788373 &  0.004092 \\\\\n",
      "18 &  (5, 0) & -1165.807874 & -1138.822371 &  0.004742 \\\\\n",
      "19 &  (5, 1) & -1179.240439 & -1148.399863 &  0.004568 \\\\\n",
      "20 &  (6, 0) & -1165.941112 & -1135.100536 &  0.005175 \\\\\n",
      "21 &  (6, 1) & -1178.322995 & -1143.627347 &  0.004713 \\\\\n",
      "22 &  (6, 2) & -1176.907764 & -1138.357045 &  0.004426 \\\\\n",
      "23 &  (6, 3) & -1173.161645 & -1130.755854 &  0.004689 \\\\\n",
      "24 &  (7, 0) & -1169.640823 & -1134.945176 &  0.004242 \\\\\n",
      "25 &  (7, 1) & -1176.896154 & -1138.345435 &  0.004573 \\\\\n",
      "26 &  (7, 2) & -1179.452027 & -1137.046236 &  0.004810 \\\\\n",
      "27 &  (7, 3) & -1178.075826 & -1131.814962 &  0.004647 \\\\\n",
      "28 &  (7, 4) & -1180.872001 & -1130.756066 &  0.004613 \\\\\n",
      "\\bottomrule\n",
      "\\end{tabular}\n",
      "\n"
     ]
    }
   ],
   "source": [
    "print(df_val.to_latex())"
   ]
  },
  {
   "cell_type": "markdown",
   "metadata": {},
   "source": [
    "### Tableau avec les modèles valides et bon ajustement"
   ]
  },
  {
   "cell_type": "code",
   "execution_count": 237,
   "metadata": {},
   "outputs": [
    {
     "name": "stdout",
     "output_type": "stream",
     "text": [
      "\\begin{tabular}{llrrr}\n",
      "\\toprule\n",
      "{} &   order &          AIC &          BIC &       MSE \\\\\n",
      "\\midrule\n",
      "0 &  (0, 2) & -1179.292567 & -1163.872280 &  0.004522 \\\\\n",
      "1 &  (1, 1) & -1179.678125 & -1164.257837 &  0.004543 \\\\\n",
      "2 &  (2, 2) & -1177.641690 & -1154.511258 &  0.004773 \\\\\n",
      "3 &  (2, 3) & -1176.177085 & -1149.191582 &  0.004842 \\\\\n",
      "4 &  (3, 3) & -1177.723612 & -1146.883037 &  0.004172 \\\\\n",
      "5 &  (4, 1) & -1180.929642 & -1153.944138 &  0.004611 \\\\\n",
      "6 &  (4, 4) & -1181.339093 & -1142.788373 &  0.004092 \\\\\n",
      "7 &  (5, 0) & -1165.807874 & -1138.822371 &  0.004742 \\\\\n",
      "8 &  (7, 0) & -1169.640823 & -1134.945176 &  0.004242 \\\\\n",
      "\\bottomrule\n",
      "\\end{tabular}\n",
      "\n"
     ]
    }
   ],
   "source": [
    "print(df.to_latex())"
   ]
  },
  {
   "cell_type": "markdown",
   "metadata": {},
   "source": [
    "### Prédictions de $X_{t+1}$ et $X_{t+2}$ à la main"
   ]
  },
  {
   "cell_type": "code",
   "execution_count": 13,
   "metadata": {
    "collapsed": true
   },
   "outputs": [],
   "source": [
    "# On se sert des mois de janvier et février qu'on a déjà dans la base comme base de test\n",
    "\n",
    "test = s.iloc[-2:] #base qui contient janvier et février\n",
    "s1 = s.iloc[:-2] #base qui exclut janvier et février"
   ]
  },
  {
   "cell_type": "code",
   "execution_count": 14,
   "metadata": {
    "collapsed": true
   },
   "outputs": [],
   "source": [
    "def lag_X(h): # fonction qui resort X_{t-h}\n",
    "    return(s1.iloc[-h:].values[0][0])\n",
    "\n",
    "def lag_ep(h): # fonction qui resort \\epsilon_{t-h}\n",
    "    return(arma_model.resid.iloc[-h-2:][0]) # -2 pour retirer janvier et février"
   ]
  },
  {
   "cell_type": "code",
   "execution_count": 15,
   "metadata": {
    "collapsed": true
   },
   "outputs": [],
   "source": [
    "def predict_t1(): # fonction qui predit X_{t+1} i.e. janvier\n",
    "       \n",
    "    ar = 0\n",
    "    ma = 0\n",
    "    \n",
    "    for p in range(4):\n",
    "        \n",
    "        ar += arma_model.arparams[p]*lag_X(p+1)\n",
    "        \n",
    "    for q in range(4):\n",
    "        \n",
    "        ma += arma_model.arparams[q]*lag_ep(q+1)\n",
    "        \n",
    "    return(ar-ma)"
   ]
  },
  {
   "cell_type": "code",
   "execution_count": 16,
   "metadata": {
    "collapsed": true
   },
   "outputs": [],
   "source": [
    "def predict_t2(): # fonction qui predit X_{t+2} i.e. février\n",
    "       \n",
    "    ar = 0\n",
    "    ma = 0\n",
    "    \n",
    "    for p in range(1,4):\n",
    "        \n",
    "        ar += arma_model.arparams[p]*lag_X(p+1)\n",
    "        \n",
    "    for q in range(1,4):\n",
    "        \n",
    "        ma += arma_model.arparams[q]*lag_ep(q+1)\n",
    "        \n",
    "    return(ar-ma+arma_model.arparams[0]*predict_t1())"
   ]
  },
  {
   "cell_type": "code",
   "execution_count": 17,
   "metadata": {},
   "outputs": [
    {
     "name": "stdout",
     "output_type": "stream",
     "text": [
      "0.03250866254681324\n",
      "0.04797315730338642\n"
     ]
    }
   ],
   "source": [
    "print(predict_t1())\n",
    "print(predict_t2())"
   ]
  },
  {
   "cell_type": "markdown",
   "metadata": {},
   "source": [
    "### Construction de la région de confiance à 5%"
   ]
  },
  {
   "cell_type": "code",
   "execution_count": 22,
   "metadata": {
    "collapsed": true
   },
   "outputs": [],
   "source": [
    "from scipy.stats import chi2"
   ]
  },
  {
   "cell_type": "code",
   "execution_count": 24,
   "metadata": {
    "collapsed": true
   },
   "outputs": [],
   "source": [
    "phi1 = arma_model.arparams[0]\n",
    "psi1 = arma_model.maparams[0]\n",
    "\n",
    "ssr = sum(arma_model.resid.iloc[:-2]**2)\n",
    "n = s1.shape[0]\n",
    "sigma2 = ssr/(n-2)\n",
    "\n",
    "hat_x1 = predict_t1()\n",
    "hat_x2 = predict_t2()\n",
    "\n",
    "alpha=0.05\n",
    "cv = chi2.isf(q=1-alpha,df=2)"
   ]
  },
  {
   "cell_type": "code",
   "execution_count": 41,
   "metadata": {},
   "outputs": [
    {
     "data": {
      "image/png": "[encoded data removed]",
      "text/plain": [
       "<matplotlib.figure.Figure at 0x1cd7086390>"
      ]
     },
     "metadata": {},
     "output_type": "display_data"
    }
   ],
   "source": [
    "x = np.linspace(0.015, 0.05, 100)\n",
    "y = np.linspace(0.01, 0.08, 100)\n",
    "\n",
    "X, Y = np.meshgrid(x,y) # X = X_t+1, Y = X_t+2\n",
    "\n",
    "F = cv - (1/sigma2)*((((psi1-phi1)*(X-hat_x1)+(Y-hat_x2))**2)+((X-hat_x1)**2)) # équation de l'ellipse\n",
    "\n",
    "with mpl.rc_context():\n",
    "    mpl.rc(\"figure\", figsize=(14,7))\n",
    "    plt.contour(X,Y,F,[0])\n",
    "    plt.xlabel('X_{t+1}')\n",
    "    plt.ylabel('X_{t+2}')\n",
    "    plt.show()"
   ]
  },
  {
   "cell_type": "markdown",
   "metadata": {},
   "source": [
    "### Plot des prédictions"
   ]
  },
  {
   "cell_type": "code",
   "execution_count": 270,
   "metadata": {
    "collapsed": true
   },
   "outputs": [],
   "source": [
    "# On rajoute les prédictions de X_{t+1} et X_{t+2} dans la table initiale - méthode avec la fonction forecast\n",
    "df2 = pd.DataFrame([[arma_model.forecast(steps=2)[0][0]], [arma_model.forecast(steps=2)[0][1]]], columns=[\"Electricite\"], index=[\"2019-01-01\",\"2019-02-01\"])\n",
    "s2 = s1.append(df2)"
   ]
  },
  {
   "cell_type": "code",
   "execution_count": 274,
   "metadata": {
    "collapsed": true
   },
   "outputs": [],
   "source": [
    "# On rajoute les prédictions de X_{t+1} et X_{t+2} dans la table initiale - méthode à la main\n",
    "df3 = pd.DataFrame([[predict_t1()], [predict_t2()]], columns=[\"Electricite\"], index=[\"2019-01-01\",\"2019-02-01\"])\n",
    "s2 = s1.append(df3)"
   ]
  },
  {
   "cell_type": "code",
   "execution_count": 275,
   "metadata": {},
   "outputs": [
    {
     "data": {
      "image/png": "[encoded data removed]",
      "text/plain": [
       "<matplotlib.figure.Figure at 0x1c26890ba8>"
      ]
     },
     "metadata": {},
     "output_type": "display_data"
    }
   ],
   "source": [
    "with mpl.rc_context():\n",
    "    \n",
    "    mpl.rc(\"figure\", figsize=(14,7))\n",
    "\n",
    "    g1 = plt.plot(s.iloc[320:s.shape[0]], label=\"real\")\n",
    "    g2 = plt.plot(s2.iloc[s2.shape[0]-3:s2.shape[0]],'--r', label=\"predict\") # predict, et on récupère le mois d'avant pour que le plot soit plus jolie\n",
    "    plt.legend()\n",
    "    plt.xticks(rotation=45)\n",
    "    plt.show()\n",
    "    plt.savefig(\"Images/predvsreal.png\")"
   ]
  }
 ],
 "metadata": {
  "kernelspec": {
   "display_name": "Python 3",
   "language": "python",
   "name": "python3"
  },
  "language_info": {
   "codemirror_mode": {
    "name": "ipython",
    "version": 3
   },
   "file_extension": ".py",
   "mimetype": "text/x-python",
   "name": "python",
   "nbconvert_exporter": "python",
   "pygments_lexer": "ipython3",
   "version": "3.6.7"
  },
  "latex_envs": {
   "LaTeX_envs_menu_present": true,
   "autoclose": false,
   "autocomplete": true,
   "bibliofile": "biblio.bib",
   "cite_by": "apalike",
   "current_citInitial": 1,
   "eqLabelWithNumbers": true,
   "eqNumInitial": 1,
   "hotkeys": {
    "equation": "Ctrl-E",
    "itemize": "Ctrl-I"
   },
   "labels_anchors": false,
   "latex_user_defs": false,
   "report_style_numbering": false,
   "user_envs_cfg": false
  },
  "toc": {
   "base_numbering": 1,
   "nav_menu": {},
   "number_sections": true,
   "sideBar": true,
   "skip_h1_title": false,
   "title_cell": "Table of Contents",
   "title_sidebar": "Contents",
   "toc_cell": false,
   "toc_position": {},
   "toc_section_display": true,
   "toc_window_display": true
  },
  "varInspector": {
   "cols": {
    "lenName": 16,
    "lenType": 16,
    "lenVar": 40
   },
   "kernels_config": {
    "python": {
     "delete_cmd_postfix": "",
     "delete_cmd_prefix": "del ",
     "library": "var_list.py",
     "varRefreshCmd": "print(var_dic_list())"
    },
    "r": {
     "delete_cmd_postfix": ") ",
     "delete_cmd_prefix": "rm(",
     "library": "var_list.r",
     "varRefreshCmd": "cat(var_dic_list()) "
    }
   },
   "types_to_exclude": [
    "module",
    "function",
    "builtin_function_or_method",
    "instance",
    "_Feature"
   ],
   "window_display": false
  }
 },
 "nbformat": 4,
 "nbformat_minor": 2
}
