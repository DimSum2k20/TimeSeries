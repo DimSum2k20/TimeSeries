{
 "cells": [
  {
   "cell_type": "markdown",
   "metadata": {},
   "source": [
    "# Modèles ARIMA et SARIMA sur le log de la production d'électricité (désaisonnalisé)"
   ]
  },
  {
   "cell_type": "code",
   "execution_count": 1,
   "metadata": {
    "collapsed": true
   },
   "outputs": [],
   "source": [
    "import pandas as pd\n",
    "import matplotlib.pyplot as plt\n",
    "import seaborn as sns\n",
    "import numpy as np\n",
    "sns.set()\n",
    "%matplotlib inline"
   ]
  },
  {
   "cell_type": "markdown",
   "metadata": {},
   "source": [
    "#### Chargement des données et différenciation"
   ]
  },
  {
   "cell_type": "code",
   "execution_count": 2,
   "metadata": {
    "collapsed": true
   },
   "outputs": [],
   "source": [
    "FolderNames = [\"BoulangeriePatisserie\", \"GlacesSorbets\", \"Fromage\", \"Electricite\"]\n",
    "\n",
    "df = pd.read_csv(\n",
    "   \"./{}/valeurs_mensuelles.csv\".format(FolderNames[0]),\n",
    "    sep=\";\",\n",
    "    skiprows=[1, 2],\n",
    "    index_col=\"Libellé\",\n",
    "    parse_dates=[\"Libellé\"])\n",
    "df.columns = [FolderNames[0],\"ToDelete\"]\n",
    "del(df[\"ToDelete\"])\n",
    "\n",
    "\n",
    "for i,name in enumerate(FolderNames):\n",
    "    if i>0:\n",
    "        temp = pd.read_csv(\n",
    "       \"./{}/valeurs_mensuelles.csv\".format(name),\n",
    "        sep=\";\",\n",
    "        skiprows=[1, 2],\n",
    "        index_col=\"Libellé\",\n",
    "        parse_dates=[\"Libellé\"])\n",
    "        temp.columns = [FolderNames[i],\"ToDelete\"]\n",
    "        del(temp[\"ToDelete\"])\n",
    "        df = pd.merge(df, temp, on='Libellé')"
   ]
  },
  {
   "cell_type": "code",
   "execution_count": 8,
   "metadata": {
    "collapsed": true
   },
   "outputs": [],
   "source": [
    "dfE = pd.Series(df.Electricite)\n",
    "log_dfE = np.log(dfE)"
   ]
  },
  {
   "cell_type": "code",
   "execution_count": 9,
   "metadata": {
    "collapsed": true
   },
   "outputs": [],
   "source": [
    "series = pd.Series(log_dfE) \n",
    "X = series.values[::-1]\n",
    "log_dfE_diff = pd.DataFrame(index=series.index[-13::-1], columns=[\"\"])\n",
    "for i in range(12, len(X)):\n",
    "    value = X[i] - X[i - 12]\n",
    "    log_dfE_diff.iloc[i-12,] = value\n",
    "    \n",
    "log_dfE_diff = pd.Series(log_dfE_diff[\"\"].astype(\"float\"))"
   ]
  },
  {
   "cell_type": "markdown",
   "metadata": {},
   "source": [
    "## 1. Etude et comparaison de différents modèles ARIMA et SARIMA"
   ]
  },
  {
   "cell_type": "code",
   "execution_count": 30,
   "metadata": {
    "collapsed": true
   },
   "outputs": [],
   "source": [
    "from statsmodels.graphics.tsaplots import plot_acf, plot_pacf\n",
    "from statsmodels.tsa.arima_model import ARIMA\n",
    "from statsmodels.stats.diagnostic import acorr_ljungbox # test portmanteau\n",
    "from statsmodels.tsa.statespace.sarimax import SARIMAX"
   ]
  },
  {
   "cell_type": "markdown",
   "metadata": {},
   "source": [
    "### 1.1. Sélection de modèles ARIMA - Etude des fonctions d'autocorrélogrammes"
   ]
  },
  {
   "cell_type": "code",
   "execution_count": 10,
   "metadata": {},
   "outputs": [
    {
     "data": {
      "text/plain": [
       "<matplotlib.figure.Figure at 0x1c1749a7b8>"
      ]
     },
     "metadata": {},
     "output_type": "display_data"
    },
    {
     "data": {
      "image/png": "[encoded data removed]",
      "text/plain": [
       "<matplotlib.figure.Figure at 0x1c1749a048>"
      ]
     },
     "metadata": {},
     "output_type": "display_data"
    }
   ],
   "source": [
    "plt.figure(figsize=(10,10))\n",
    "plot_acf(log_dfE_diff.values, lags=60, title=\"acf apres diff. log Prod Elec\")\n",
    "plt.show()"
   ]
  },
  {
   "cell_type": "code",
   "execution_count": 11,
   "metadata": {},
   "outputs": [
    {
     "data": {
      "text/plain": [
       "<matplotlib.figure.Figure at 0x1c176a99b0>"
      ]
     },
     "metadata": {},
     "output_type": "display_data"
    },
    {
     "data": {
      "image/png": "[encoded data removed]",
      "text/plain": [
       "<matplotlib.figure.Figure at 0x1c176a9a58>"
      ]
     },
     "metadata": {},
     "output_type": "display_data"
    }
   ],
   "source": [
    "plt.figure(figsize=(10,10))\n",
    "plot_pacf(log_dfE_diff.values, lags=60, title=\"pacf apres diff. log Prod Elec\")\n",
    "plt.show()"
   ]
  },
  {
   "cell_type": "markdown",
   "metadata": {},
   "source": [
    "**Commentaires:** Il y a encore des autocorrélations (totales et partielles) significatives à des seuils encore élevé. Il est peut-être nécessaire de désaisonnaliser une seconde fois ou de fit un SARIMA ? Ce détail de côté, au regard des autocorrélogrammes on serait tenté de choisir comme ordre p=1 et q=3. "
   ]
  },
  {
   "cell_type": "code",
   "execution_count": 16,
   "metadata": {},
   "outputs": [
    {
     "name": "stderr",
     "output_type": "stream",
     "text": [
      "/anaconda/lib/python3.6/site-packages/statsmodels/tsa/kalmanf/kalmanfilter.py:646: FutureWarning: Conversion of the second argument of issubdtype from `float` to `np.floating` is deprecated. In future, it will be treated as `np.float64 == np.dtype(float).type`.\n",
      "  if issubdtype(paramsdtype, float):\n",
      "/anaconda/lib/python3.6/site-packages/statsmodels/tsa/kalmanf/kalmanfilter.py:650: FutureWarning: Conversion of the second argument of issubdtype from `complex` to `np.complexfloating` is deprecated. In future, it will be treated as `np.complex128 == np.dtype(complex).type`.\n",
      "  elif issubdtype(paramsdtype, complex):\n"
     ]
    },
    {
     "data": {
      "text/html": [
       "<table class=\"simpletable\">\n",
       "<caption>ARMA Model Results</caption>\n",
       "<tr>\n",
       "  <th>Dep. Variable:</th>         <td>y</td>        <th>  No. Observations:  </th>    <td>337</td>   \n",
       "</tr>\n",
       "<tr>\n",
       "  <th>Model:</th>            <td>ARMA(1, 3)</td>    <th>  Log Likelihood     </th>  <td>583.094</td> \n",
       "</tr>\n",
       "<tr>\n",
       "  <th>Method:</th>             <td>css-mle</td>     <th>  S.D. of innovations</th>   <td>0.043</td>  \n",
       "</tr>\n",
       "<tr>\n",
       "  <th>Date:</th>          <td>Mon, 08 Apr 2019</td> <th>  AIC                </th> <td>-1154.189</td>\n",
       "</tr>\n",
       "<tr>\n",
       "  <th>Time:</th>              <td>22:47:25</td>     <th>  BIC                </th> <td>-1131.268</td>\n",
       "</tr>\n",
       "<tr>\n",
       "  <th>Sample:</th>           <td>01-01-1991</td>    <th>  HQIC               </th> <td>-1145.053</td>\n",
       "</tr>\n",
       "<tr>\n",
       "  <th></th>                 <td>- 01-01-2019</td>   <th>                     </th>     <td> </td>    \n",
       "</tr>\n",
       "</table>\n",
       "<table class=\"simpletable\">\n",
       "<tr>\n",
       "     <td></td>        <th>coef</th>     <th>std err</th>      <th>z</th>      <th>P>|z|</th>  <th>[0.025</th>    <th>0.975]</th>  \n",
       "</tr>\n",
       "<tr>\n",
       "  <th>const</th>   <td>    0.0116</td> <td>    0.006</td> <td>    2.006</td> <td> 0.046</td> <td>    0.000</td> <td>    0.023</td>\n",
       "</tr>\n",
       "<tr>\n",
       "  <th>ar.L1.y</th> <td>    0.7773</td> <td>    0.129</td> <td>    6.035</td> <td> 0.000</td> <td>    0.525</td> <td>    1.030</td>\n",
       "</tr>\n",
       "<tr>\n",
       "  <th>ma.L1.y</th> <td>   -0.3602</td> <td>    0.144</td> <td>   -2.505</td> <td> 0.013</td> <td>   -0.642</td> <td>   -0.078</td>\n",
       "</tr>\n",
       "<tr>\n",
       "  <th>ma.L2.y</th> <td>   -0.0730</td> <td>    0.085</td> <td>   -0.863</td> <td> 0.389</td> <td>   -0.239</td> <td>    0.093</td>\n",
       "</tr>\n",
       "<tr>\n",
       "  <th>ma.L3.y</th> <td>   -0.0140</td> <td>    0.068</td> <td>   -0.205</td> <td> 0.838</td> <td>   -0.148</td> <td>    0.120</td>\n",
       "</tr>\n",
       "</table>\n",
       "<table class=\"simpletable\">\n",
       "<caption>Roots</caption>\n",
       "<tr>\n",
       "    <td></td>   <th>           Real</th> <th>         Imaginary</th> <th>         Modulus</th> <th>        Frequency</th>\n",
       "</tr>\n",
       "<tr>\n",
       "  <th>AR.1</th>               1.2865                    +0.0000j                    1.2865                    0.0000     \n",
       "</tr>\n",
       "<tr>\n",
       "  <th>MA.1</th>               1.8436                    -0.0000j                    1.8436                   -0.0000     \n",
       "</tr>\n",
       "<tr>\n",
       "  <th>MA.2</th>              -3.5274                    -5.1247j                    6.2214                   -0.3459     \n",
       "</tr>\n",
       "<tr>\n",
       "  <th>MA.3</th>              -3.5274                    +5.1247j                    6.2214                    0.3459     \n",
       "</tr>\n",
       "</table>"
      ],
      "text/plain": [
       "<class 'statsmodels.iolib.summary.Summary'>\n",
       "\"\"\"\n",
       "                              ARMA Model Results                              \n",
       "==============================================================================\n",
       "Dep. Variable:                      y   No. Observations:                  337\n",
       "Model:                     ARMA(1, 3)   Log Likelihood                 583.094\n",
       "Method:                       css-mle   S.D. of innovations              0.043\n",
       "Date:                Mon, 08 Apr 2019   AIC                          -1154.189\n",
       "Time:                        22:47:25   BIC                          -1131.268\n",
       "Sample:                    01-01-1991   HQIC                         -1145.053\n",
       "                         - 01-01-2019                                         \n",
       "==============================================================================\n",
       "                 coef    std err          z      P>|z|      [0.025      0.975]\n",
       "------------------------------------------------------------------------------\n",
       "const          0.0116      0.006      2.006      0.046       0.000       0.023\n",
       "ar.L1.y        0.7773      0.129      6.035      0.000       0.525       1.030\n",
       "ma.L1.y       -0.3602      0.144     -2.505      0.013      -0.642      -0.078\n",
       "ma.L2.y       -0.0730      0.085     -0.863      0.389      -0.239       0.093\n",
       "ma.L3.y       -0.0140      0.068     -0.205      0.838      -0.148       0.120\n",
       "                                    Roots                                    \n",
       "=============================================================================\n",
       "                 Real           Imaginary           Modulus         Frequency\n",
       "-----------------------------------------------------------------------------\n",
       "AR.1            1.2865           +0.0000j            1.2865            0.0000\n",
       "MA.1            1.8436           -0.0000j            1.8436           -0.0000\n",
       "MA.2           -3.5274           -5.1247j            6.2214           -0.3459\n",
       "MA.3           -3.5274           +5.1247j            6.2214            0.3459\n",
       "-----------------------------------------------------------------------------\n",
       "\"\"\""
      ]
     },
     "execution_count": 16,
     "metadata": {},
     "output_type": "execute_result"
    }
   ],
   "source": [
    "arima_model = ARIMA(log_dfE_diff, order=(1,0,3)).fit()\n",
    "arima_model.summary()"
   ]
  },
  {
   "cell_type": "markdown",
   "metadata": {},
   "source": [
    "**Commentaires:** Les deux derniers coefficients de la partie MA ne sont pas significatifs."
   ]
  },
  {
   "cell_type": "code",
   "execution_count": 45,
   "metadata": {},
   "outputs": [
    {
     "name": "stderr",
     "output_type": "stream",
     "text": [
      "/anaconda/lib/python3.6/site-packages/statsmodels/tsa/kalmanf/kalmanfilter.py:646: FutureWarning: Conversion of the second argument of issubdtype from `float` to `np.floating` is deprecated. In future, it will be treated as `np.float64 == np.dtype(float).type`.\n",
      "  if issubdtype(paramsdtype, float):\n",
      "/anaconda/lib/python3.6/site-packages/statsmodels/tsa/kalmanf/kalmanfilter.py:650: FutureWarning: Conversion of the second argument of issubdtype from `complex` to `np.complexfloating` is deprecated. In future, it will be treated as `np.complex128 == np.dtype(complex).type`.\n",
      "  elif issubdtype(paramsdtype, complex):\n"
     ]
    },
    {
     "data": {
      "text/html": [
       "<table class=\"simpletable\">\n",
       "<caption>ARMA Model Results</caption>\n",
       "<tr>\n",
       "  <th>Dep. Variable:</th>         <td>y</td>        <th>  No. Observations:  </th>    <td>337</td>   \n",
       "</tr>\n",
       "<tr>\n",
       "  <th>Model:</th>            <td>ARMA(1, 1)</td>    <th>  Log Likelihood     </th>  <td>582.818</td> \n",
       "</tr>\n",
       "<tr>\n",
       "  <th>Method:</th>             <td>css-mle</td>     <th>  S.D. of innovations</th>   <td>0.043</td>  \n",
       "</tr>\n",
       "<tr>\n",
       "  <th>Date:</th>          <td>Mon, 08 Apr 2019</td> <th>  AIC                </th> <td>-1157.636</td>\n",
       "</tr>\n",
       "<tr>\n",
       "  <th>Time:</th>              <td>23:02:14</td>     <th>  BIC                </th> <td>-1142.356</td>\n",
       "</tr>\n",
       "<tr>\n",
       "  <th>Sample:</th>           <td>01-01-1991</td>    <th>  HQIC               </th> <td>-1151.546</td>\n",
       "</tr>\n",
       "<tr>\n",
       "  <th></th>                 <td>- 01-01-2019</td>   <th>                     </th>     <td> </td>    \n",
       "</tr>\n",
       "</table>\n",
       "<table class=\"simpletable\">\n",
       "<tr>\n",
       "     <td></td>        <th>coef</th>     <th>std err</th>      <th>z</th>      <th>P>|z|</th>  <th>[0.025</th>    <th>0.975]</th>  \n",
       "</tr>\n",
       "<tr>\n",
       "  <th>const</th>   <td>    0.0114</td> <td>    0.005</td> <td>    2.140</td> <td> 0.033</td> <td>    0.001</td> <td>    0.022</td>\n",
       "</tr>\n",
       "<tr>\n",
       "  <th>ar.L1.y</th> <td>    0.6762</td> <td>    0.091</td> <td>    7.442</td> <td> 0.000</td> <td>    0.498</td> <td>    0.854</td>\n",
       "</tr>\n",
       "<tr>\n",
       "  <th>ma.L1.y</th> <td>   -0.2621</td> <td>    0.119</td> <td>   -2.209</td> <td> 0.028</td> <td>   -0.495</td> <td>   -0.029</td>\n",
       "</tr>\n",
       "</table>\n",
       "<table class=\"simpletable\">\n",
       "<caption>Roots</caption>\n",
       "<tr>\n",
       "    <td></td>   <th>           Real</th> <th>         Imaginary</th> <th>         Modulus</th> <th>        Frequency</th>\n",
       "</tr>\n",
       "<tr>\n",
       "  <th>AR.1</th>               1.4788                    +0.0000j                    1.4788                    0.0000     \n",
       "</tr>\n",
       "<tr>\n",
       "  <th>MA.1</th>               3.8158                    +0.0000j                    3.8158                    0.0000     \n",
       "</tr>\n",
       "</table>"
      ],
      "text/plain": [
       "<class 'statsmodels.iolib.summary.Summary'>\n",
       "\"\"\"\n",
       "                              ARMA Model Results                              \n",
       "==============================================================================\n",
       "Dep. Variable:                      y   No. Observations:                  337\n",
       "Model:                     ARMA(1, 1)   Log Likelihood                 582.818\n",
       "Method:                       css-mle   S.D. of innovations              0.043\n",
       "Date:                Mon, 08 Apr 2019   AIC                          -1157.636\n",
       "Time:                        23:02:14   BIC                          -1142.356\n",
       "Sample:                    01-01-1991   HQIC                         -1151.546\n",
       "                         - 01-01-2019                                         \n",
       "==============================================================================\n",
       "                 coef    std err          z      P>|z|      [0.025      0.975]\n",
       "------------------------------------------------------------------------------\n",
       "const          0.0114      0.005      2.140      0.033       0.001       0.022\n",
       "ar.L1.y        0.6762      0.091      7.442      0.000       0.498       0.854\n",
       "ma.L1.y       -0.2621      0.119     -2.209      0.028      -0.495      -0.029\n",
       "                                    Roots                                    \n",
       "=============================================================================\n",
       "                 Real           Imaginary           Modulus         Frequency\n",
       "-----------------------------------------------------------------------------\n",
       "AR.1            1.4788           +0.0000j            1.4788            0.0000\n",
       "MA.1            3.8158           +0.0000j            3.8158            0.0000\n",
       "-----------------------------------------------------------------------------\n",
       "\"\"\""
      ]
     },
     "execution_count": 45,
     "metadata": {},
     "output_type": "execute_result"
    }
   ],
   "source": [
    "arima_model = ARIMA(log_dfE_diff, order=(1,0,1)).fit()\n",
    "arima_model.summary()"
   ]
  },
  {
   "cell_type": "markdown",
   "metadata": {},
   "source": [
    "**Commentaires:** Tous les coefficients sont significatifs et l'AIC et le BIC sont meilleurs. Il faudrait vérifier les résidus (qq-plot, test portmanteau)."
   ]
  },
  {
   "cell_type": "code",
   "execution_count": 46,
   "metadata": {},
   "outputs": [
    {
     "name": "stderr",
     "output_type": "stream",
     "text": [
      "/anaconda/lib/python3.6/site-packages/statsmodels/tsa/kalmanf/kalmanfilter.py:577: FutureWarning: Conversion of the second argument of issubdtype from `float` to `np.floating` is deprecated. In future, it will be treated as `np.float64 == np.dtype(float).type`.\n",
      "  if issubdtype(paramsdtype, float):\n"
     ]
    }
   ],
   "source": [
    "residuals = [log_dfE_diff[i]-arima_model.predict()[i] for i in range(len(log_dfE_diff))] "
   ]
  },
  {
   "cell_type": "code",
   "execution_count": 44,
   "metadata": {},
   "outputs": [
    {
     "name": "stdout",
     "output_type": "stream",
     "text": [
      "[3.92290133e-36 8.91812244e-44 6.40983273e-46 6.55551964e-46\n",
      " 1.21897614e-45 3.06232718e-45 5.67213039e-45 3.77134157e-45\n",
      " 1.83081426e-44 1.39028806e-44 6.85301077e-49 1.42263599e-60\n",
      " 2.68592973e-65 4.16696910e-66 2.94149230e-67 5.90629611e-68\n",
      " 5.93291017e-68 6.63317537e-68 1.42934674e-68 4.52063157e-70\n",
      " 1.28476562e-70 2.51332310e-70 3.59109987e-70 8.93986697e-70\n",
      " 3.53797900e-69 1.27932697e-68 4.05751072e-69 2.49204081e-70\n",
      " 4.99684911e-71 1.88954358e-71 2.22475520e-72 2.96016205e-74\n",
      " 1.96275678e-76 8.70766693e-78 9.40602150e-79 1.11952652e-78\n",
      " 4.11773225e-78 1.04768723e-77 4.50008020e-78 1.97959842e-78]\n"
     ]
    }
   ],
   "source": [
    "print(acorr_ljungbox(residuals, lags=40)[1])"
   ]
  },
  {
   "cell_type": "markdown",
   "metadata": {},
   "source": [
    "### 1.2. Sélection de modèles SARIMA - Etude des fonctions d'autocorrélogrammes"
   ]
  },
  {
   "cell_type": "markdown",
   "metadata": {},
   "source": [
    "On se resert des fonctions d'autocorrélations totales et partielles précédentes pour identifier les ordre (p,d,q) et (P,D,Q):"
   ]
  },
  {
   "cell_type": "code",
   "execution_count": 50,
   "metadata": {},
   "outputs": [
    {
     "name": "stderr",
     "output_type": "stream",
     "text": [
      "/anaconda/lib/python3.6/site-packages/statsmodels/base/model.py:496: ConvergenceWarning: Maximum Likelihood optimization failed to converge. Check mle_retvals\n",
      "  \"Check mle_retvals\", ConvergenceWarning)\n"
     ]
    },
    {
     "data": {
      "text/html": [
       "<table class=\"simpletable\">\n",
       "<caption>Statespace Model Results</caption>\n",
       "<tr>\n",
       "  <th>Dep. Variable:</th>                  <td>y</td>               <th>  No. Observations:  </th>    <td>337</td>   \n",
       "</tr>\n",
       "<tr>\n",
       "  <th>Model:</th>           <td>SARIMAX(1, 0, 3)x(3, 0, 1, 12)</td> <th>  Log Likelihood     </th>  <td>659.834</td> \n",
       "</tr>\n",
       "<tr>\n",
       "  <th>Date:</th>                   <td>Mon, 08 Apr 2019</td>        <th>  AIC                </th> <td>-1301.667</td>\n",
       "</tr>\n",
       "<tr>\n",
       "  <th>Time:</th>                       <td>23:06:24</td>            <th>  BIC                </th> <td>-1267.287</td>\n",
       "</tr>\n",
       "<tr>\n",
       "  <th>Sample:</th>                    <td>01-01-1991</td>           <th>  HQIC               </th> <td>-1287.964</td>\n",
       "</tr>\n",
       "<tr>\n",
       "  <th></th>                          <td>- 01-01-2019</td>          <th>                     </th>     <td> </td>    \n",
       "</tr>\n",
       "<tr>\n",
       "  <th>Covariance Type:</th>               <td>opg</td>              <th>                     </th>     <td> </td>    \n",
       "</tr>\n",
       "</table>\n",
       "<table class=\"simpletable\">\n",
       "<tr>\n",
       "      <td></td>        <th>coef</th>     <th>std err</th>      <th>z</th>      <th>P>|z|</th>  <th>[0.025</th>    <th>0.975]</th>  \n",
       "</tr>\n",
       "<tr>\n",
       "  <th>ar.L1</th>    <td>    0.9715</td> <td>    0.014</td> <td>   70.674</td> <td> 0.000</td> <td>    0.945</td> <td>    0.998</td>\n",
       "</tr>\n",
       "<tr>\n",
       "  <th>ma.L1</th>    <td>   -0.4847</td> <td>    0.046</td> <td>  -10.447</td> <td> 0.000</td> <td>   -0.576</td> <td>   -0.394</td>\n",
       "</tr>\n",
       "<tr>\n",
       "  <th>ma.L2</th>    <td>   -0.1023</td> <td>    0.057</td> <td>   -1.789</td> <td> 0.074</td> <td>   -0.214</td> <td>    0.010</td>\n",
       "</tr>\n",
       "<tr>\n",
       "  <th>ma.L3</th>    <td>   -0.1262</td> <td>    0.051</td> <td>   -2.485</td> <td> 0.013</td> <td>   -0.226</td> <td>   -0.027</td>\n",
       "</tr>\n",
       "<tr>\n",
       "  <th>ar.S.L12</th> <td>   -0.5484</td> <td>    0.184</td> <td>   -2.986</td> <td> 0.003</td> <td>   -0.908</td> <td>   -0.188</td>\n",
       "</tr>\n",
       "<tr>\n",
       "  <th>ar.S.L24</th> <td>   -0.3809</td> <td>    0.152</td> <td>   -2.512</td> <td> 0.012</td> <td>   -0.678</td> <td>   -0.084</td>\n",
       "</tr>\n",
       "<tr>\n",
       "  <th>ar.S.L36</th> <td>   -0.1535</td> <td>    0.101</td> <td>   -1.518</td> <td> 0.129</td> <td>   -0.352</td> <td>    0.045</td>\n",
       "</tr>\n",
       "<tr>\n",
       "  <th>ma.S.L12</th> <td>   -0.2912</td> <td>    0.197</td> <td>   -1.476</td> <td> 0.140</td> <td>   -0.678</td> <td>    0.095</td>\n",
       "</tr>\n",
       "<tr>\n",
       "  <th>sigma2</th>   <td>    0.0011</td> <td> 7.49e-05</td> <td>   15.016</td> <td> 0.000</td> <td>    0.001</td> <td>    0.001</td>\n",
       "</tr>\n",
       "</table>\n",
       "<table class=\"simpletable\">\n",
       "<tr>\n",
       "  <th>Ljung-Box (Q):</th>          <td>38.27</td> <th>  Jarque-Bera (JB):  </th> <td>23.82</td>\n",
       "</tr>\n",
       "<tr>\n",
       "  <th>Prob(Q):</th>                <td>0.55</td>  <th>  Prob(JB):          </th> <td>0.00</td> \n",
       "</tr>\n",
       "<tr>\n",
       "  <th>Heteroskedasticity (H):</th> <td>0.74</td>  <th>  Skew:              </th> <td>0.12</td> \n",
       "</tr>\n",
       "<tr>\n",
       "  <th>Prob(H) (two-sided):</th>    <td>0.12</td>  <th>  Kurtosis:          </th> <td>4.28</td> \n",
       "</tr>\n",
       "</table>"
      ],
      "text/plain": [
       "<class 'statsmodels.iolib.summary.Summary'>\n",
       "\"\"\"\n",
       "                                 Statespace Model Results                                 \n",
       "==========================================================================================\n",
       "Dep. Variable:                                  y   No. Observations:                  337\n",
       "Model:             SARIMAX(1, 0, 3)x(3, 0, 1, 12)   Log Likelihood                 659.834\n",
       "Date:                            Mon, 08 Apr 2019   AIC                          -1301.667\n",
       "Time:                                    23:06:24   BIC                          -1267.287\n",
       "Sample:                                01-01-1991   HQIC                         -1287.964\n",
       "                                     - 01-01-2019                                         \n",
       "Covariance Type:                              opg                                         \n",
       "==============================================================================\n",
       "                 coef    std err          z      P>|z|      [0.025      0.975]\n",
       "------------------------------------------------------------------------------\n",
       "ar.L1          0.9715      0.014     70.674      0.000       0.945       0.998\n",
       "ma.L1         -0.4847      0.046    -10.447      0.000      -0.576      -0.394\n",
       "ma.L2         -0.1023      0.057     -1.789      0.074      -0.214       0.010\n",
       "ma.L3         -0.1262      0.051     -2.485      0.013      -0.226      -0.027\n",
       "ar.S.L12      -0.5484      0.184     -2.986      0.003      -0.908      -0.188\n",
       "ar.S.L24      -0.3809      0.152     -2.512      0.012      -0.678      -0.084\n",
       "ar.S.L36      -0.1535      0.101     -1.518      0.129      -0.352       0.045\n",
       "ma.S.L12      -0.2912      0.197     -1.476      0.140      -0.678       0.095\n",
       "sigma2         0.0011   7.49e-05     15.016      0.000       0.001       0.001\n",
       "===================================================================================\n",
       "Ljung-Box (Q):                       38.27   Jarque-Bera (JB):                23.82\n",
       "Prob(Q):                              0.55   Prob(JB):                         0.00\n",
       "Heteroskedasticity (H):               0.74   Skew:                             0.12\n",
       "Prob(H) (two-sided):                  0.12   Kurtosis:                         4.28\n",
       "===================================================================================\n",
       "\n",
       "Warnings:\n",
       "[1] Covariance matrix calculated using the outer product of gradients (complex-step).\n",
       "\"\"\""
      ]
     },
     "execution_count": 50,
     "metadata": {},
     "output_type": "execute_result"
    }
   ],
   "source": [
    "sarima_model = SARIMAX(log_dfE_diff, order=(1,0,3), seasonal_order=(3,0,1,12)).fit()\n",
    "sarima_model.summary()"
   ]
  },
  {
   "cell_type": "markdown",
   "metadata": {},
   "source": [
    "**Commentaires:** Certains coefs ne sont pas significatifs, en revanche la statistique Ljung-Box confirme que les résidus sont indépendants, mais le test Jarque-Bera conduit à dire qu'ils ne sont pas normaux. On ré estime le modèle sans les coefficients non significatifs."
   ]
  },
  {
   "cell_type": "code",
   "execution_count": 51,
   "metadata": {},
   "outputs": [
    {
     "name": "stderr",
     "output_type": "stream",
     "text": [
      "/anaconda/lib/python3.6/site-packages/statsmodels/base/model.py:496: ConvergenceWarning: Maximum Likelihood optimization failed to converge. Check mle_retvals\n",
      "  \"Check mle_retvals\", ConvergenceWarning)\n"
     ]
    },
    {
     "data": {
      "text/html": [
       "<table class=\"simpletable\">\n",
       "<caption>Statespace Model Results</caption>\n",
       "<tr>\n",
       "  <th>Dep. Variable:</th>                  <td>y</td>               <th>  No. Observations:  </th>    <td>337</td>   \n",
       "</tr>\n",
       "<tr>\n",
       "  <th>Model:</th>           <td>SARIMAX(1, 0, 3)x(2, 0, 0, 12)</td> <th>  Log Likelihood     </th>  <td>648.169</td> \n",
       "</tr>\n",
       "<tr>\n",
       "  <th>Date:</th>                   <td>Mon, 08 Apr 2019</td>        <th>  AIC                </th> <td>-1282.337</td>\n",
       "</tr>\n",
       "<tr>\n",
       "  <th>Time:</th>                       <td>23:06:30</td>            <th>  BIC                </th> <td>-1255.596</td>\n",
       "</tr>\n",
       "<tr>\n",
       "  <th>Sample:</th>                    <td>01-01-1991</td>           <th>  HQIC               </th> <td>-1271.679</td>\n",
       "</tr>\n",
       "<tr>\n",
       "  <th></th>                          <td>- 01-01-2019</td>          <th>                     </th>     <td> </td>    \n",
       "</tr>\n",
       "<tr>\n",
       "  <th>Covariance Type:</th>               <td>opg</td>              <th>                     </th>     <td> </td>    \n",
       "</tr>\n",
       "</table>\n",
       "<table class=\"simpletable\">\n",
       "<tr>\n",
       "      <td></td>        <th>coef</th>     <th>std err</th>      <th>z</th>      <th>P>|z|</th>  <th>[0.025</th>    <th>0.975]</th>  \n",
       "</tr>\n",
       "<tr>\n",
       "  <th>ar.L1</th>    <td>    0.9735</td> <td>    0.015</td> <td>   66.594</td> <td> 0.000</td> <td>    0.945</td> <td>    1.002</td>\n",
       "</tr>\n",
       "<tr>\n",
       "  <th>ma.L1</th>    <td>   -0.4885</td> <td>    0.052</td> <td>   -9.480</td> <td> 0.000</td> <td>   -0.590</td> <td>   -0.388</td>\n",
       "</tr>\n",
       "<tr>\n",
       "  <th>ma.L2</th>    <td>   -0.1670</td> <td>    0.059</td> <td>   -2.834</td> <td> 0.005</td> <td>   -0.283</td> <td>   -0.052</td>\n",
       "</tr>\n",
       "<tr>\n",
       "  <th>ma.L3</th>    <td>   -0.1085</td> <td>    0.052</td> <td>   -2.089</td> <td> 0.037</td> <td>   -0.210</td> <td>   -0.007</td>\n",
       "</tr>\n",
       "<tr>\n",
       "  <th>ar.S.L12</th> <td>   -0.7078</td> <td>    0.050</td> <td>  -14.108</td> <td> 0.000</td> <td>   -0.806</td> <td>   -0.609</td>\n",
       "</tr>\n",
       "<tr>\n",
       "  <th>ar.S.L24</th> <td>   -0.3930</td> <td>    0.049</td> <td>   -8.073</td> <td> 0.000</td> <td>   -0.488</td> <td>   -0.298</td>\n",
       "</tr>\n",
       "<tr>\n",
       "  <th>sigma2</th>   <td>    0.0012</td> <td> 8.82e-05</td> <td>   14.046</td> <td> 0.000</td> <td>    0.001</td> <td>    0.001</td>\n",
       "</tr>\n",
       "</table>\n",
       "<table class=\"simpletable\">\n",
       "<tr>\n",
       "  <th>Ljung-Box (Q):</th>          <td>51.77</td> <th>  Jarque-Bera (JB):  </th> <td>17.03</td>\n",
       "</tr>\n",
       "<tr>\n",
       "  <th>Prob(Q):</th>                <td>0.10</td>  <th>  Prob(JB):          </th> <td>0.00</td> \n",
       "</tr>\n",
       "<tr>\n",
       "  <th>Heteroskedasticity (H):</th> <td>0.78</td>  <th>  Skew:              </th> <td>0.12</td> \n",
       "</tr>\n",
       "<tr>\n",
       "  <th>Prob(H) (two-sided):</th>    <td>0.20</td>  <th>  Kurtosis:          </th> <td>4.08</td> \n",
       "</tr>\n",
       "</table>"
      ],
      "text/plain": [
       "<class 'statsmodels.iolib.summary.Summary'>\n",
       "\"\"\"\n",
       "                                 Statespace Model Results                                 \n",
       "==========================================================================================\n",
       "Dep. Variable:                                  y   No. Observations:                  337\n",
       "Model:             SARIMAX(1, 0, 3)x(2, 0, 0, 12)   Log Likelihood                 648.169\n",
       "Date:                            Mon, 08 Apr 2019   AIC                          -1282.337\n",
       "Time:                                    23:06:30   BIC                          -1255.596\n",
       "Sample:                                01-01-1991   HQIC                         -1271.679\n",
       "                                     - 01-01-2019                                         \n",
       "Covariance Type:                              opg                                         \n",
       "==============================================================================\n",
       "                 coef    std err          z      P>|z|      [0.025      0.975]\n",
       "------------------------------------------------------------------------------\n",
       "ar.L1          0.9735      0.015     66.594      0.000       0.945       1.002\n",
       "ma.L1         -0.4885      0.052     -9.480      0.000      -0.590      -0.388\n",
       "ma.L2         -0.1670      0.059     -2.834      0.005      -0.283      -0.052\n",
       "ma.L3         -0.1085      0.052     -2.089      0.037      -0.210      -0.007\n",
       "ar.S.L12      -0.7078      0.050    -14.108      0.000      -0.806      -0.609\n",
       "ar.S.L24      -0.3930      0.049     -8.073      0.000      -0.488      -0.298\n",
       "sigma2         0.0012   8.82e-05     14.046      0.000       0.001       0.001\n",
       "===================================================================================\n",
       "Ljung-Box (Q):                       51.77   Jarque-Bera (JB):                17.03\n",
       "Prob(Q):                              0.10   Prob(JB):                         0.00\n",
       "Heteroskedasticity (H):               0.78   Skew:                             0.12\n",
       "Prob(H) (two-sided):                  0.20   Kurtosis:                         4.08\n",
       "===================================================================================\n",
       "\n",
       "Warnings:\n",
       "[1] Covariance matrix calculated using the outer product of gradients (complex-step).\n",
       "\"\"\""
      ]
     },
     "execution_count": 51,
     "metadata": {},
     "output_type": "execute_result"
    }
   ],
   "source": [
    "sarima_model = SARIMAX(log_dfE_diff, order=(1,0,3), seasonal_order=(2,0,0,12)).fit()\n",
    "sarima_model.summary()"
   ]
  },
  {
   "cell_type": "markdown",
   "metadata": {},
   "source": [
    "**Commentaires:** Les coefficients sont tous significatifs mais les critères d'information sont moins bons."
   ]
  },
  {
   "cell_type": "markdown",
   "metadata": {},
   "source": [
    "**Remarque:** Ici on peut comparer les critères d'informations des AIC et BIC car on considère la même série log_dfE_diff que l'on a pas re différencier ou re désaisonnaliser. La différence est que l'on considère plus de polynômes dans le cas du SARIMA. Pour l'instant les critères sont minimisés avec les SARIMA. "
   ]
  },
  {
   "cell_type": "markdown",
   "metadata": {},
   "source": [
    "### 1.3. Sélection de modèles ARIMA et SARIMA - Critères de l'AIC et du BIC"
   ]
  },
  {
   "cell_type": "code",
   "execution_count": 55,
   "metadata": {
    "collapsed": true
   },
   "outputs": [],
   "source": [
    "import warnings\n",
    "warnings.filterwarnings(\"ignore\")"
   ]
  },
  {
   "cell_type": "markdown",
   "metadata": {},
   "source": [
    "On cherche à sélectionner parmi une classe plus large de modèles celui qui minimise les deux critères d'information AIC et BIC. On se sert des deux fonctions suivantes:"
   ]
  },
  {
   "cell_type": "code",
   "execution_count": 2,
   "metadata": {
    "collapsed": true
   },
   "outputs": [],
   "source": [
    "def evaluate_arima_ic(dataset, p_values, d_values, q_values):\n",
    "    \n",
    "    X = dataset.values.astype('float32')\n",
    "    \n",
    "    best_aic, best_bic, best_cfg_1, best_cfg_2 = float(\"inf\"), float(\"inf\"), None, None\n",
    "    for p in p_values:\n",
    "        for d in d_values:\n",
    "            for q in q_values:\n",
    "                order = (p,d,q)\n",
    "                try:\n",
    "                    model = ARIMA(X, order=order)\n",
    "                    model_fit = model.fit()\n",
    "                    aic = model_fit.aic\n",
    "                    bic = model_fit.bic\n",
    "                    if aic < best_aic:\n",
    "                        best_aic, best_cfg_1 = aic, order\n",
    "                    if bic < best_bic:\n",
    "                        best_bic, best_cfg_2 = bic, order\n",
    "                except:\n",
    "                    continue\n",
    "    print('Best ARIMA: %s AIC = %.3f' % (best_cfg_1, best_aic))\n",
    "    print('Best ARIMA: %s BIC = %.3f' % (best_cfg_2, best_bic))\n",
    "    return best_cfg_1, best_cfg_2\n",
    "\n",
    "def evaluate_sarima_ic(dataset, p_values, d_values, q_values, seasonal_order):\n",
    "    \n",
    "    X = dataset.values.astype('float32')\n",
    "    \n",
    "    best_aic, best_bic, best_cfg_1, best_cfg_2 = float(\"inf\"), float(\"inf\"), None, None\n",
    "    \n",
    "    for p in p_values:\n",
    "        for d in d_values:\n",
    "            for q in q_values:\n",
    "                             \n",
    "                order = (p,d,q)\n",
    "                            \n",
    "                try:\n",
    "                    model = SARIMAX(X, order=order, seasonal_order=seasonal_order)\n",
    "                    model_fit = model.fit()\n",
    "                    aic = model_fit.aic\n",
    "                    bic = model_fit.bic\n",
    "                    if aic < best_aic:\n",
    "                        best_aic, best_cfg_1 = aic, order\n",
    "                    if bic < best_bic:\n",
    "                        best_bic, best_cfg_2 = bic, order\n",
    "                except:\n",
    "                    continue\n",
    "                                \n",
    "    print('Best SARIMA: %s AIC = %.3f' % (best_cfg_1, best_aic))\n",
    "    print('Best SARIMA: %s BIC = %.3f' % (best_cfg_2, best_bic))\n",
    "    return best_cfg_1, best_cfg_2"
   ]
  },
  {
   "cell_type": "code",
   "execution_count": 4,
   "metadata": {},
   "outputs": [],
   "source": [
    "p_values = [0, 1, 2, 3, 4, 5]\n",
    "d_values = [0, 1]\n",
    "q_values = [0, 1, 2, 3, 4, 5]\n",
    "\n",
    "seasonal_order = (1,0,1,12)"
   ]
  },
  {
   "cell_type": "markdown",
   "metadata": {},
   "source": [
    "**Remarque:** Il serait trop coûteux de tester un SARIMA pour différentes valeurs de (P,D,Q)."
   ]
  },
  {
   "cell_type": "code",
   "execution_count": 56,
   "metadata": {},
   "outputs": [
    {
     "name": "stdout",
     "output_type": "stream",
     "text": [
      "Best ARIMA: (5, 0, 4) AIC = -1193.249\n",
      "Best ARIMA: (5, 0, 4) BIC = -1151.228\n"
     ]
    },
    {
     "data": {
      "text/plain": [
       "((5, 0, 4), (5, 0, 4))"
      ]
     },
     "execution_count": 56,
     "metadata": {},
     "output_type": "execute_result"
    }
   ],
   "source": [
    "evaluate_arima_ic(log_dfE_diff, p_values, d_values, q_values)"
   ]
  },
  {
   "cell_type": "code",
   "execution_count": null,
   "metadata": {
    "collapsed": true
   },
   "outputs": [],
   "source": [
    "arima_model = ARIMA(log_dfE_diff, order=(5,0,4)).fit()\n",
    "arima_model.summary()"
   ]
  },
  {
   "cell_type": "code",
   "execution_count": null,
   "metadata": {},
   "outputs": [],
   "source": [
    "evaluate_sarima_ic(log_dfE_diff, p_values, d_values, seasonal_order)"
   ]
  },
  {
   "cell_type": "code",
   "execution_count": null,
   "metadata": {
    "collapsed": true
   },
   "outputs": [],
   "source": [
    "sarima_model = SARIMAX(log_dfE_diff, order=(5,0,4), seasonal_order=(,,,12)).fit()\n",
    "sarima_model.summary()"
   ]
  },
  {
   "cell_type": "markdown",
   "metadata": {},
   "source": [
    "## 2. Validations des modèles"
   ]
  },
  {
   "cell_type": "markdown",
   "metadata": {},
   "source": [
    "### 2.1. Analyse graphique des résidus"
   ]
  },
  {
   "cell_type": "code",
   "execution_count": null,
   "metadata": {
    "collapsed": true
   },
   "outputs": [],
   "source": [
    "def analyse_residus(dataset, order):\n",
    "    \n",
    "    X = dataset.values.astype('float32')\n",
    "\n",
    "    p = order[0]\n",
    "    q = order[2]\n",
    "    \n",
    "    arima_model = ARIMA(X, order=order)\n",
    "    arima_model_fit = sarima_model.fit()\n",
    "    \n",
    "    # Etude des résidus\n",
    "    \n",
    "    predictions = sarima_model_fit.predict()\n",
    "    residuals = [X[i]-predictions[i] for i in range(len(X))]\n",
    "    residuals_df = pd.DataFrame(residuals)\n",
    "    \n",
    "    # Graphique des résidus\n",
    "    \n",
    "    fig = plt.figure(figsize=(12,4))\n",
    "    fig.subplots_adjust(hspace=0.4, wspace=0.4)\n",
    "    \n",
    "    plt.subplot(131)\n",
    "    residuals_df.hist(ax=plt.gca())\n",
    "    plt.suptitle(\"Etude des résidus\")\n",
    "    plt.subplot(132)\n",
    "    residuals_df.plot(kind='kde', ax=plt.gca(), legend=False)\n",
    "    plt.subplot(133)\n",
    "    stats.probplot(residuals, dist=\"norm\", plot=plt)\n",
    "    plt.show()\n",
    "    \n",
    "    plot_acf(residuals, lags=60, title=\"acf residuals\")\n",
    "    plot_pacf(residuals, lags=60, title=\"pacf residuals\")\n",
    "    "
   ]
  },
  {
   "cell_type": "markdown",
   "metadata": {},
   "source": [
    "### 2.2. Test portmanteau"
   ]
  },
  {
   "cell_type": "code",
   "execution_count": null,
   "metadata": {
    "collapsed": true
   },
   "outputs": [],
   "source": []
  }
 ],
 "metadata": {
  "kernelspec": {
   "display_name": "Python 3",
   "language": "python",
   "name": "python3"
  },
  "language_info": {
   "codemirror_mode": {
    "name": "ipython",
    "version": 3
   },
   "file_extension": ".py",
   "mimetype": "text/x-python",
   "name": "python",
   "nbconvert_exporter": "python",
   "pygments_lexer": "ipython3",
   "version": "3.6.1"
  }
 },
 "nbformat": 4,
 "nbformat_minor": 2
}
